{
 "cells": [
  {
   "cell_type": "code",
   "execution_count": 1,
   "id": "50101eee-7a5f-402d-8850-e3fcd236f4e7",
   "metadata": {},
   "outputs": [],
   "source": [
    "import numpy as np\n",
    "import matplotlib.pyplot as plt\n",
    "import sncosmo\n",
    "from bayesn import SEDmodel\n",
    "import matplotlib.patches as mpatches\n",
    "import os\n",
    "import pandas as pd\n",
    "import pickle"
   ]
  },
  {
   "cell_type": "markdown",
   "id": "d6f19a3c-01bb-4938-8f98-a2494b0d201a",
   "metadata": {},
   "source": [
    "## Make a list of SN"
   ]
  },
  {
   "cell_type": "code",
   "execution_count": 2,
   "id": "92f32f68-4e30-44bc-a189-75dcb8c16fc3",
   "metadata": {},
   "outputs": [],
   "source": [
    "directory = os.fsencode(\"/root/partiiiproject/Archive\")\n",
    "supernovae_names = [\"sn2006hb\"]\n",
    "for file in os.listdir(directory):\n",
    "    filename = os.fsdecode(file)\n",
    "    if filename.endswith(\".dat\"):\n",
    "        supernovae_names.append(filename[:-4])\n",
    "        continue\n",
    "    else:\n",
    "        continue\n"
   ]
  },
  {
   "cell_type": "markdown",
   "id": "fd49fc7b-1450-496f-9059-8c69615f7613",
   "metadata": {},
   "source": [
    "## List of Dust laws"
   ]
  },
  {
   "cell_type": "code",
   "execution_count": 3,
   "id": "85ab7dbd-cf21-4c1c-ba8c-6f3dd906acc9",
   "metadata": {},
   "outputs": [],
   "source": [
    "dust_laws = ('F99', 'F19', 'G23')\n",
    "method = \"sim\" #\"fit\" or \"sim\""
   ]
  },
  {
   "cell_type": "markdown",
   "id": "239fd273-cce5-417b-8c90-3a5ef6ebdd44",
   "metadata": {},
   "source": [
    "## Set up data frame"
   ]
  },
  {
   "cell_type": "code",
   "execution_count": 4,
   "id": "0c575ed7-89c9-49de-8293-83a2733ad6e0",
   "metadata": {},
   "outputs": [
    {
     "name": "stdout",
     "output_type": "stream",
     "text": [
      "          F99  F19  G23\n",
      "sn2006hb  NaN  NaN  NaN\n",
      "sn2006hb  NaN  NaN  NaN\n",
      "sn2008fl  NaN  NaN  NaN\n",
      "sn2007jg  NaN  NaN  NaN\n",
      "sn2008R   NaN  NaN  NaN\n",
      "...       ...  ...  ...\n",
      "sn2007hj  NaN  NaN  NaN\n",
      "sn2005ki  NaN  NaN  NaN\n",
      "sn2007bc  NaN  NaN  NaN\n",
      "sn2005iq  NaN  NaN  NaN\n",
      "sn2008bq  NaN  NaN  NaN\n",
      "\n",
      "[91 rows x 3 columns]\n"
     ]
    }
   ],
   "source": [
    "df = pd.DataFrame(columns=dust_laws)\n",
    "df = pd.DataFrame(df, index=supernovae_names)\n",
    "print(df)\n",
    "#df.to_csv(\"ChiSquared\"+method+\".csv\")"
   ]
  },
  {
   "cell_type": "markdown",
   "id": "5ae4ede9-8168-44a1-99aa-3eb67629d1a8",
   "metadata": {},
   "source": [
    "## Load W22 Model"
   ]
  },
  {
   "cell_type": "code",
   "execution_count": 5,
   "id": "95b1929b-5cb1-4b6d-8206-654b97fc87e6",
   "metadata": {},
   "outputs": [
    {
     "name": "stderr",
     "output_type": "stream",
     "text": [
      "An NVIDIA GPU may be present on this machine, but a CUDA-enabled jaxlib is not installed. Falling back to cpu.\n"
     ]
    },
    {
     "name": "stdout",
     "output_type": "stream",
     "text": [
      "Current devices: [CpuDevice(id=0), CpuDevice(id=1), CpuDevice(id=2), CpuDevice(id=3)]\n",
      "Currently working in /root/partiiiproject\n",
      "Loading built-in model W22_model\n",
      "Loading built-in reddening law F99\n"
     ]
    }
   ],
   "source": [
    "filter_yaml = \"/root/partiiiproject/bayesn-filters/bayesn-filters/filters.yaml\"\n",
    "model = SEDmodel(load_model='W22_model', filter_yaml = filter_yaml)"
   ]
  },
  {
   "cell_type": "markdown",
   "id": "b1ed0961-55af-4a50-b578-8be2d6b5a306",
   "metadata": {},
   "source": [
    "## Open  Existing Dataframe"
   ]
  },
  {
   "cell_type": "code",
   "execution_count": 6,
   "id": "d59deba4-555f-47e5-ad79-b9d571e64a3f",
   "metadata": {},
   "outputs": [
    {
     "name": "stdout",
     "output_type": "stream",
     "text": [
      "                   F99         F19           G23\n",
      "sn2006hb  25203.101601         NaN  24731.056540\n",
      "sn2006hb  25203.101601         NaN  24731.056540\n",
      "sn2008fl    336.825466  328.461439    378.334341\n",
      "sn2007jg     43.982658   57.898956     65.075437\n",
      "sn2008R      38.130881  164.590138    281.429539\n",
      "...                ...         ...           ...\n",
      "sn2007hj           NaN         NaN           NaN\n",
      "sn2005ki           NaN         NaN           NaN\n",
      "sn2007bc           NaN         NaN           NaN\n",
      "sn2005iq           NaN         NaN           NaN\n",
      "sn2008bq           NaN         NaN           NaN\n",
      "\n",
      "[91 rows x 3 columns]\n"
     ]
    }
   ],
   "source": [
    "df = pd.read_csv(\"ChiSquared\"+method+\".csv\")\n",
    "df = df.drop(['Unnamed: 0'], axis=1)\n",
    "df.index = supernovae_names\n",
    "print(df)"
   ]
  },
  {
   "cell_type": "markdown",
   "id": "4a774b6f-31cd-46ac-a43a-e88e5891a9fc",
   "metadata": {},
   "source": [
    "## Loop through all SN - Method 1 (simulate light curves)"
   ]
  },
  {
   "cell_type": "code",
   "execution_count": 7,
   "id": "755afb88-8b90-47fc-962c-6a3f22c7eebd",
   "metadata": {},
   "outputs": [
    {
     "name": "stderr",
     "output_type": "stream",
     "text": [
      "/tmp/ipykernel_26153/3920134667.py:61: DeprecationWarning: Conversion of an array with ndim > 0 to a scalar is deprecated, and will error in future. Ensure you extract a single element from your array before performing this operation. (Deprecated NumPy 1.25.)\n",
      "  chi_squared[i] = chi_squared_calc[0]\n"
     ]
    },
    {
     "name": "stdout",
     "output_type": "stream",
     "text": [
      "2 out of 273\n"
     ]
    },
    {
     "name": "stderr",
     "output_type": "stream",
     "text": [
      "/tmp/ipykernel_26153/3920134667.py:61: DeprecationWarning: Conversion of an array with ndim > 0 to a scalar is deprecated, and will error in future. Ensure you extract a single element from your array before performing this operation. (Deprecated NumPy 1.25.)\n",
      "  chi_squared[i] = chi_squared_calc[0]\n"
     ]
    },
    {
     "name": "stdout",
     "output_type": "stream",
     "text": [
      "3 out of 273\n"
     ]
    },
    {
     "name": "stderr",
     "output_type": "stream",
     "text": [
      "/tmp/ipykernel_26153/3920134667.py:61: DeprecationWarning: Conversion of an array with ndim > 0 to a scalar is deprecated, and will error in future. Ensure you extract a single element from your array before performing this operation. (Deprecated NumPy 1.25.)\n",
      "  chi_squared[i] = chi_squared_calc[0]\n"
     ]
    },
    {
     "name": "stdout",
     "output_type": "stream",
     "text": [
      "4 out of 273\n"
     ]
    },
    {
     "name": "stderr",
     "output_type": "stream",
     "text": [
      "/tmp/ipykernel_26153/3920134667.py:61: DeprecationWarning: Conversion of an array with ndim > 0 to a scalar is deprecated, and will error in future. Ensure you extract a single element from your array before performing this operation. (Deprecated NumPy 1.25.)\n",
      "  chi_squared[i] = chi_squared_calc[0]\n"
     ]
    },
    {
     "name": "stdout",
     "output_type": "stream",
     "text": [
      "5 out of 273\n"
     ]
    },
    {
     "name": "stderr",
     "output_type": "stream",
     "text": [
      "/tmp/ipykernel_26153/3920134667.py:61: DeprecationWarning: Conversion of an array with ndim > 0 to a scalar is deprecated, and will error in future. Ensure you extract a single element from your array before performing this operation. (Deprecated NumPy 1.25.)\n",
      "  chi_squared[i] = chi_squared_calc[0]\n"
     ]
    },
    {
     "name": "stdout",
     "output_type": "stream",
     "text": [
      "6 out of 273\n"
     ]
    },
    {
     "name": "stderr",
     "output_type": "stream",
     "text": [
      "/tmp/ipykernel_26153/3920134667.py:61: DeprecationWarning: Conversion of an array with ndim > 0 to a scalar is deprecated, and will error in future. Ensure you extract a single element from your array before performing this operation. (Deprecated NumPy 1.25.)\n",
      "  chi_squared[i] = chi_squared_calc[0]\n"
     ]
    },
    {
     "name": "stdout",
     "output_type": "stream",
     "text": [
      "7 out of 273\n"
     ]
    },
    {
     "name": "stderr",
     "output_type": "stream",
     "text": [
      "/tmp/ipykernel_26153/3920134667.py:61: DeprecationWarning: Conversion of an array with ndim > 0 to a scalar is deprecated, and will error in future. Ensure you extract a single element from your array before performing this operation. (Deprecated NumPy 1.25.)\n",
      "  chi_squared[i] = chi_squared_calc[0]\n"
     ]
    },
    {
     "name": "stdout",
     "output_type": "stream",
     "text": [
      "8 out of 273\n"
     ]
    },
    {
     "name": "stderr",
     "output_type": "stream",
     "text": [
      "/tmp/ipykernel_26153/3920134667.py:61: DeprecationWarning: Conversion of an array with ndim > 0 to a scalar is deprecated, and will error in future. Ensure you extract a single element from your array before performing this operation. (Deprecated NumPy 1.25.)\n",
      "  chi_squared[i] = chi_squared_calc[0]\n"
     ]
    },
    {
     "name": "stdout",
     "output_type": "stream",
     "text": [
      "9 out of 273\n"
     ]
    },
    {
     "name": "stderr",
     "output_type": "stream",
     "text": [
      "/tmp/ipykernel_26153/3920134667.py:61: DeprecationWarning: Conversion of an array with ndim > 0 to a scalar is deprecated, and will error in future. Ensure you extract a single element from your array before performing this operation. (Deprecated NumPy 1.25.)\n",
      "  chi_squared[i] = chi_squared_calc[0]\n"
     ]
    },
    {
     "name": "stdout",
     "output_type": "stream",
     "text": [
      "10 out of 273\n"
     ]
    },
    {
     "name": "stderr",
     "output_type": "stream",
     "text": [
      "/tmp/ipykernel_26153/3920134667.py:61: DeprecationWarning: Conversion of an array with ndim > 0 to a scalar is deprecated, and will error in future. Ensure you extract a single element from your array before performing this operation. (Deprecated NumPy 1.25.)\n",
      "  chi_squared[i] = chi_squared_calc[0]\n"
     ]
    },
    {
     "name": "stdout",
     "output_type": "stream",
     "text": [
      "11 out of 273\n"
     ]
    },
    {
     "name": "stderr",
     "output_type": "stream",
     "text": [
      "/tmp/ipykernel_26153/3920134667.py:61: DeprecationWarning: Conversion of an array with ndim > 0 to a scalar is deprecated, and will error in future. Ensure you extract a single element from your array before performing this operation. (Deprecated NumPy 1.25.)\n",
      "  chi_squared[i] = chi_squared_calc[0]\n"
     ]
    },
    {
     "name": "stdout",
     "output_type": "stream",
     "text": [
      "12 out of 273\n"
     ]
    },
    {
     "name": "stderr",
     "output_type": "stream",
     "text": [
      "/tmp/ipykernel_26153/3920134667.py:61: DeprecationWarning: Conversion of an array with ndim > 0 to a scalar is deprecated, and will error in future. Ensure you extract a single element from your array before performing this operation. (Deprecated NumPy 1.25.)\n",
      "  chi_squared[i] = chi_squared_calc[0]\n"
     ]
    },
    {
     "name": "stdout",
     "output_type": "stream",
     "text": [
      "13 out of 273\n"
     ]
    },
    {
     "name": "stderr",
     "output_type": "stream",
     "text": [
      "/tmp/ipykernel_26153/3920134667.py:61: DeprecationWarning: Conversion of an array with ndim > 0 to a scalar is deprecated, and will error in future. Ensure you extract a single element from your array before performing this operation. (Deprecated NumPy 1.25.)\n",
      "  chi_squared[i] = chi_squared_calc[0]\n"
     ]
    },
    {
     "name": "stdout",
     "output_type": "stream",
     "text": [
      "14 out of 273\n"
     ]
    },
    {
     "name": "stderr",
     "output_type": "stream",
     "text": [
      "/tmp/ipykernel_26153/3920134667.py:61: DeprecationWarning: Conversion of an array with ndim > 0 to a scalar is deprecated, and will error in future. Ensure you extract a single element from your array before performing this operation. (Deprecated NumPy 1.25.)\n",
      "  chi_squared[i] = chi_squared_calc[0]\n"
     ]
    },
    {
     "name": "stdout",
     "output_type": "stream",
     "text": [
      "15 out of 273\n"
     ]
    },
    {
     "name": "stderr",
     "output_type": "stream",
     "text": [
      "/tmp/ipykernel_26153/3920134667.py:61: DeprecationWarning: Conversion of an array with ndim > 0 to a scalar is deprecated, and will error in future. Ensure you extract a single element from your array before performing this operation. (Deprecated NumPy 1.25.)\n",
      "  chi_squared[i] = chi_squared_calc[0]\n"
     ]
    },
    {
     "name": "stdout",
     "output_type": "stream",
     "text": [
      "16 out of 273\n"
     ]
    },
    {
     "name": "stderr",
     "output_type": "stream",
     "text": [
      "/tmp/ipykernel_26153/3920134667.py:61: DeprecationWarning: Conversion of an array with ndim > 0 to a scalar is deprecated, and will error in future. Ensure you extract a single element from your array before performing this operation. (Deprecated NumPy 1.25.)\n",
      "  chi_squared[i] = chi_squared_calc[0]\n"
     ]
    },
    {
     "name": "stdout",
     "output_type": "stream",
     "text": [
      "17 out of 273\n"
     ]
    },
    {
     "name": "stderr",
     "output_type": "stream",
     "text": [
      "/tmp/ipykernel_26153/3920134667.py:61: DeprecationWarning: Conversion of an array with ndim > 0 to a scalar is deprecated, and will error in future. Ensure you extract a single element from your array before performing this operation. (Deprecated NumPy 1.25.)\n",
      "  chi_squared[i] = chi_squared_calc[0]\n"
     ]
    },
    {
     "name": "stdout",
     "output_type": "stream",
     "text": [
      "18 out of 273\n"
     ]
    },
    {
     "name": "stderr",
     "output_type": "stream",
     "text": [
      "/tmp/ipykernel_26153/3920134667.py:61: DeprecationWarning: Conversion of an array with ndim > 0 to a scalar is deprecated, and will error in future. Ensure you extract a single element from your array before performing this operation. (Deprecated NumPy 1.25.)\n",
      "  chi_squared[i] = chi_squared_calc[0]\n"
     ]
    },
    {
     "name": "stdout",
     "output_type": "stream",
     "text": [
      "19 out of 273\n"
     ]
    },
    {
     "name": "stderr",
     "output_type": "stream",
     "text": [
      "/tmp/ipykernel_26153/3920134667.py:61: DeprecationWarning: Conversion of an array with ndim > 0 to a scalar is deprecated, and will error in future. Ensure you extract a single element from your array before performing this operation. (Deprecated NumPy 1.25.)\n",
      "  chi_squared[i] = chi_squared_calc[0]\n"
     ]
    },
    {
     "name": "stdout",
     "output_type": "stream",
     "text": [
      "20 out of 273\n"
     ]
    },
    {
     "name": "stderr",
     "output_type": "stream",
     "text": [
      "/tmp/ipykernel_26153/3920134667.py:61: DeprecationWarning: Conversion of an array with ndim > 0 to a scalar is deprecated, and will error in future. Ensure you extract a single element from your array before performing this operation. (Deprecated NumPy 1.25.)\n",
      "  chi_squared[i] = chi_squared_calc[0]\n"
     ]
    },
    {
     "name": "stdout",
     "output_type": "stream",
     "text": [
      "21 out of 273\n"
     ]
    },
    {
     "name": "stderr",
     "output_type": "stream",
     "text": [
      "/tmp/ipykernel_26153/3920134667.py:61: DeprecationWarning: Conversion of an array with ndim > 0 to a scalar is deprecated, and will error in future. Ensure you extract a single element from your array before performing this operation. (Deprecated NumPy 1.25.)\n",
      "  chi_squared[i] = chi_squared_calc[0]\n"
     ]
    },
    {
     "name": "stdout",
     "output_type": "stream",
     "text": [
      "22 out of 273\n"
     ]
    },
    {
     "name": "stderr",
     "output_type": "stream",
     "text": [
      "/tmp/ipykernel_26153/3920134667.py:61: DeprecationWarning: Conversion of an array with ndim > 0 to a scalar is deprecated, and will error in future. Ensure you extract a single element from your array before performing this operation. (Deprecated NumPy 1.25.)\n",
      "  chi_squared[i] = chi_squared_calc[0]\n"
     ]
    },
    {
     "name": "stdout",
     "output_type": "stream",
     "text": [
      "23 out of 273\n"
     ]
    },
    {
     "name": "stderr",
     "output_type": "stream",
     "text": [
      "/tmp/ipykernel_26153/3920134667.py:61: DeprecationWarning: Conversion of an array with ndim > 0 to a scalar is deprecated, and will error in future. Ensure you extract a single element from your array before performing this operation. (Deprecated NumPy 1.25.)\n",
      "  chi_squared[i] = chi_squared_calc[0]\n"
     ]
    },
    {
     "name": "stdout",
     "output_type": "stream",
     "text": [
      "24 out of 273\n"
     ]
    },
    {
     "name": "stderr",
     "output_type": "stream",
     "text": [
      "/tmp/ipykernel_26153/3920134667.py:61: DeprecationWarning: Conversion of an array with ndim > 0 to a scalar is deprecated, and will error in future. Ensure you extract a single element from your array before performing this operation. (Deprecated NumPy 1.25.)\n",
      "  chi_squared[i] = chi_squared_calc[0]\n"
     ]
    },
    {
     "name": "stdout",
     "output_type": "stream",
     "text": [
      "25 out of 273\n"
     ]
    },
    {
     "name": "stderr",
     "output_type": "stream",
     "text": [
      "/tmp/ipykernel_26153/3920134667.py:61: DeprecationWarning: Conversion of an array with ndim > 0 to a scalar is deprecated, and will error in future. Ensure you extract a single element from your array before performing this operation. (Deprecated NumPy 1.25.)\n",
      "  chi_squared[i] = chi_squared_calc[0]\n"
     ]
    },
    {
     "name": "stdout",
     "output_type": "stream",
     "text": [
      "26 out of 273\n"
     ]
    },
    {
     "name": "stderr",
     "output_type": "stream",
     "text": [
      "/tmp/ipykernel_26153/3920134667.py:61: DeprecationWarning: Conversion of an array with ndim > 0 to a scalar is deprecated, and will error in future. Ensure you extract a single element from your array before performing this operation. (Deprecated NumPy 1.25.)\n",
      "  chi_squared[i] = chi_squared_calc[0]\n"
     ]
    },
    {
     "name": "stdout",
     "output_type": "stream",
     "text": [
      "27 out of 273\n"
     ]
    },
    {
     "name": "stderr",
     "output_type": "stream",
     "text": [
      "/tmp/ipykernel_26153/3920134667.py:61: DeprecationWarning: Conversion of an array with ndim > 0 to a scalar is deprecated, and will error in future. Ensure you extract a single element from your array before performing this operation. (Deprecated NumPy 1.25.)\n",
      "  chi_squared[i] = chi_squared_calc[0]\n"
     ]
    },
    {
     "name": "stdout",
     "output_type": "stream",
     "text": [
      "28 out of 273\n"
     ]
    },
    {
     "name": "stderr",
     "output_type": "stream",
     "text": [
      "/tmp/ipykernel_26153/3920134667.py:61: DeprecationWarning: Conversion of an array with ndim > 0 to a scalar is deprecated, and will error in future. Ensure you extract a single element from your array before performing this operation. (Deprecated NumPy 1.25.)\n",
      "  chi_squared[i] = chi_squared_calc[0]\n"
     ]
    },
    {
     "name": "stdout",
     "output_type": "stream",
     "text": [
      "29 out of 273\n"
     ]
    },
    {
     "name": "stderr",
     "output_type": "stream",
     "text": [
      "/tmp/ipykernel_26153/3920134667.py:61: DeprecationWarning: Conversion of an array with ndim > 0 to a scalar is deprecated, and will error in future. Ensure you extract a single element from your array before performing this operation. (Deprecated NumPy 1.25.)\n",
      "  chi_squared[i] = chi_squared_calc[0]\n"
     ]
    },
    {
     "name": "stdout",
     "output_type": "stream",
     "text": [
      "30 out of 273\n"
     ]
    },
    {
     "name": "stderr",
     "output_type": "stream",
     "text": [
      "/tmp/ipykernel_26153/3920134667.py:61: DeprecationWarning: Conversion of an array with ndim > 0 to a scalar is deprecated, and will error in future. Ensure you extract a single element from your array before performing this operation. (Deprecated NumPy 1.25.)\n",
      "  chi_squared[i] = chi_squared_calc[0]\n"
     ]
    },
    {
     "name": "stdout",
     "output_type": "stream",
     "text": [
      "31 out of 273\n"
     ]
    },
    {
     "name": "stderr",
     "output_type": "stream",
     "text": [
      "/tmp/ipykernel_26153/3920134667.py:61: DeprecationWarning: Conversion of an array with ndim > 0 to a scalar is deprecated, and will error in future. Ensure you extract a single element from your array before performing this operation. (Deprecated NumPy 1.25.)\n",
      "  chi_squared[i] = chi_squared_calc[0]\n"
     ]
    },
    {
     "name": "stdout",
     "output_type": "stream",
     "text": [
      "32 out of 273\n"
     ]
    },
    {
     "name": "stderr",
     "output_type": "stream",
     "text": [
      "/tmp/ipykernel_26153/3920134667.py:61: DeprecationWarning: Conversion of an array with ndim > 0 to a scalar is deprecated, and will error in future. Ensure you extract a single element from your array before performing this operation. (Deprecated NumPy 1.25.)\n",
      "  chi_squared[i] = chi_squared_calc[0]\n"
     ]
    },
    {
     "name": "stdout",
     "output_type": "stream",
     "text": [
      "33 out of 273\n"
     ]
    },
    {
     "name": "stderr",
     "output_type": "stream",
     "text": [
      "/tmp/ipykernel_26153/3920134667.py:61: DeprecationWarning: Conversion of an array with ndim > 0 to a scalar is deprecated, and will error in future. Ensure you extract a single element from your array before performing this operation. (Deprecated NumPy 1.25.)\n",
      "  chi_squared[i] = chi_squared_calc[0]\n"
     ]
    },
    {
     "name": "stdout",
     "output_type": "stream",
     "text": [
      "34 out of 273\n"
     ]
    },
    {
     "name": "stderr",
     "output_type": "stream",
     "text": [
      "/tmp/ipykernel_26153/3920134667.py:61: DeprecationWarning: Conversion of an array with ndim > 0 to a scalar is deprecated, and will error in future. Ensure you extract a single element from your array before performing this operation. (Deprecated NumPy 1.25.)\n",
      "  chi_squared[i] = chi_squared_calc[0]\n"
     ]
    },
    {
     "name": "stdout",
     "output_type": "stream",
     "text": [
      "35 out of 273\n"
     ]
    },
    {
     "name": "stderr",
     "output_type": "stream",
     "text": [
      "/tmp/ipykernel_26153/3920134667.py:61: DeprecationWarning: Conversion of an array with ndim > 0 to a scalar is deprecated, and will error in future. Ensure you extract a single element from your array before performing this operation. (Deprecated NumPy 1.25.)\n",
      "  chi_squared[i] = chi_squared_calc[0]\n"
     ]
    },
    {
     "name": "stdout",
     "output_type": "stream",
     "text": [
      "36 out of 273\n"
     ]
    },
    {
     "name": "stderr",
     "output_type": "stream",
     "text": [
      "/tmp/ipykernel_26153/3920134667.py:61: DeprecationWarning: Conversion of an array with ndim > 0 to a scalar is deprecated, and will error in future. Ensure you extract a single element from your array before performing this operation. (Deprecated NumPy 1.25.)\n",
      "  chi_squared[i] = chi_squared_calc[0]\n"
     ]
    },
    {
     "name": "stdout",
     "output_type": "stream",
     "text": [
      "37 out of 273\n"
     ]
    },
    {
     "name": "stderr",
     "output_type": "stream",
     "text": [
      "/tmp/ipykernel_26153/3920134667.py:61: DeprecationWarning: Conversion of an array with ndim > 0 to a scalar is deprecated, and will error in future. Ensure you extract a single element from your array before performing this operation. (Deprecated NumPy 1.25.)\n",
      "  chi_squared[i] = chi_squared_calc[0]\n"
     ]
    },
    {
     "name": "stdout",
     "output_type": "stream",
     "text": [
      "38 out of 273\n"
     ]
    },
    {
     "name": "stderr",
     "output_type": "stream",
     "text": [
      "/tmp/ipykernel_26153/3920134667.py:61: DeprecationWarning: Conversion of an array with ndim > 0 to a scalar is deprecated, and will error in future. Ensure you extract a single element from your array before performing this operation. (Deprecated NumPy 1.25.)\n",
      "  chi_squared[i] = chi_squared_calc[0]\n"
     ]
    },
    {
     "name": "stdout",
     "output_type": "stream",
     "text": [
      "39 out of 273\n"
     ]
    },
    {
     "name": "stderr",
     "output_type": "stream",
     "text": [
      "/tmp/ipykernel_26153/3920134667.py:61: DeprecationWarning: Conversion of an array with ndim > 0 to a scalar is deprecated, and will error in future. Ensure you extract a single element from your array before performing this operation. (Deprecated NumPy 1.25.)\n",
      "  chi_squared[i] = chi_squared_calc[0]\n"
     ]
    },
    {
     "name": "stdout",
     "output_type": "stream",
     "text": [
      "40 out of 273\n"
     ]
    },
    {
     "name": "stderr",
     "output_type": "stream",
     "text": [
      "/tmp/ipykernel_26153/3920134667.py:61: DeprecationWarning: Conversion of an array with ndim > 0 to a scalar is deprecated, and will error in future. Ensure you extract a single element from your array before performing this operation. (Deprecated NumPy 1.25.)\n",
      "  chi_squared[i] = chi_squared_calc[0]\n"
     ]
    },
    {
     "name": "stdout",
     "output_type": "stream",
     "text": [
      "41 out of 273\n"
     ]
    },
    {
     "name": "stderr",
     "output_type": "stream",
     "text": [
      "/tmp/ipykernel_26153/3920134667.py:61: DeprecationWarning: Conversion of an array with ndim > 0 to a scalar is deprecated, and will error in future. Ensure you extract a single element from your array before performing this operation. (Deprecated NumPy 1.25.)\n",
      "  chi_squared[i] = chi_squared_calc[0]\n"
     ]
    },
    {
     "name": "stdout",
     "output_type": "stream",
     "text": [
      "42 out of 273\n"
     ]
    },
    {
     "name": "stderr",
     "output_type": "stream",
     "text": [
      "/tmp/ipykernel_26153/3920134667.py:61: DeprecationWarning: Conversion of an array with ndim > 0 to a scalar is deprecated, and will error in future. Ensure you extract a single element from your array before performing this operation. (Deprecated NumPy 1.25.)\n",
      "  chi_squared[i] = chi_squared_calc[0]\n"
     ]
    },
    {
     "name": "stdout",
     "output_type": "stream",
     "text": [
      "43 out of 273\n"
     ]
    },
    {
     "name": "stderr",
     "output_type": "stream",
     "text": [
      "/tmp/ipykernel_26153/3920134667.py:61: DeprecationWarning: Conversion of an array with ndim > 0 to a scalar is deprecated, and will error in future. Ensure you extract a single element from your array before performing this operation. (Deprecated NumPy 1.25.)\n",
      "  chi_squared[i] = chi_squared_calc[0]\n"
     ]
    },
    {
     "name": "stdout",
     "output_type": "stream",
     "text": [
      "44 out of 273\n"
     ]
    },
    {
     "name": "stderr",
     "output_type": "stream",
     "text": [
      "/tmp/ipykernel_26153/3920134667.py:61: DeprecationWarning: Conversion of an array with ndim > 0 to a scalar is deprecated, and will error in future. Ensure you extract a single element from your array before performing this operation. (Deprecated NumPy 1.25.)\n",
      "  chi_squared[i] = chi_squared_calc[0]\n"
     ]
    },
    {
     "name": "stdout",
     "output_type": "stream",
     "text": [
      "45 out of 273\n",
      "46 out of 273\n"
     ]
    },
    {
     "name": "stderr",
     "output_type": "stream",
     "text": [
      "/tmp/ipykernel_26153/3920134667.py:61: DeprecationWarning: Conversion of an array with ndim > 0 to a scalar is deprecated, and will error in future. Ensure you extract a single element from your array before performing this operation. (Deprecated NumPy 1.25.)\n",
      "  chi_squared[i] = chi_squared_calc[0]\n"
     ]
    }
   ],
   "source": [
    "if method == \"sim\":\n",
    "\n",
    "    progress = 1\n",
    "    for supernova_name in supernovae_names[72:]:\n",
    "        supernova_file = \"/root/partiiiproject/Archive/\"+supernova_name+\".dat\"\n",
    "        meta, lcdata = sncosmo.read_snana_ascii(supernova_file, default_tablename='OBS')\n",
    "        lcdata = lcdata['OBS'].to_pandas()\n",
    "        t_obs = lcdata['MJD'] - meta['SEARCH_PEAKMJD']\n",
    "        bands = np.unique(lcdata['FLT'])\n",
    "        z = meta['REDSHIFT_FINAL']\n",
    "        ebv_mw = meta['MWEBV']\n",
    "    \n",
    "        for dust_law in dust_laws:\n",
    "    \n",
    "            try:\n",
    "                sampleChainsDir = \"DustLawsFitOfAllSamples/\"+supernova_name + dust_law + \"_chains.pkl\"\n",
    "                sampleSummaryDir = \"DustLawsFitOfAllSamples/\"+supernova_name + dust_law + \"_fit_summary.csv\"\n",
    "            \n",
    "                samplesSummary = pd.read_csv(sampleSummaryDir)\n",
    "                samplesSummary = samplesSummary.rename(index=samplesSummary['Unnamed: 0'])\n",
    "            \n",
    "                t_obs = np.unique(t_obs)\n",
    "            except FileNotFoundError:\n",
    "                continue\n",
    "        \n",
    "            with open(sampleChainsDir, 'rb') as file:\n",
    "                chains = pickle.load(file)\n",
    "            \n",
    "            N=1\n",
    "            fit_mu = np.mean(chains['mu'])\n",
    "            fit_theta = np.mean(chains['theta'])\n",
    "            fit_RV = np.mean(chains['RV'])\n",
    "            fit_AV = np.mean(chains['AV'])\n",
    "            fit_tmax = np.mean(chains['tmax'])\n",
    "            fit_delM = np.mean(chains['delM'])\n",
    "            fit_eps_inner = chains['eps']\n",
    "            fit_eps_inner = np.reshape(fit_eps_inner, (4, 250, 9, 6), order='F')\n",
    "            fit_eps = np.zeros((4, 250, 11, 6))\n",
    "            fit_eps[:,:,1:-1,:] = fit_eps_inner\n",
    "            fit_eps = fit_eps.mean(axis = 1)\n",
    "            fit_eps = fit_eps.mean(axis = 0)\n",
    "            fit_eps = np.reshape(fit_eps, (1 , 11, 6))\n",
    "            try:\n",
    "                sim = model.simulate_light_curve(t_obs, N, bands, mu=fit_mu, theta=fit_theta,  z=z, ebv_mw=ebv_mw, mag=False, write_to_files=False, AV=fit_AV, RV=fit_RV, redlaw=dust_law, tmax=fit_tmax, eps=fit_eps)\n",
    "            except ValueError:\n",
    "                continue\n",
    "            flux, flux_err, params = sim\n",
    "            flux = np.reshape(flux,(len(bands),len(t_obs)))\n",
    "        \n",
    "            chi_squared = np.zeros(len(lcdata))\n",
    "            for i, entry in lcdata.iterrows():\n",
    "                if entry.FLT == 'u_CSP':\n",
    "                    continue\n",
    "                index_t_obs = np.where(t_obs == (entry.MJD-meta['SEARCH_PEAKMJD']))\n",
    "                index_band = np.where(bands == entry.FLT)\n",
    "                Exp = flux[index_band, index_t_obs]\n",
    "                Obs = entry.FLUXCAL\n",
    "                ObsErr = entry.FLUXCALERR\n",
    "                chi_squared_calc = ((Obs-Exp)**2)/(ObsErr**2)\n",
    "                chi_squared_calc = ((Obs-Exp)**2)/Exp\n",
    "                chi_squared[i] = chi_squared_calc[0]\n",
    "                \n",
    "            df.at[supernova_name, dust_law] = np.mean(chi_squared)\n",
    "            progress = progress + 1\n",
    "            print(str(progress)+ ' out of '+str(len(supernovae_names)*len(dust_laws)))\n",
    "            df.to_csv(\"ChiSquared\"+method+\".csv\")\n"
   ]
  },
  {
   "cell_type": "markdown",
   "id": "c9a44d1e-9d09-4bb6-97d8-fb6f2196d252",
   "metadata": {},
   "source": [
    "## Looping over all SN -  method 2 (fit from flux)"
   ]
  },
  {
   "cell_type": "code",
   "execution_count": 8,
   "id": "20448ae4-d3b9-4f3c-85d0-f7bf03666ec2",
   "metadata": {},
   "outputs": [],
   "source": [
    "if method == \"fit\":\n",
    "\n",
    "    progress = 0\n",
    "    for supernova_name in supernovae_names[85:]:\n",
    "        supernova_file = \"/root/partiiiproject/Archive/\"+supernova_name+\".dat\"\n",
    "        meta, lcdata = sncosmo.read_snana_ascii(supernova_file, default_tablename='OBS')\n",
    "        lcdata = lcdata['OBS'].to_pandas()\n",
    "        t_obs = lcdata['MJD'] - meta['SEARCH_PEAKMJD']\n",
    "        t_obs = np.unique(t_obs)\n",
    "        bands = np.unique(lcdata['FLT'])\n",
    "        z = meta['REDSHIFT_FINAL']\n",
    "        ebv_mw = meta['MWEBV']\n",
    "    \n",
    "        for dust_law in dust_laws:\n",
    "    \n",
    "            try:\n",
    "                sampleChainsDir = \"DustLawsFitOfAllSamples/\"+supernova_name + dust_law + \"_chains.pkl\"\n",
    "                sampleSummaryDir = \"DustLawsFitOfAllSamples/\"+supernova_name + dust_law + \"_fit_summary.csv\"\n",
    "            \n",
    "                samplesSummary = pd.read_csv(sampleSummaryDir)\n",
    "                samplesSummary = samplesSummary.rename(index=samplesSummary['Unnamed: 0'])\n",
    "            \n",
    "            except FileNotFoundError:\n",
    "                continue\n",
    "        \n",
    "            with open(sampleChainsDir, 'rb') as file:\n",
    "                chains = pickle.load(file)\n",
    "            \n",
    "            try:\n",
    "                flux_grid = model.get_flux_from_chains(t_obs, bands, sampleChainsDir, z, ebv_mw, mag=False, num_samples=10)\n",
    "                fit, fit_err = flux_grid.mean(axis=(0, 1)), flux_grid.std(axis=(0, 1))\n",
    "            except ValueError:\n",
    "                continue\n",
    "        \n",
    "        \n",
    "            chi_squared = np.zeros(len(lcdata))\n",
    "            for i, entry in lcdata.iterrows():\n",
    "                if entry.FLT == 'u_CSP':\n",
    "                    continue\n",
    "                index_t_obs = np.where(t_obs == (entry.MJD-meta['SEARCH_PEAKMJD']))\n",
    "                index_band = np.where(bands == entry.FLT)\n",
    "                Exp = fit[index_band, index_t_obs]\n",
    "                Exp = Exp[0]\n",
    "                Obs = entry.FLUXCAL\n",
    "                ObsErr = entry.FLUXCALERR\n",
    "                chi_squared_calc = ((Obs-Exp)**2)/(ObsErr**2)\n",
    "                chi_squared[i] = chi_squared_calc[0]\n",
    "                \n",
    "            df.at[supernova_name, dust_law] = np.mean(chi_squared)\n",
    "            progress = progress + 1\n",
    "            print(str(progress)+ ' out of '+str(len(supernovae_names)*len(dust_laws)))\n",
    "            df.to_csv(\"ChiSquared\"+method+\".csv\")\n",
    "    \n",
    "    \n"
   ]
  },
  {
   "cell_type": "markdown",
   "id": "6f841e8c-364f-45b7-bc4b-5825997a94d5",
   "metadata": {},
   "source": [
    "## Plot as a bar chat of minimum Chi Squared value"
   ]
  },
  {
   "cell_type": "code",
   "execution_count": 9,
   "id": "860a6c23-c18e-4b24-ae87-02393a338c09",
   "metadata": {},
   "outputs": [
    {
     "name": "stderr",
     "output_type": "stream",
     "text": [
      "/tmp/ipykernel_26153/3074086879.py:1: FutureWarning: The behavior of DataFrame.idxmin with all-NA values, or any-NA and skipna=False, is deprecated. In a future version this will raise ValueError\n",
      "  maxdf = df.idxmin(axis = 1)\n"
     ]
    },
    {
     "name": "stdout",
     "output_type": "stream",
     "text": [
      "sn2006hb    G23\n",
      "sn2006hb    G23\n",
      "sn2008fl    F19\n",
      "sn2007jg    F99\n",
      "sn2008R     F99\n",
      "           ... \n",
      "sn2007hj    NaN\n",
      "sn2005ki    NaN\n",
      "sn2007bc    F99\n",
      "sn2005iq    F99\n",
      "sn2008bq    F19\n",
      "Length: 91, dtype: object\n"
     ]
    },
    {
     "data": {
      "image/png": "[encoded data removed]",
      "text/plain": [
       "<Figure size 640x480 with 1 Axes>"
      ]
     },
     "metadata": {},
     "output_type": "display_data"
    }
   ],
   "source": [
    "maxdf = df.idxmin(axis = 1)\n",
    "print(maxdf)\n",
    "frequency =  np.zeros(len(dust_laws))\n",
    "for j in range(len(dust_laws)):\n",
    "    frequency[j] = (maxdf == dust_laws[j]).sum()\n",
    "plt.bar(dust_laws, frequency)\n",
    "plt.title('Dust Laws -  which fit best')\n",
    "plt.xlabel('Dust Laws')\n",
    "plt.ylabel('Frequency')\n",
    "plt.savefig(\"/root/partiiiproject/DustLawsGeneralGraphs/ChiSquaredBestDustLaw\"+method+\".png\", bbox_inches='tight') \n",
    "plt.show()"
   ]
  },
  {
   "cell_type": "markdown",
   "id": "ac71c936-0ffe-4ca7-9ddc-d342252eda28",
   "metadata": {},
   "source": [
    "## Plot as a graph as % difference between each Dust law relative to F99"
   ]
  },
  {
   "cell_type": "code",
   "execution_count": 10,
   "id": "015b700a-826d-41c2-aace-c708033cc8fa",
   "metadata": {},
   "outputs": [
    {
     "data": {
      "image/png": "[encoded data removed]",
      "text/plain": [
       "<Figure size 640x480 with 1 Axes>"
      ]
     },
     "metadata": {},
     "output_type": "display_data"
    }
   ],
   "source": [
    "for supernova_name in supernovae_names:\n",
    "    if supernova_name == \"sn2006hb\":\n",
    "        continue\n",
    "        \n",
    "    supernova_file = \"/root/partiiiproject/Archive/\"+supernova_name+\".dat\"\n",
    "    meta, lcdata = sncosmo.read_snana_ascii(supernova_file, default_tablename='OBS')\n",
    "    z = meta['REDSHIFT_FINAL']\n",
    "    \n",
    "    dust_law = \"F99\"\n",
    "    sampleSummaryDir = \"DustLawsFitOfAllSamples/\"+supernova_name + dust_law + \"_fit_summary.csv\"\n",
    "    try:\n",
    "        samplesSummary = pd.read_csv(sampleSummaryDir)\n",
    "        samplesSummary = samplesSummary.rename(index=samplesSummary['Unnamed: 0'])\n",
    "        AV1 = samplesSummary.loc['AV[0]', 'mean']\n",
    "        chi1 = df.at[supernova_name, dust_law]\n",
    "    except FileNotFoundError:\n",
    "        continue\n",
    "    \n",
    "    dust_law = \"G23\"\n",
    "    chi2 = df.at[supernova_name, dust_law]\n",
    "    plt.plot(AV1, chi2/chi1, f'bx', label=dust_law)\n",
    "    \n",
    "\n",
    "    dust_law = \"F19\"\n",
    "    chi3 = df.at[supernova_name, dust_law]\n",
    "    plt.plot(AV1, chi3/chi1, f'rx', label=dust_law)\n",
    "    \n",
    "    plt.plot([AV1, AV1], [chi2/chi1, chi3/chi1], 'k--')\n",
    "    \n",
    "plt.plot([-0.2,2.7], [1,1], 'c--')\n",
    "plt.xlabel('AV for F99')\n",
    "plt.ylabel(f\"$X^2$ relative to F99 for each dust law\")\n",
    "\n",
    "red_patch = mpatches.Patch(color='red', label='F19')\n",
    "blue_patch = mpatches.Patch(color='blue', label='G23')\n",
    "plt.legend(handles=[red_patch, blue_patch])\n",
    "plt.yscale(\"log\")\n",
    "plt.savefig(\"/root/partiiiproject/DustLawsGeneralGraphs/ChiSquaredPercentage\"+method+\".png\", bbox_inches='tight') \n",
    "plt.show()"
   ]
  },
  {
   "cell_type": "code",
   "execution_count": null,
   "id": "a230696a-f974-42c6-96f8-1306c80f89fc",
   "metadata": {},
   "outputs": [],
   "source": []
  }
 ],
 "metadata": {
  "kernelspec": {
   "display_name": "Python 3 (ipykernel)",
   "language": "python",
   "name": "python3"
  },
  "language_info": {
   "codemirror_mode": {
    "name": "ipython",
    "version": 3
   },
   "file_extension": ".py",
   "mimetype": "text/x-python",
   "name": "python",
   "nbconvert_exporter": "python",
   "pygments_lexer": "ipython3",
   "version": "3.11.0"
  }
 },
 "nbformat": 4,
 "nbformat_minor": 5
}
