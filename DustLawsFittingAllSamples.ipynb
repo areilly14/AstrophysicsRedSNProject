{
 "cells": [
  {
   "cell_type": "markdown",
   "id": "3a0484e9-842f-4854-a7ae-02df291501ee",
   "metadata": {},
   "source": [
    "# Light curves with the W22 Model looking at a selection of Supernovae and Investigating different Dust laws"
   ]
  },
  {
   "cell_type": "code",
   "execution_count": 8,
   "id": "c59c4015-d5dc-4590-b7e2-b7fa6ebc255a",
   "metadata": {},
   "outputs": [],
   "source": [
    "import numpy as np\n",
    "import matplotlib.pyplot as plt\n",
    "import sncosmo\n",
    "from bayesn import SEDmodel\n",
    "import os\n",
    "import pandas as pd\n"
   ]
  },
  {
   "cell_type": "code",
   "execution_count": 13,
   "id": "a11079aa-f18b-4425-88cf-425ab1cf51f8",
   "metadata": {},
   "outputs": [],
   "source": []
  },
  {
   "cell_type": "markdown",
   "id": "cb357d74-a055-4e8c-8740-26ff7907e895",
   "metadata": {},
   "source": [
    "## Make a list of SN in Archive"
   ]
  },
  {
   "cell_type": "code",
   "execution_count": 26,
   "id": "ec1bd5b2-b871-4d6f-b80b-d83f9e4083f3",
   "metadata": {},
   "outputs": [],
   "source": [
    "directory = os.fsencode(\"/root/partiiiproject/Archive\")\n",
    "supernovae_names = [\"sn2006hb\"]\n",
    "for file in os.listdir(directory):\n",
    "    filename = os.fsdecode(file)\n",
    "    if filename.endswith(\".dat\"): \n",
    "        supernovae_names.append(filename[:-4])\n",
    "        continue\n",
    "    else:\n",
    "        continue\n",
    "\n",
    "model_name = \"W22_F99_model\"\n",
    "dust_law = \"F99\""
   ]
  },
  {
   "cell_type": "code",
   "execution_count": 22,
   "id": "b876b93f-cb2d-4b7a-b7fc-6d8f6d2de1db",
   "metadata": {},
   "outputs": [
    {
     "name": "stdout",
     "output_type": "stream",
     "text": [
      "['sn2006hb', 'sn2006hb', 'sn2008fl', 'sn2007jg', 'sn2008R', 'sn2009ad', 'sn2006ob', 'sn2009ds', 'sn2007hx', 'sn2007bd', 'sn2004ey', 'sn2007so', 'sn2009ab', 'sn2007A', 'sn2008gl', 'sn2007nq', 'sn2007on', 'sn2008hj', 'sn2007st', 'sn2009le', 'sn2005hc', 'sn2005bo', 'sn2008fu', 'sn2004gs', 'sn2008ff', 'sn2006D', 'sn2005M', 'sn2007S', 'sn2006bh', 'sn2009al', 'sn2008O', 'sn2006lu', 'sn2007bm', 'sn2007sr', 'sn2008bz', 'sn2014J', 'sn2005A', 'sn2004ef', 'sn2006ax', 'sn2005ku', 'sn2008gg', 'sn2007ca', 'sn2005lu', 'sn2006gj', 'sn2008ar', 'sn2006et', 'sn2007ai', 'sn2009I', 'sn2006kf', 'sn2008hu', 'sn2008cc', 'sn2009aa', 'sn2006os', 'sn2008hv', 'sn2008go', 'sn2006br', 'sn2005eq', 'sn2008fp', 'sn2008C', 'sn2006X', 'sn2007jd', 'sn2005kc', 'sn2006ej', 'sn2005al', 'sn2005am', 'sn2006hx', 'sn2008cf', 'sn2009ag', 'sn2008fw', 'sn2007af', 'sn2006is', 'sn2004eo', 'sn2008bf', 'sn2008fr', 'sn2008gp', 'sn2009cz', 'sn2002cv', 'sn2007le', 'sn2009P', 'sn2009D', 'sn2008ia', 'sn2008bc', 'sn2005na', 'sn2009Y', 'sn2007ux', 'sn2007as', 'sn2007hj', 'sn2005ki', 'sn2007bc', 'sn2005iq', 'sn2008bq']\n"
     ]
    }
   ],
   "source": [
    "print(supernovae_names)"
   ]
  },
  {
   "cell_type": "markdown",
   "id": "c1847a82-b9b1-40ae-9bf4-71d6c52ec645",
   "metadata": {},
   "source": [
    "## Make a list of SN with specified dust law"
   ]
  },
  {
   "cell_type": "code",
   "execution_count": 27,
   "id": "f89401cc-e777-4c21-9e87-64d867adc6a3",
   "metadata": {},
   "outputs": [],
   "source": [
    "directory = os.fsencode(\"/root/partiiiproject/DustLawsFitOfAllSamples\"+model_name)\n",
    "\n",
    "supernovae_done = [\"sn2006hb\"]\n",
    "for file in os.listdir(directory):\n",
    "    filename = os.fsdecode(file)\n",
    "    if filename.endswith(dust_law+\"_fit_summary.csv\"):\n",
    "        len_remove = len(dust_law+\"_fit_summary.csv\")\n",
    "        supernovae_done.append(filename[:-len_remove])\n",
    "        continue\n",
    "    else:\n",
    "        continue"
   ]
  },
  {
   "cell_type": "code",
   "execution_count": 28,
   "id": "7ccfb9a5-a9b8-4d5e-97e0-3e1ee28836c9",
   "metadata": {},
   "outputs": [
    {
     "name": "stdout",
     "output_type": "stream",
     "text": [
      "['sn2006hb', 'sn2008C', 'sn2007ca', 'sn2007as', 'sn2004ey', 'sn2005na', 'sn2005kc', 'sn2004gs', 'sn2008ia', 'sn2006br', 'sn2005al', 'sn2008fu', 'sn2008cc', 'sn2008gg', 'sn2006et', 'sn2008ar', 'sn2005bo', 'sn2008hj', 'sn2008fp', 'sn2009ab', 'sn2008fl', 'sn2009I', 'sn2007hx', 'sn2008cf', 'sn2006ax', 'sn2007ai', 'sn2007on', 'sn2006ob', 'sn2007le', 'sn2005lu', 'sn2007bc', 'sn2009le', 'sn2007bd', 'sn2007bm', 'sn2008fr', 'sn2008gl', 'sn2008bz', 'sn2006os', 'sn2007sr', 'sn2008hu', 'sn2009cz', 'sn2009ds', 'sn2009Y', 'sn2014J', 'sn2007hj', 'sn2002cv', 'sn2009ad', 'sn2007nq', 'sn2006lu', 'sn2008bf', 'sn2009P', 'sn2006ej', 'sn2008bq', 'sn2005ki', 'sn2009aa', 'sn2008R', 'sn2006D', 'sn2009ag', 'sn2008fw', 'sn2009al', 'sn2007jg', 'sn2006gj', 'sn2006X', 'sn2007jd', 'sn2005hc', 'sn2005A', 'sn2007st', 'sn2008ff', 'sn2009D', 'sn2006hx', 'sn2008gp', 'sn2007so', 'sn2005eq', 'sn2008go', 'sn2008bc', 'sn2006bh', 'sn2007A', 'sn2007S', 'sn2008hv', 'sn2006is', 'sn2004eo', 'sn2007af', 'sn2005am', 'sn2005M', 'sn2008O', 'sn2005iq', 'sn2006kf', 'sn2007ux', 'sn2005ku', 'sn2004ef']\n"
     ]
    }
   ],
   "source": [
    "print(supernovae_done)"
   ]
  },
  {
   "cell_type": "markdown",
   "id": "3e551a2c-3d22-44ad-ae8d-c8f569cbbe7b",
   "metadata": {},
   "source": [
    "## Make a list of badly converged SNe"
   ]
  },
  {
   "cell_type": "code",
   "execution_count": 29,
   "id": "3eca817f-94ff-4551-999d-74882516e55f",
   "metadata": {},
   "outputs": [
    {
     "name": "stdout",
     "output_type": "stream",
     "text": [
      "sn2014J\n",
      "sn2008cc\n",
      "sn2006X\n",
      "sn2009ag\n",
      "sn2007le\n"
     ]
    }
   ],
   "source": [
    "for supernova_name in supernovae_names[2:]:\n",
    "    sampleSummaryDir = \"DustLawsFitOfAllSamples\"+model_name+\"/\"+supernova_name + dust_law + \"_fit_summary.csv\"\n",
    "    samplesSummary = pd.read_csv(sampleSummaryDir)\n",
    "    if samplesSummary.loc[1, 'r_hat']>1.05:\n",
    "        print(supernova_name)"
   ]
  },
  {
   "cell_type": "markdown",
   "id": "a4b71bc7-aa1a-4edd-a5e5-61e2af64c93f",
   "metadata": {},
   "source": [
    "## Make a list of all the supernovas to still fit"
   ]
  },
  {
   "cell_type": "code",
   "execution_count": null,
   "id": "e1d39c9d-c015-4f87-90b8-2c0b259e289d",
   "metadata": {},
   "outputs": [],
   "source": [
    "supernovae_names = list(set(supernovae_names) - set(supernovae_done))\n",
    "#supernovae_names = [\"sn2014J\"]\n",
    "print(supernovae_names)"
   ]
  },
  {
   "cell_type": "markdown",
   "id": "44920a4b-4e89-4836-9057-e4ee43e9734b",
   "metadata": {},
   "source": [
    "## Load the W22 Model"
   ]
  },
  {
   "cell_type": "markdown",
   "id": "9f22774a-5d1c-4e61-a795-d71101a09787",
   "metadata": {},
   "source": [
    "W22 model works with optical and NIR bands"
   ]
  },
  {
   "cell_type": "code",
   "execution_count": null,
   "id": "1dc482f9-27f4-493b-935c-5fb0cb488099",
   "metadata": {},
   "outputs": [],
   "source": [
    "#model = SEDmodel(load_model='W22_model')\n",
    "filter_yaml = \"/root/partiiiproject/bayesn-filters/bayesn-filters/filters.yaml\"\n",
    "model = SEDmodel(load_model= model_name, filter_yaml = filter_yaml)"
   ]
  },
  {
   "cell_type": "markdown",
   "id": "57b6f403-3c2a-4671-86c5-70d53c6ccec3",
   "metadata": {},
   "source": [
    "## Generate Fits"
   ]
  },
  {
   "cell_type": "markdown",
   "id": "c6daddfc-9688-4ab1-8e27-9752254d4338",
   "metadata": {},
   "source": [
    "We generate the fits for our supernova data."
   ]
  },
  {
   "cell_type": "code",
   "execution_count": null,
   "id": "e251e73d-10e5-4b82-8884-bfcd3c3cbbe4",
   "metadata": {},
   "outputs": [],
   "source": [
    "for dust_law in [\"F99\"]:\n",
    "    for supernova_name in supernovae_names:\n",
    "        supernova_file = \"/root/partiiiproject/Archive/\"+supernova_name+\".dat\"\n",
    "        prior_distribution = \"uniform\"\n",
    "        drop_bands=['u_CSP', 'U']\n",
    "        #samples, sn_props = model.fit_from_file(supernova_file, RV='uniform', drop_bands=drop_bands, redlaw=dust_law, file_prefix = \"DustLawsFitOfAllSamples/\"+supernova_name + dust_law, error_floor_fraction = 0.01)\n",
    "        samples, sn_props = model.fit_from_file(supernova_file, RV='uniform', drop_bands=drop_bands, redlaw=dust_law, file_prefix = \"DustLawsFitOfAllSamples\"+model_name+\"/\"+supernova_name + dust_law)"
   ]
  },
  {
   "cell_type": "markdown",
   "id": "49b586eb-3c1f-48fb-a539-2249332ca3bb",
   "metadata": {},
   "source": [
    "## Load Observational Data"
   ]
  },
  {
   "cell_type": "markdown",
   "id": "e7406301-b3d3-410e-bab6-f218b0bf9ca7",
   "metadata": {},
   "source": [
    "We read the observational data andits assosciated uncertainty "
   ]
  },
  {
   "cell_type": "code",
   "execution_count": null,
   "id": "46f6c3c5-6d08-4b12-abd1-d829460b53fb",
   "metadata": {},
   "outputs": [],
   "source": [
    "meta, lcdata = sncosmo.read_snana_ascii(supernova_file, default_tablename='OBS')\n",
    "lcdata = lcdata['OBS'].to_pandas()"
   ]
  },
  {
   "cell_type": "markdown",
   "id": "413db1ff-671d-456b-bfae-b3299e860e8e",
   "metadata": {},
   "source": [
    "## Use chains to get Fits to plot"
   ]
  },
  {
   "cell_type": "markdown",
   "id": "2167c8c7-a8d5-4bcf-afdf-3ecbacfd771a",
   "metadata": {},
   "source": [
    "Choose the bands we want to plot and the number of days on either side of the peak."
   ]
  },
  {
   "cell_type": "code",
   "execution_count": null,
   "id": "fe50aa59-3d4e-41fd-a494-d25666259e90",
   "metadata": {},
   "outputs": [],
   "source": [
    "t = np.arange(-15, 40, 1) #Days on either side of the peak  normally (-15,40)\n",
    "bands = ['g_CSP', 'r_CSP', 'i_CSP', 'B_CSP', 'V_CSP', 'Y_RC', 'J_RC1', 'H_RC'] #Bands being used for plot\n",
    "\n",
    "z = meta['REDSHIFT_FINAL']\n",
    "ebv_mw = meta['MWEBV']\n",
    "sampleChainsDir = \"DustLawsFitOfAllSamples/\"+supernova_name + dust_law + \"/chains.pkl\"\n",
    "flux_grid = model.get_flux_from_chains(t, bands, samples, z, ebv_mw, mag=False, num_samples=10)\n",
    "fit, fit_err = flux_grid.mean(axis=(0, 1)), flux_grid.std(axis=(0, 1))"
   ]
  },
  {
   "cell_type": "markdown",
   "id": "3bc6f4a6-0f40-4bbc-b6e9-89664013a513",
   "metadata": {},
   "source": [
    "Turn the flux into an actual fit we can plot"
   ]
  },
  {
   "cell_type": "code",
   "execution_count": null,
   "id": "4618e248-97d9-45ac-b828-c8b01e681c8a",
   "metadata": {},
   "outputs": [],
   "source": []
  }
 ],
 "metadata": {
  "kernelspec": {
   "display_name": "Python 3 (ipykernel)",
   "language": "python",
   "name": "python3"
  },
  "language_info": {
   "codemirror_mode": {
    "name": "ipython",
    "version": 3
   },
   "file_extension": ".py",
   "mimetype": "text/x-python",
   "name": "python",
   "nbconvert_exporter": "python",
   "pygments_lexer": "ipython3",
   "version": "3.11.0"
  }
 },
 "nbformat": 4,
 "nbformat_minor": 5
}
