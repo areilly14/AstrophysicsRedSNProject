{
 "cells": [
  {
   "cell_type": "markdown",
   "id": "3a0484e9-842f-4854-a7ae-02df291501ee",
   "metadata": {},
   "source": [
    "# Light curves with the W22 Model looking at a selection of Supernovae and Investigating different Dust laws"
   ]
  },
  {
   "cell_type": "code",
   "execution_count": 1,
   "id": "c59c4015-d5dc-4590-b7e2-b7fa6ebc255a",
   "metadata": {},
   "outputs": [],
   "source": [
    "import numpy as np\n",
    "import matplotlib.pyplot as plt\n",
    "import sncosmo\n",
    "from bayesn import SEDmodel\n",
    "import os\n"
   ]
  },
  {
   "cell_type": "code",
   "execution_count": 2,
   "id": "a11079aa-f18b-4425-88cf-425ab1cf51f8",
   "metadata": {},
   "outputs": [],
   "source": [
    "dust_law = \"F99\""
   ]
  },
  {
   "cell_type": "markdown",
   "id": "cb357d74-a055-4e8c-8740-26ff7907e895",
   "metadata": {},
   "source": [
    "## Make a list of SN in Archive"
   ]
  },
  {
   "cell_type": "code",
   "execution_count": 3,
   "id": "ec1bd5b2-b871-4d6f-b80b-d83f9e4083f3",
   "metadata": {},
   "outputs": [],
   "source": [
    "directory = os.fsencode(\"/root/partiiiproject/Archive\")\n",
    "supernovae_names = [\"sn2006hb\"]\n",
    "for file in os.listdir(directory):\n",
    "    filename = os.fsdecode(file)\n",
    "    if filename.endswith(\".dat\"): \n",
    "        supernovae_names.append(filename[:-4])\n",
    "        continue\n",
    "    else:\n",
    "        continue\n",
    "\n",
    "model_name = \"W22_F19_model\""
   ]
  },
  {
   "cell_type": "code",
   "execution_count": 4,
   "id": "b876b93f-cb2d-4b7a-b7fc-6d8f6d2de1db",
   "metadata": {},
   "outputs": [
    {
     "name": "stdout",
     "output_type": "stream",
     "text": [
      "['sn2006hb', 'sn2006hb', 'sn2008fl', 'sn2007jg', 'sn2008R', 'sn2009ad', 'sn2006ob', 'sn2009ds', 'sn2007hx', 'sn2007bd', 'sn2004ey', 'sn2007so', 'sn2009ab', 'sn2007A', 'sn2008gl', 'sn2007nq', 'sn2007on', 'sn2008hj', 'sn2007st', 'sn2009le', 'sn2005hc', 'sn2005bo', 'sn2008fu', 'sn2004gs', 'sn2008ff', 'sn2006D', 'sn2005M', 'sn2007S', 'sn2006bh', 'sn2009al', 'sn2008O', 'sn2006lu', 'sn2007bm', 'sn2007sr', 'sn2008bz', 'sn2014J', 'sn2005A', 'sn2004ef', 'sn2006ax', 'sn2005ku', 'sn2008gg', 'sn2007ca', 'sn2005lu', 'sn2006gj', 'sn2008ar', 'sn2006et', 'sn2007ai', 'sn2009I', 'sn2006kf', 'sn2008hu', 'sn2008cc', 'sn2009aa', 'sn2006os', 'sn2008hv', 'sn2008go', 'sn2006br', 'sn2005eq', 'sn2008fp', 'sn2008C', 'sn2006X', 'sn2007jd', 'sn2005kc', 'sn2006ej', 'sn2005al', 'sn2005am', 'sn2006hx', 'sn2008cf', 'sn2009ag', 'sn2008fw', 'sn2007af', 'sn2006is', 'sn2004eo', 'sn2008bf', 'sn2008fr', 'sn2008gp', 'sn2009cz', 'sn2002cv', 'sn2007le', 'sn2009P', 'sn2009D', 'sn2008ia', 'sn2008bc', 'sn2005na', 'sn2009Y', 'sn2007ux', 'sn2007as', 'sn2007hj', 'sn2005ki', 'sn2007bc', 'sn2005iq', 'sn2008bq']\n"
     ]
    }
   ],
   "source": [
    "print(supernovae_names)"
   ]
  },
  {
   "cell_type": "markdown",
   "id": "c1847a82-b9b1-40ae-9bf4-71d6c52ec645",
   "metadata": {},
   "source": [
    "## Make a list of SN with specified dust law"
   ]
  },
  {
   "cell_type": "code",
   "execution_count": 5,
   "id": "f89401cc-e777-4c21-9e87-64d867adc6a3",
   "metadata": {},
   "outputs": [],
   "source": [
    "directory = os.fsencode(\"/root/partiiiproject/DustLawsFitOfAllSamples\"+model_name)\n",
    "\n",
    "supernovae_done = [\"sn2006hb\"]\n",
    "for file in os.listdir(directory):\n",
    "    filename = os.fsdecode(file)\n",
    "    if filename.endswith(dust_law+\"_fit_summary.csv\"):\n",
    "        len_remove = len(dust_law+\"_fit_summary.csv\")\n",
    "        supernovae_done.append(filename[:-len_remove])\n",
    "        continue\n",
    "    else:\n",
    "        continue"
   ]
  },
  {
   "cell_type": "code",
   "execution_count": 6,
   "id": "7ccfb9a5-a9b8-4d5e-97e0-3e1ee28836c9",
   "metadata": {},
   "outputs": [
    {
     "name": "stdout",
     "output_type": "stream",
     "text": [
      "['sn2006hb', 'sn2008C', 'sn2007ca', 'sn2007as', 'sn2004ey', 'sn2005na', 'sn2005kc', 'sn2008ia', 'sn2006br', 'sn2005al', 'sn2008fu', 'sn2008cc', 'sn2008gg', 'sn2006et', 'sn2008ar', 'sn2005bo', 'sn2008hj', 'sn2009ab', 'sn2008fl', 'sn2009I', 'sn2007hx', 'sn2008cf', 'sn2006ax', 'sn2007ai', 'sn2007on', 'sn2006ob', 'sn2007le', 'sn2005lu', 'sn2007bc', 'sn2009le', 'sn2007bd', 'sn2008fr', 'sn2008gl', 'sn2008bz', 'sn2008hu', 'sn2009cz', 'sn2009ds', 'sn2009Y', 'sn2014J', 'sn2007hj', 'sn2007nq', 'sn2008bf', 'sn2009P', 'sn2006ej', 'sn2008bq', 'sn2005ki', 'sn2009aa', 'sn2008R', 'sn2006D', 'sn2008fw', 'sn2009al', 'sn2007jg', 'sn2006X', 'sn2007jd', 'sn2005A', 'sn2007st', 'sn2008ff', 'sn2009D', 'sn2006hx', 'sn2008gp', 'sn2007so', 'sn2005eq', 'sn2008go', 'sn2008bc', 'sn2007A', 'sn2007S', 'sn2008hv', 'sn2006is', 'sn2004eo', 'sn2007af', 'sn2005am', 'sn2005M', 'sn2008O', 'sn2005iq', 'sn2006kf', 'sn2007ux', 'sn2005ku']\n"
     ]
    }
   ],
   "source": [
    "print(supernovae_done)"
   ]
  },
  {
   "cell_type": "markdown",
   "id": "a4b71bc7-aa1a-4edd-a5e5-61e2af64c93f",
   "metadata": {},
   "source": [
    "## Make a list of all the supernovas to still fit"
   ]
  },
  {
   "cell_type": "code",
   "execution_count": 7,
   "id": "e1d39c9d-c015-4f87-90b8-2c0b259e289d",
   "metadata": {},
   "outputs": [
    {
     "name": "stdout",
     "output_type": "stream",
     "text": [
      "['sn2004ef', 'sn2007bm', 'sn2007sr', 'sn2002cv', 'sn2009ag', 'sn2006bh', 'sn2005hc', 'sn2006os', 'sn2008fp', 'sn2009ad', 'sn2004gs', 'sn2006gj', 'sn2006lu']\n"
     ]
    }
   ],
   "source": [
    "supernovae_names = list(set(supernovae_names) - set(supernovae_done))\n",
    "#supernovae_names = [\"sn2014J\"]\n",
    "print(supernovae_names)"
   ]
  },
  {
   "cell_type": "markdown",
   "id": "44920a4b-4e89-4836-9057-e4ee43e9734b",
   "metadata": {},
   "source": [
    "## Load the W22 Model"
   ]
  },
  {
   "cell_type": "markdown",
   "id": "9f22774a-5d1c-4e61-a795-d71101a09787",
   "metadata": {},
   "source": [
    "W22 model works with optical and NIR bands"
   ]
  },
  {
   "cell_type": "code",
   "execution_count": 8,
   "id": "1dc482f9-27f4-493b-935c-5fb0cb488099",
   "metadata": {},
   "outputs": [
    {
     "name": "stderr",
     "output_type": "stream",
     "text": [
      "An NVIDIA GPU may be present on this machine, but a CUDA-enabled jaxlib is not installed. Falling back to cpu.\n"
     ]
    },
    {
     "name": "stdout",
     "output_type": "stream",
     "text": [
      "Current devices: [CpuDevice(id=0), CpuDevice(id=1), CpuDevice(id=2), CpuDevice(id=3)]\n",
      "Currently working in /root/partiiiproject\n",
      "Loading built-in model W22_F19_model\n",
      "Loading built-in reddening law F99\n"
     ]
    }
   ],
   "source": [
    "#model = SEDmodel(load_model='W22_model')\n",
    "filter_yaml = \"/root/partiiiproject/bayesn-filters/bayesn-filters/filters.yaml\"\n",
    "model = SEDmodel(load_model= model_name, filter_yaml = filter_yaml)"
   ]
  },
  {
   "cell_type": "markdown",
   "id": "57b6f403-3c2a-4671-86c5-70d53c6ccec3",
   "metadata": {},
   "source": [
    "## Generate Fits"
   ]
  },
  {
   "cell_type": "markdown",
   "id": "c6daddfc-9688-4ab1-8e27-9752254d4338",
   "metadata": {},
   "source": [
    "We generate the fits for our supernova data."
   ]
  },
  {
   "cell_type": "code",
   "execution_count": null,
   "id": "e251e73d-10e5-4b82-8884-bfcd3c3cbbe4",
   "metadata": {},
   "outputs": [
    {
     "name": "stdout",
     "output_type": "stream",
     "text": [
      "Loading built-in reddening law F99\n"
     ]
    },
    {
     "name": "stderr",
     "output_type": "stream",
     "text": [
      "/root/miniforge3/envs/bayesn/lib/python3.11/site-packages/bayesn/bayesn_model.py:2994: UserWarning: Missing a plate statement for batch dimension -2 at site 'obs'. You can use `numpyro.util.format_shapes` utility to check shapes at all sites of your model.\n",
      "  mcmc.run(\n",
      "sample: 100%|█████████████████████████████████████████████████████████████████████████| 500/500 [06:54<00:00,  1.20it/s]\n"
     ]
    },
    {
     "name": "stdout",
     "output_type": "stream",
     "text": [
      "\n",
      "                     mean       std    median      5.0%     95.0%     n_eff     r_hat\n",
      "          AV[0]      0.58      0.11      0.58      0.40      0.78    608.73      1.01\n",
      "          Ds[0]     34.69      0.10     34.69     34.51     34.86    567.35      1.01\n",
      "          RV[0]      5.35      0.58      5.53      4.54      6.00   1816.44      1.00\n",
      " eps_tform[0,0]     -1.01      0.93     -1.03     -2.45      0.52   1660.68      1.00\n",
      " eps_tform[0,1]     -0.69      0.94     -0.70     -2.20      0.81   2179.03      1.00\n",
      " eps_tform[0,2]     -1.48      0.91     -1.52     -3.02     -0.06   1534.18      1.00\n",
      " eps_tform[0,3]     -0.62      0.93     -0.60     -2.03      1.03   2213.83      1.00\n",
      " eps_tform[0,4]      0.07      0.96      0.11     -1.35      1.75   1932.69      1.00\n",
      " eps_tform[0,5]      0.79      0.88      0.76     -0.61      2.26   2325.36      1.00\n",
      " eps_tform[0,6]      0.18      0.99      0.16     -1.23      1.98   1979.76      1.00\n",
      " eps_tform[0,7]      0.19      0.97      0.19     -1.34      1.84   1597.17      1.00\n",
      " eps_tform[0,8]      0.05      0.98      0.03     -1.41      1.84   1533.51      1.00\n",
      " eps_tform[0,9]     -0.78      0.89     -0.78     -2.26      0.69   1368.14      1.00\n",
      "eps_tform[0,10]     -0.62      0.88     -0.61     -2.19      0.70   2099.40      1.00\n",
      "eps_tform[0,11]      0.07      0.95      0.08     -1.47      1.55   1812.10      1.00\n",
      "eps_tform[0,12]      1.30      0.88      1.27     -0.10      2.79   1475.78      1.00\n",
      "eps_tform[0,13]     -0.15      0.85     -0.17     -1.42      1.28   1476.07      1.00\n",
      "eps_tform[0,14]      0.96      0.93      0.99     -0.61      2.53   2109.68      1.00\n",
      "eps_tform[0,15]      0.14      0.98      0.09     -1.44      1.73   3198.46      1.00\n",
      "eps_tform[0,16]     -0.74      1.02     -0.72     -2.32      0.97   2510.34      1.00\n",
      "eps_tform[0,17]      0.65      0.93      0.65     -0.97      2.03   1898.51      1.00\n",
      "eps_tform[0,18]     -1.40      0.89     -1.40     -2.75      0.16   2135.01      1.00\n",
      "eps_tform[0,19]      0.39      0.95      0.36     -1.02      2.00   2188.67      1.00\n",
      "eps_tform[0,20]      0.89      0.83      0.87     -0.59      2.09   2407.97      1.00\n",
      "eps_tform[0,21]      1.15      0.92      1.17     -0.34      2.64   2350.49      1.00\n",
      "eps_tform[0,22]      0.45      0.85      0.43     -0.95      1.75   2161.72      1.00\n",
      "eps_tform[0,23]     -0.46      0.98     -0.47     -2.05      1.15   1600.20      1.00\n",
      "eps_tform[0,24]     -1.01      0.91     -1.02     -2.37      0.57   1779.25      1.00\n",
      "eps_tform[0,25]     -0.50      0.99     -0.48     -2.22      1.00   2461.17      1.00\n",
      "eps_tform[0,26]     -0.03      1.01     -0.01     -1.73      1.60   1808.82      1.00\n",
      "eps_tform[0,27]     -0.67      0.81     -0.69     -1.84      0.78   1026.24      1.00\n",
      "eps_tform[0,28]     -0.61      0.80     -0.61     -1.95      0.67    922.41      1.00\n",
      "eps_tform[0,29]      0.82      0.65      0.85     -0.27      1.87   1458.87      1.00\n",
      "eps_tform[0,30]      1.32      0.82      1.31     -0.00      2.65   1251.64      1.00\n",
      "eps_tform[0,31]     -1.30      0.75     -1.30     -2.55     -0.10   1217.00      1.00\n",
      "eps_tform[0,32]     -0.82      0.96     -0.80     -2.40      0.77   1933.50      1.00\n",
      "eps_tform[0,33]      0.11      0.53      0.12     -0.76      0.97    913.19      1.00\n",
      "eps_tform[0,34]     -1.79      0.95     -1.80     -3.44     -0.35   1680.87      1.00\n",
      "eps_tform[0,35]     -0.39      0.93     -0.39     -1.94      1.16   1864.40      1.00\n",
      "eps_tform[0,36]      1.62      0.87      1.64      0.17      3.01   1884.39      1.00\n",
      "eps_tform[0,37]      1.33      0.64      1.32      0.23      2.28   1309.89      1.00\n",
      "eps_tform[0,38]      0.36      0.76      0.38     -0.84      1.58   1203.83      1.00\n",
      "eps_tform[0,39]      0.94      0.77      0.96     -0.37      2.13   1344.51      1.00\n",
      "eps_tform[0,40]      0.13      0.71      0.16     -1.07      1.17   1336.72      1.00\n",
      "eps_tform[0,41]      1.42      0.95      1.41     -0.25      2.91   1723.25      1.00\n",
      "eps_tform[0,42]      1.43      0.68      1.41      0.31      2.42    706.64      1.01\n",
      "eps_tform[0,43]     -3.20      0.81     -3.20     -4.42     -1.87   1214.78      1.00\n",
      "eps_tform[0,44]      0.16      0.90      0.19     -1.35      1.55   1209.16      1.00\n",
      "eps_tform[0,45]     -0.10      1.02     -0.06     -1.72      1.55   2149.92      1.00\n",
      "eps_tform[0,46]     -0.32      0.97     -0.33     -1.82      1.31   2453.57      1.00\n",
      "eps_tform[0,47]     -0.06      1.02     -0.08     -1.67      1.62   2274.60      1.00\n",
      "eps_tform[0,48]     -0.31      1.03     -0.28     -2.07      1.31   2346.34      1.00\n",
      "eps_tform[0,49]      0.17      1.00      0.21     -1.52      1.69   2063.12      1.00\n",
      "eps_tform[0,50]     -0.23      1.07     -0.25     -2.06      1.46   2954.61      1.00\n",
      "eps_tform[0,51]     -0.10      1.06     -0.09     -1.80      1.62   2426.40      1.00\n",
      "eps_tform[0,52]      0.33      0.92      0.34     -1.11      1.78   1805.43      1.00\n",
      "eps_tform[0,53]     -0.05      0.99     -0.04     -1.60      1.61   2940.44      1.00\n",
      "       theta[0]      1.90      0.46      1.92      1.07      2.56    630.92      1.01\n",
      "        tmax[0]      9.67      0.24      9.71      9.35     10.00   1184.15      1.00\n",
      "\n",
      "Number of divergences: 0\n",
      "Loading built-in reddening law F99\n"
     ]
    },
    {
     "name": "stderr",
     "output_type": "stream",
     "text": [
      "/root/miniforge3/envs/bayesn/lib/python3.11/site-packages/bayesn/bayesn_model.py:2994: UserWarning: Missing a plate statement for batch dimension -2 at site 'obs'. You can use `numpyro.util.format_shapes` utility to check shapes at all sites of your model.\n",
      "  mcmc.run(\n",
      "sample: 100%|█████████████████████████████████████████████████████████████████████████| 500/500 [21:33<00:00,  2.59s/it]\n"
     ]
    },
    {
     "name": "stdout",
     "output_type": "stream",
     "text": [
      "\n",
      "                     mean       std    median      5.0%     95.0%     n_eff     r_hat\n",
      "          AV[0]      0.03      0.02      0.03      0.00      0.07    428.93      1.01\n",
      "          Ds[0]     35.97      0.03     35.97     35.92     36.01    299.32      1.00\n",
      "          RV[0]      3.64      1.40      3.67      1.70      5.98   1056.94      1.00\n",
      " eps_tform[0,0]      0.53      0.36      0.52     -0.13      1.07    435.22      1.00\n",
      " eps_tform[0,1]     -0.29      0.27     -0.29     -0.74      0.15    536.95      1.00\n",
      " eps_tform[0,2]      0.83      0.37      0.84      0.26      1.53    447.73      1.01\n",
      " eps_tform[0,3]     -0.94      0.14     -0.94     -1.19     -0.72    380.46      1.01\n",
      " eps_tform[0,4]      0.43      0.24      0.42      0.08      0.86    368.55      1.02\n",
      " eps_tform[0,5]     -0.28      0.52     -0.28     -1.05      0.63    360.05      1.01\n",
      " eps_tform[0,6]      0.62      0.35      0.60     -0.01      1.12    415.43      1.01\n",
      " eps_tform[0,7]      0.25      0.68      0.26     -0.88      1.32    564.98      1.01\n",
      " eps_tform[0,8]      1.06      0.59      1.03      0.07      1.98    663.00      1.01\n",
      " eps_tform[0,9]      0.51      0.30      0.53     -0.01      0.96    412.31      1.01\n",
      "eps_tform[0,10]     -0.11      0.34     -0.11     -0.62      0.43    307.85      1.01\n",
      "eps_tform[0,11]      0.94      0.44      0.91      0.21      1.68    373.80      1.01\n",
      "eps_tform[0,12]     -0.70      0.45     -0.70     -1.48      0.01    303.66      1.02\n",
      "eps_tform[0,13]      0.61      0.31      0.60      0.10      1.10    463.88      1.00\n",
      "eps_tform[0,14]      0.19      0.74      0.16     -0.89      1.45    632.11      1.00\n",
      "eps_tform[0,15]      0.61      0.50      0.62     -0.19      1.40    457.87      1.00\n",
      "eps_tform[0,16]      0.85      0.62      0.85     -0.21      1.83    363.99      1.01\n",
      "eps_tform[0,17]     -0.52      0.82     -0.52     -1.90      0.78    849.03      1.00\n",
      "eps_tform[0,18]     -2.30      0.42     -2.27     -2.98     -1.63    420.60      1.02\n",
      "eps_tform[0,19]     -0.89      0.32     -0.90     -1.40     -0.38    320.11      1.01\n",
      "eps_tform[0,20]      0.52      0.48      0.54     -0.22      1.34    450.45      1.01\n",
      "eps_tform[0,21]     -0.81      0.45     -0.82     -1.52     -0.08    412.29      1.01\n",
      "eps_tform[0,22]      0.07      0.38      0.06     -0.53      0.68    376.66      1.00\n",
      "eps_tform[0,23]      0.89      0.82      0.87     -0.37      2.31    692.21      1.00\n",
      "eps_tform[0,24]      1.66      0.44      1.65      0.90      2.36    638.65      1.00\n",
      "eps_tform[0,25]     -0.44      0.55     -0.44     -1.33      0.48    693.32      1.00\n",
      "eps_tform[0,26]     -0.41      0.86     -0.40     -1.78      1.06    886.49      1.00\n",
      "eps_tform[0,27]     -0.69      0.38     -0.69     -1.31     -0.08    412.98      1.01\n",
      "eps_tform[0,28]     -1.39      0.38     -1.38     -2.07     -0.81    557.16      1.00\n",
      "eps_tform[0,29]      0.10      0.45      0.12     -0.69      0.80    586.92      1.00\n",
      "eps_tform[0,30]      0.96      0.46      0.96      0.16      1.66    658.54      1.00\n",
      "eps_tform[0,31]      0.04      0.47      0.04     -0.73      0.81    624.00      1.00\n",
      "eps_tform[0,32]      0.29      0.82      0.30     -1.06      1.63    769.61      1.00\n",
      "eps_tform[0,33]     -0.11      0.39     -0.11     -0.72      0.53    621.19      1.00\n",
      "eps_tform[0,34]     -0.00      0.99     -0.02     -1.80      1.47   1270.12      1.00\n",
      "eps_tform[0,35]     -0.28      0.85     -0.26     -1.63      1.16   1264.22      1.00\n",
      "eps_tform[0,36]      0.06      0.51      0.05     -0.78      0.82    586.54      1.01\n",
      "eps_tform[0,37]      0.94      0.40      0.90      0.30      1.59    644.94      1.00\n",
      "eps_tform[0,38]     -1.24      0.62     -1.23     -2.28     -0.24    794.89      1.00\n",
      "eps_tform[0,39]      1.46      0.50      1.44      0.72      2.36    677.72      1.00\n",
      "eps_tform[0,40]     -0.20      0.52     -0.21     -1.08      0.56    620.90      1.00\n",
      "eps_tform[0,41]      0.53      0.84      0.48     -0.75      1.93    867.15      1.00\n",
      "eps_tform[0,42]      1.11      0.47      1.09      0.40      1.90    535.59      1.00\n",
      "eps_tform[0,43]     -0.46      0.97     -0.48     -2.06      1.16   2048.33      1.00\n",
      "eps_tform[0,44]     -0.70      0.87     -0.69     -2.09      0.78   1129.19      1.00\n",
      "eps_tform[0,45]     -0.15      1.01     -0.16     -1.87      1.47   1434.55      1.00\n",
      "eps_tform[0,46]      1.57      0.92      1.53      0.05      3.07   1732.40      1.00\n",
      "eps_tform[0,47]      0.28      0.98      0.29     -1.27      1.94   1390.82      1.00\n",
      "eps_tform[0,48]     -0.07      0.91     -0.09     -1.59      1.37    838.01      1.00\n",
      "eps_tform[0,49]     -0.09      0.90     -0.10     -1.54      1.39   1072.09      1.00\n",
      "eps_tform[0,50]     -0.05      0.96     -0.01     -1.74      1.35   1645.62      1.00\n",
      "eps_tform[0,51]     -0.16      0.95     -0.13     -1.64      1.40   1347.51      1.00\n",
      "eps_tform[0,52]     -0.01      0.99     -0.03     -1.55      1.61   1779.12      1.00\n",
      "eps_tform[0,53]     -0.02      0.96     -0.02     -1.83      1.40   1076.71      1.00\n",
      "       theta[0]     -0.16      0.15     -0.16     -0.41      0.07    256.09      1.02\n",
      "        tmax[0]     -0.75      0.15     -0.74     -0.98     -0.48    451.46      1.01\n",
      "\n",
      "Number of divergences: 36\n",
      "Loading built-in reddening law F99\n"
     ]
    },
    {
     "name": "stderr",
     "output_type": "stream",
     "text": [
      "/root/miniforge3/envs/bayesn/lib/python3.11/site-packages/bayesn/bayesn_model.py:2994: UserWarning: Missing a plate statement for batch dimension -2 at site 'obs'. You can use `numpyro.util.format_shapes` utility to check shapes at all sites of your model.\n",
      "  mcmc.run(\n",
      "sample: 100%|█████████████████████████████████████████████████████████████████████████| 500/500 [08:18<00:00,  1.00it/s]\n"
     ]
    },
    {
     "name": "stdout",
     "output_type": "stream",
     "text": [
      "\n",
      "                     mean       std    median      5.0%     95.0%     n_eff     r_hat\n",
      "          AV[0]      0.06      0.05      0.05      0.00      0.13     60.35      1.06\n",
      "          Ds[0]     37.05      0.05     37.05     36.97     37.11    209.09      1.01\n",
      "          RV[0]      3.76      1.40      3.83      1.78      6.00    498.30      1.01\n",
      " eps_tform[0,0]     -0.17      0.74     -0.14     -1.46      0.96    403.47      1.01\n",
      " eps_tform[0,1]     -0.63      0.67     -0.66     -1.89      0.35    537.84      1.01\n",
      " eps_tform[0,2]     -0.28      0.73     -0.32     -1.47      0.93    968.15      1.01\n",
      " eps_tform[0,3]      1.32      0.64      1.31      0.45      2.47    201.09      1.02\n",
      " eps_tform[0,4]      0.70      0.90      0.70     -0.62      2.33    121.35      1.03\n",
      " eps_tform[0,5]     -0.31      0.73     -0.32     -1.53      0.75    374.99      1.01\n",
      " eps_tform[0,6]      0.09      0.97      0.06     -1.28      1.78    155.18      1.03\n",
      " eps_tform[0,7]      0.04      0.97      0.03     -1.51      1.64   1044.82      1.00\n",
      " eps_tform[0,8]      0.16      0.93      0.21     -1.43      1.67    824.30      1.01\n",
      " eps_tform[0,9]      0.02      0.43      0.01     -0.70      0.70    435.70      1.00\n",
      "eps_tform[0,10]      0.31      0.44      0.32     -0.46      0.93    126.21      1.03\n",
      "eps_tform[0,11]      0.23      0.66      0.21     -0.93      1.16    227.66      1.03\n",
      "eps_tform[0,12]     -0.71      0.74     -0.72     -1.87      0.50    429.16      1.01\n",
      "eps_tform[0,13]      1.64      0.54      1.60      0.74      2.45    549.52      1.01\n",
      "eps_tform[0,14]      0.64      0.70      0.62     -0.52      1.72    535.96      1.00\n",
      "eps_tform[0,15]      0.74      0.87      0.68     -0.81      2.10    116.37      1.03\n",
      "eps_tform[0,16]     -0.16      0.95     -0.16     -1.61      1.45   1648.61      1.00\n",
      "eps_tform[0,17]      0.04      1.02      0.02     -1.63      1.66   1370.61      1.00\n",
      "eps_tform[0,18]     -0.39      0.71     -0.39     -1.62      0.67    555.73      1.00\n",
      "eps_tform[0,19]      0.74      0.45      0.76     -0.00      1.50    484.75      1.01\n",
      "eps_tform[0,20]     -0.25      0.66     -0.23     -1.35      0.82    628.54      1.00\n",
      "eps_tform[0,21]     -0.57      0.75     -0.56     -1.91      0.60    740.40      1.00\n",
      "eps_tform[0,22]      0.50      0.69      0.48     -0.50      1.69    154.55      1.02\n",
      "eps_tform[0,23]     -0.44      0.85     -0.42     -1.79      0.99   1024.46      1.00\n",
      "eps_tform[0,24]     -0.32      0.86     -0.33     -1.63      1.21   1344.97      1.00\n",
      "eps_tform[0,25]     -0.13      1.02     -0.12     -1.87      1.47    357.43      1.01\n",
      "eps_tform[0,26]      0.05      1.03     -0.00     -1.83      1.53   1348.11      1.00\n",
      "eps_tform[0,27]     -0.60      0.93     -0.59     -2.05      0.90    297.35      1.01\n",
      "eps_tform[0,28]     -0.63      0.94     -0.57     -2.12      0.93   1234.47      1.00\n",
      "eps_tform[0,29]      0.05      1.00      0.05     -1.49      1.73    448.06      1.01\n",
      "eps_tform[0,30]      0.47      1.05      0.45     -1.27      2.17    662.27      1.01\n",
      "eps_tform[0,31]      0.36      0.98      0.38     -1.20      1.90   1219.70      1.00\n",
      "eps_tform[0,32]     -0.23      0.96     -0.22     -1.79      1.34    833.87      1.00\n",
      "eps_tform[0,33]      0.06      0.97      0.07     -1.42      1.60    355.80      1.01\n",
      "eps_tform[0,34]     -0.02      1.01      0.02     -1.57      1.79   1468.39      1.00\n",
      "eps_tform[0,35]      0.00      0.96      0.05     -1.51      1.67   1220.91      1.00\n",
      "eps_tform[0,36]      0.05      0.98     -0.01     -1.50      1.66   1605.17      1.00\n",
      "eps_tform[0,37]     -0.00      1.02      0.01     -1.87      1.39    119.48      1.04\n",
      "eps_tform[0,38]     -0.10      0.96     -0.11     -1.73      1.38   1224.05      1.00\n",
      "eps_tform[0,39]     -0.26      0.99     -0.28     -1.80      1.53   1265.89      1.00\n",
      "eps_tform[0,40]     -0.04      0.98      0.01     -1.72      1.45   1301.85      1.00\n",
      "eps_tform[0,41]      0.05      0.99     -0.03     -1.70      1.50   1436.27      1.00\n",
      "eps_tform[0,42]      0.01      1.02      0.01     -1.86      1.49    580.19      1.01\n",
      "eps_tform[0,43]      0.03      0.95      0.07     -1.62      1.53   1501.42      1.00\n",
      "eps_tform[0,44]      0.01      1.01      0.04     -1.83      1.50   1472.24      1.00\n",
      "eps_tform[0,45]      0.01      1.03     -0.06     -1.76      1.60   1402.13      1.00\n",
      "eps_tform[0,46]     -0.07      0.96     -0.09     -1.51      1.55    979.75      1.00\n",
      "eps_tform[0,47]     -0.06      1.01     -0.06     -1.53      1.68   1078.77      1.00\n",
      "eps_tform[0,48]      0.05      1.04      0.09     -1.65      1.73   1284.12      1.00\n",
      "eps_tform[0,49]      0.01      0.97      0.08     -1.61      1.56   1470.74      1.00\n",
      "eps_tform[0,50]     -0.07      1.04     -0.03     -1.77      1.46    438.79      1.01\n",
      "eps_tform[0,51]      0.07      1.01      0.08     -1.67      1.63    830.31      1.01\n",
      "eps_tform[0,52]     -0.01      0.96      0.05     -1.72      1.39   1888.20      1.00\n",
      "eps_tform[0,53]      0.06      1.02      0.04     -1.50      1.74    227.51      1.02\n",
      "       theta[0]      0.96      0.23      0.96      0.51      1.29     81.57      1.05\n",
      "        tmax[0]     -0.51      0.33     -0.50     -1.06      0.03    335.44      1.01\n",
      "\n",
      "Number of divergences: 59\n",
      "Loading built-in reddening law F99\n"
     ]
    },
    {
     "name": "stderr",
     "output_type": "stream",
     "text": [
      "/root/miniforge3/envs/bayesn/lib/python3.11/site-packages/bayesn/bayesn_model.py:2994: UserWarning: Missing a plate statement for batch dimension -2 at site 'obs'. You can use `numpyro.util.format_shapes` utility to check shapes at all sites of your model.\n",
      "  mcmc.run(\n",
      "sample: 100%|█████████████████████████████████████████████████████████████████████████| 500/500 [36:22<00:00,  4.37s/it]\n"
     ]
    },
    {
     "name": "stdout",
     "output_type": "stream",
     "text": [
      "\n",
      "                     mean       std    median      5.0%     95.0%     n_eff     r_hat\n",
      "          AV[0]      0.06      0.04      0.05      0.00      0.11    306.08      1.01\n",
      "          Ds[0]     34.17      0.03     34.17     34.12     34.23    335.11      1.01\n",
      "          RV[0]      3.80      1.37      3.90      1.83      6.00   1446.24      1.00\n",
      " eps_tform[0,0]     -1.28      0.43     -1.28     -1.90     -0.46    716.59      1.00\n",
      " eps_tform[0,1]     -2.12      0.55     -2.15     -2.93     -1.13    944.97      1.00\n",
      " eps_tform[0,2]     -0.66      0.40     -0.67     -1.33     -0.05    716.31      1.00\n",
      " eps_tform[0,3]      1.83      0.37      1.84      1.24      2.39   1031.57      1.00\n",
      " eps_tform[0,4]      1.50      0.32      1.50      1.00      2.06    922.09      1.00\n",
      " eps_tform[0,5]      0.14      0.89      0.17     -1.32      1.46    725.88      1.00\n",
      " eps_tform[0,6]     -0.20      0.89     -0.20     -1.57      1.29    895.55      1.00\n",
      " eps_tform[0,7]     -0.20      0.88     -0.19     -1.50      1.35   1073.08      1.00\n",
      " eps_tform[0,8]     -0.20      0.93     -0.21     -1.81      1.23   1153.19      1.00\n",
      " eps_tform[0,9]     -1.80      0.32     -1.78     -2.29     -1.29    522.66      1.00\n",
      "eps_tform[0,10]     -0.38      0.44     -0.37     -1.11      0.30    277.84      1.01\n",
      "eps_tform[0,11]     -1.11      0.34     -1.11     -1.59     -0.53    480.16      1.00\n",
      "eps_tform[0,12]     -1.41      0.38     -1.41     -2.09     -0.82    419.99      1.00\n",
      "eps_tform[0,13]      0.09      0.27      0.08     -0.33      0.56    396.44      1.00\n",
      "eps_tform[0,14]      0.10      0.79      0.04     -1.24      1.32    852.48      1.00\n",
      "eps_tform[0,15]     -0.29      0.39     -0.30     -0.96      0.33    538.22      1.01\n",
      "eps_tform[0,16]     -0.58      0.47     -0.57     -1.37      0.16    543.09      1.01\n",
      "eps_tform[0,17]     -0.23      0.49     -0.24     -1.07      0.52    431.68      1.00\n",
      "eps_tform[0,18]      1.36      0.44      1.35      0.67      2.11    508.78      1.00\n",
      "eps_tform[0,19]      0.92      0.40      0.92      0.21      1.51    363.82      1.00\n",
      "eps_tform[0,20]      2.07      0.39      2.07      1.39      2.68    464.16      1.00\n",
      "eps_tform[0,21]      1.18      0.41      1.19      0.51      1.86    471.62      1.00\n",
      "eps_tform[0,22]     -1.14      0.33     -1.15     -1.76     -0.68    313.84      1.00\n",
      "eps_tform[0,23]     -0.70      0.94     -0.67     -2.28      0.79    496.87      1.00\n",
      "eps_tform[0,24]      0.14      0.89      0.15     -1.40      1.51   1071.60      1.00\n",
      "eps_tform[0,25]      0.99      0.80      0.98     -0.30      2.25    763.50      1.00\n",
      "eps_tform[0,26]     -0.30      0.90     -0.30     -1.66      1.29    648.62      1.00\n",
      "eps_tform[0,27]     -0.46      0.39     -0.45     -1.04      0.25    654.24      1.00\n",
      "eps_tform[0,28]      3.11      0.45      3.10      2.35      3.79    607.05      1.00\n",
      "eps_tform[0,29]      1.46      0.33      1.46      0.93      2.00    418.66      1.00\n",
      "eps_tform[0,30]      1.31      0.38      1.33      0.72      1.99    565.04      1.01\n",
      "eps_tform[0,31]      0.11      0.37      0.10     -0.49      0.71    605.35      1.00\n",
      "eps_tform[0,32]      0.05      0.81      0.06     -1.35      1.33   1022.84      1.00\n",
      "eps_tform[0,33]      0.58      0.32      0.57      0.06      1.09    527.07      1.00\n",
      "eps_tform[0,34]     -1.82      0.31     -1.82     -2.32     -1.30    481.65      1.00\n",
      "eps_tform[0,35]     -1.24      0.34     -1.23     -1.81     -0.74    613.82      1.00\n",
      "eps_tform[0,36]     -0.16      0.42     -0.17     -0.92      0.49    467.12      1.00\n",
      "eps_tform[0,37]     -0.57      0.33     -0.56     -1.17     -0.09    684.82      1.01\n",
      "eps_tform[0,38]      0.14      0.43      0.14     -0.53      0.85    447.90      1.00\n",
      "eps_tform[0,39]     -0.07      0.41     -0.09     -0.76      0.56    537.68      1.01\n",
      "eps_tform[0,40]     -0.30      0.35     -0.30     -0.86      0.27    572.43      1.00\n",
      "eps_tform[0,41]      0.39      0.86      0.38     -1.15      1.66   1205.54      1.00\n",
      "eps_tform[0,42]     -0.34      0.45     -0.35     -1.11      0.35    440.81      1.00\n",
      "eps_tform[0,43]      0.31      0.45      0.31     -0.40      1.01    707.06      1.00\n",
      "eps_tform[0,44]     -0.47      0.42     -0.48     -1.14      0.22    680.84      1.01\n",
      "eps_tform[0,45]      0.38      0.71      0.37     -0.82      1.52    537.96      1.00\n",
      "eps_tform[0,46]     -0.91      0.56     -0.89     -1.80     -0.01    656.91      1.00\n",
      "eps_tform[0,47]     -1.39      0.75     -1.37     -2.54     -0.13    806.21      1.00\n",
      "eps_tform[0,48]     -1.23      0.58     -1.24     -2.13     -0.24    773.69      1.00\n",
      "eps_tform[0,49]     -0.14      0.59     -0.14     -1.06      0.86    809.35      1.00\n",
      "eps_tform[0,50]     -0.18      0.99     -0.16     -1.67      1.51   1403.97      1.00\n",
      "eps_tform[0,51]      0.36      0.99      0.34     -1.38      1.83   1236.33      1.00\n",
      "eps_tform[0,52]      0.45      0.97      0.49     -0.97      2.17   1982.74      1.00\n",
      "eps_tform[0,53]      0.11      0.99      0.09     -1.34      1.78   2328.30      1.00\n",
      "       theta[0]     -0.13      0.22     -0.13     -0.48      0.23    326.61      1.01\n",
      "        tmax[0]      0.68      0.10      0.68      0.50      0.84    823.02      1.00\n",
      "\n",
      "Number of divergences: 31\n",
      "Loading built-in reddening law F99\n"
     ]
    },
    {
     "name": "stderr",
     "output_type": "stream",
     "text": [
      "/root/miniforge3/envs/bayesn/lib/python3.11/site-packages/bayesn/bayesn_model.py:2994: UserWarning: Missing a plate statement for batch dimension -2 at site 'obs'. You can use `numpyro.util.format_shapes` utility to check shapes at all sites of your model.\n",
      "  mcmc.run(\n",
      "sample: 100%|█████████████████████████████████████████████████████████████████████████| 500/500 [30:32<00:00,  3.66s/it]\n"
     ]
    },
    {
     "name": "stdout",
     "output_type": "stream",
     "text": [
      "\n",
      "                     mean       std    median      5.0%     95.0%     n_eff     r_hat\n",
      "          AV[0]      0.18      0.06      0.18      0.08      0.27    564.28      1.00\n",
      "          Ds[0]     34.46      0.06     34.46     34.37     34.56    497.88      1.01\n",
      "          RV[0]      3.06      1.36      2.83      1.02      5.10    654.71      1.00\n",
      " eps_tform[0,0]     -0.03      0.90     -0.02     -1.48      1.48   1077.55      1.00\n",
      " eps_tform[0,1]      1.53      0.90      1.54     -0.09      2.89   1368.15      1.00\n",
      " eps_tform[0,2]      1.56      0.81      1.57      0.15      2.78   1189.94      1.00\n",
      " eps_tform[0,3]      1.95      0.75      1.98      0.65      3.08    969.11      1.00\n",
      " eps_tform[0,4]      1.04      0.74      1.04     -0.16      2.27   1114.03      1.00\n",
      " eps_tform[0,5]     -1.12      0.86     -1.09     -2.66      0.14   1378.25      1.00\n",
      " eps_tform[0,6]     -0.54      0.90     -0.55     -2.06      0.90   1298.28      1.00\n",
      " eps_tform[0,7]      0.12      0.89      0.12     -1.16      1.68   1235.50      1.00\n",
      " eps_tform[0,8]     -0.18      0.92     -0.17     -1.66      1.35   1215.59      1.00\n",
      " eps_tform[0,9]      0.03      0.73      0.04     -1.12      1.30    842.81      1.00\n",
      "eps_tform[0,10]     -1.63      0.88     -1.61     -3.12     -0.29    840.90      1.00\n",
      "eps_tform[0,11]      0.72      0.83      0.73     -0.67      2.00   1131.21      1.00\n",
      "eps_tform[0,12]     -1.09      0.81     -1.09     -2.46      0.22    879.89      1.00\n",
      "eps_tform[0,13]      1.04      0.74      1.04     -0.26      2.17    720.16      1.01\n",
      "eps_tform[0,14]     -1.44      0.77     -1.42     -2.68     -0.15   1045.41      1.00\n",
      "eps_tform[0,15]      0.36      0.93      0.33     -1.01      1.96   1262.95      1.00\n",
      "eps_tform[0,16]      0.67      0.95      0.67     -0.75      2.26   1529.29      1.00\n",
      "eps_tform[0,17]     -0.83      0.88     -0.83     -2.33      0.54   1305.33      1.00\n",
      "eps_tform[0,18]      1.42      0.68      1.45      0.33      2.44    979.76      1.00\n",
      "eps_tform[0,19]      1.26      0.58      1.25      0.30      2.14    838.69      1.00\n",
      "eps_tform[0,20]      1.51      0.51      1.52      0.67      2.28   1050.89      1.00\n",
      "eps_tform[0,21]     -0.24      0.54     -0.24     -1.21      0.58    691.88      1.01\n",
      "eps_tform[0,22]     -0.25      0.48     -0.26     -0.98      0.57    697.68      1.00\n",
      "eps_tform[0,23]      0.93      0.76      0.91     -0.32      2.11   1045.52      1.00\n",
      "eps_tform[0,24]      0.38      0.43      0.39     -0.31      1.09    567.98      1.00\n",
      "eps_tform[0,25]     -0.97      0.43     -0.95     -1.62     -0.25    804.68      1.00\n",
      "eps_tform[0,26]     -0.65      0.53     -0.65     -1.56      0.17    730.16      1.01\n",
      "eps_tform[0,27]     -0.52      0.57     -0.53     -1.44      0.41    910.45      1.00\n",
      "eps_tform[0,28]      0.63      0.38      0.64      0.03      1.22    740.14      1.00\n",
      "eps_tform[0,29]     -1.29      0.50     -1.30     -2.11     -0.46    894.08      1.00\n",
      "eps_tform[0,30]     -1.62      0.65     -1.62     -2.63     -0.50    842.07      1.00\n",
      "eps_tform[0,31]      1.46      0.54      1.46      0.51      2.29    881.91      1.00\n",
      "eps_tform[0,32]      0.71      0.72      0.70     -0.47      1.88   1157.97      1.00\n",
      "eps_tform[0,33]     -0.08      0.39     -0.08     -0.66      0.61    720.11      1.00\n",
      "eps_tform[0,34]      0.54      0.39      0.52     -0.09      1.18    669.74      1.00\n",
      "eps_tform[0,35]      0.84      0.50      0.82     -0.01      1.63    737.46      1.01\n",
      "eps_tform[0,36]     -0.56      0.55     -0.55     -1.48      0.31    846.58      1.00\n",
      "eps_tform[0,37]     -1.60      0.49     -1.60     -2.41     -0.80    848.18      1.00\n",
      "eps_tform[0,38]     -0.38      0.55     -0.36     -1.21      0.51    868.99      1.00\n",
      "eps_tform[0,39]     -1.34      0.59     -1.32     -2.27     -0.35    927.05      1.00\n",
      "eps_tform[0,40]     -0.66      0.58     -0.65     -1.59      0.28    742.11      1.01\n",
      "eps_tform[0,41]     -0.45      0.91     -0.43     -2.02      0.98   1362.01      1.00\n",
      "eps_tform[0,42]      0.11      0.50      0.10     -0.60      1.01    622.55      1.00\n",
      "eps_tform[0,43]     -1.03      0.49     -1.02     -1.82     -0.28    747.58      1.00\n",
      "eps_tform[0,44]      0.13      0.55      0.14     -0.77      1.01    813.24      1.00\n",
      "eps_tform[0,45]     -1.55      0.76     -1.55     -2.74     -0.26    908.20      1.00\n",
      "eps_tform[0,46]      0.04      0.58      0.03     -0.94      0.95    855.40      1.00\n",
      "eps_tform[0,47]      0.07      0.82      0.09     -1.39      1.28   1319.41      1.00\n",
      "eps_tform[0,48]      0.77      0.68      0.78     -0.30      1.91   1170.32      1.00\n",
      "eps_tform[0,49]      2.78      0.73      2.80      1.64      4.05    925.70      1.01\n",
      "eps_tform[0,50]      0.60      0.91      0.57     -0.82      2.15   1261.27      1.00\n",
      "eps_tform[0,51]      0.28      0.66      0.29     -0.74      1.45    848.73      1.00\n",
      "eps_tform[0,52]      0.41      0.75      0.41     -0.73      1.67   1184.54      1.00\n",
      "eps_tform[0,53]     -0.78      0.82     -0.79     -2.07      0.60   1393.97      1.00\n",
      "       theta[0]     -0.62      0.27     -0.63     -1.06     -0.19    649.11      1.00\n",
      "        tmax[0]      2.17      0.26      2.19      1.69      2.53    972.66      1.00\n",
      "\n",
      "Number of divergences: 0\n",
      "Loading built-in reddening law F99\n"
     ]
    },
    {
     "name": "stderr",
     "output_type": "stream",
     "text": [
      "/root/miniforge3/envs/bayesn/lib/python3.11/site-packages/bayesn/bayesn_model.py:2994: UserWarning: Missing a plate statement for batch dimension -2 at site 'obs'. You can use `numpyro.util.format_shapes` utility to check shapes at all sites of your model.\n",
      "  mcmc.run(\n",
      "sample: 100%|█████████████████████████████████████████████████████████████████████████| 500/500 [26:43<00:00,  3.21s/it]\n"
     ]
    },
    {
     "name": "stdout",
     "output_type": "stream",
     "text": [
      "\n",
      "                     mean       std    median      5.0%     95.0%     n_eff     r_hat\n",
      "          AV[0]      0.08      0.05      0.08      0.00      0.15    355.65      1.00\n",
      "          Ds[0]     35.31      0.04     35.31     35.24     35.37    394.46      1.01\n",
      "          RV[0]      3.85      1.32      3.97      1.91      5.99    777.21      1.00\n",
      " eps_tform[0,0]      0.42      0.50      0.42     -0.43      1.18    433.26      1.00\n",
      " eps_tform[0,1]     -0.49      0.37     -0.48     -1.12      0.07    748.61      1.00\n",
      " eps_tform[0,2]      0.71      0.38      0.69      0.17      1.40    603.71      1.00\n",
      " eps_tform[0,3]     -0.14      0.17     -0.14     -0.43      0.13    675.13      1.00\n",
      " eps_tform[0,4]      0.33      0.23      0.34     -0.00      0.72    697.86      1.01\n",
      " eps_tform[0,5]      0.05      0.68      0.06     -1.13      1.09    385.35      1.01\n",
      " eps_tform[0,6]     -0.27      0.31     -0.28     -0.80      0.20    410.70      1.01\n",
      " eps_tform[0,7]     -0.43      0.52     -0.44     -1.30      0.42    684.31      1.01\n",
      " eps_tform[0,8]     -0.58      0.59     -0.58     -1.58      0.32    883.87      1.00\n",
      " eps_tform[0,9]      1.24      0.46      1.27      0.58      2.07    490.75      1.00\n",
      "eps_tform[0,10]      0.81      0.68      0.77     -0.28      1.85    764.73      1.00\n",
      "eps_tform[0,11]      1.33      0.63      1.33      0.20      2.29    659.92      1.00\n",
      "eps_tform[0,12]     -0.79      0.63     -0.78     -1.89      0.11    640.71      1.01\n",
      "eps_tform[0,13]      0.74      0.57      0.75     -0.14      1.67    838.93      1.00\n",
      "eps_tform[0,14]     -0.48      0.80     -0.46     -1.91      0.74    601.97      1.00\n",
      "eps_tform[0,15]      0.33      0.45      0.34     -0.44      1.01    232.18      1.01\n",
      "eps_tform[0,16]      0.60      0.55      0.60     -0.27      1.49    569.72      1.00\n",
      "eps_tform[0,17]      0.11      0.68      0.12     -1.10      1.09    763.07      1.00\n",
      "eps_tform[0,18]     -1.73      0.58     -1.76     -2.67     -0.80    453.14      1.00\n",
      "eps_tform[0,19]     -0.52      0.40     -0.52     -1.21      0.11    428.79      1.00\n",
      "eps_tform[0,20]      0.40      0.41      0.39     -0.22      1.11    446.16      1.00\n",
      "eps_tform[0,21]     -0.47      0.48     -0.48     -1.24      0.34    430.41      1.01\n",
      "eps_tform[0,22]     -0.93      0.39     -0.94     -1.53     -0.29    336.13      1.01\n",
      "eps_tform[0,23]      0.06      0.83      0.05     -1.15      1.56    596.94      1.00\n",
      "eps_tform[0,24]     -0.20      0.34     -0.20     -0.75      0.33    583.07      1.00\n",
      "eps_tform[0,25]     -0.07      0.44     -0.08     -0.87      0.58    369.80      1.01\n",
      "eps_tform[0,26]     -1.28      0.61     -1.28     -2.33     -0.35   1324.84      1.00\n",
      "eps_tform[0,27]      0.15      0.41      0.14     -0.46      0.88    569.36      1.00\n",
      "eps_tform[0,28]     -0.67      0.41     -0.66     -1.31      0.01    566.14      1.01\n",
      "eps_tform[0,29]      0.18      0.41      0.18     -0.54      0.81    810.99      1.00\n",
      "eps_tform[0,30]      0.88      0.46      0.87      0.13      1.62    674.68      1.00\n",
      "eps_tform[0,31]     -1.03      0.45     -1.04     -1.79     -0.32    478.40      1.00\n",
      "eps_tform[0,32]      0.03      0.91      0.01     -1.51      1.42    859.11      1.00\n",
      "eps_tform[0,33]      0.11      0.34      0.10     -0.39      0.72    755.68      1.00\n",
      "eps_tform[0,34]     -0.22      0.90     -0.23     -1.46      1.44    969.25      1.00\n",
      "eps_tform[0,35]     -1.12      0.77     -1.13     -2.49      0.01   1215.74      1.00\n",
      "eps_tform[0,36]     -0.20      0.51     -0.18     -1.02      0.65    605.60      1.00\n",
      "eps_tform[0,37]      0.15      0.39      0.17     -0.52      0.75    343.16      1.00\n",
      "eps_tform[0,38]      0.60      0.48      0.60     -0.26      1.31    673.01      1.00\n",
      "eps_tform[0,39]      0.24      0.59      0.26     -0.72      1.18    395.92      1.00\n",
      "eps_tform[0,40]      0.56      0.48      0.57     -0.18      1.34    759.57      1.00\n",
      "eps_tform[0,41]     -0.06      0.97     -0.07     -1.71      1.47    724.93      1.00\n",
      "eps_tform[0,42]     -0.31      0.71     -0.34     -1.40      0.85   1123.17      1.00\n",
      "eps_tform[0,43]      0.05      0.99      0.06     -1.59      1.59   1632.89      1.00\n",
      "eps_tform[0,44]      0.13      1.02      0.12     -1.46      1.79   1669.27      1.00\n",
      "eps_tform[0,45]     -0.82      0.79     -0.83     -2.13      0.36   1026.12      1.00\n",
      "eps_tform[0,46]      0.22      0.58      0.20     -0.76      1.13    835.71      1.00\n",
      "eps_tform[0,47]      0.76      0.77      0.76     -0.55      2.00   1285.18      1.00\n",
      "eps_tform[0,48]     -0.46      0.60     -0.43     -1.42      0.58    612.17      1.00\n",
      "eps_tform[0,49]      0.16      0.71      0.16     -0.92      1.42    782.95      1.00\n",
      "eps_tform[0,50]      0.12      1.01      0.12     -1.40      1.80   1534.72      1.00\n",
      "eps_tform[0,51]      0.09      0.98      0.08     -1.44      1.72   1428.54      1.00\n",
      "eps_tform[0,52]     -0.02      0.95     -0.02     -1.56      1.50   1626.69      1.00\n",
      "eps_tform[0,53]     -0.01      0.98      0.02     -1.64      1.55   1496.37      1.00\n",
      "       theta[0]     -0.06      0.22     -0.07     -0.44      0.27    404.38      1.00\n",
      "        tmax[0]     -0.83      0.25     -0.84     -1.21     -0.39    330.58      1.00\n",
      "\n",
      "Number of divergences: 13\n",
      "Loading built-in reddening law F99\n"
     ]
    },
    {
     "name": "stderr",
     "output_type": "stream",
     "text": [
      "/root/miniforge3/envs/bayesn/lib/python3.11/site-packages/bayesn/bayesn_model.py:2994: UserWarning: Missing a plate statement for batch dimension -2 at site 'obs'. You can use `numpyro.util.format_shapes` utility to check shapes at all sites of your model.\n",
      "  mcmc.run(\n",
      "sample: 100%|███████████████████████████████████████████████████████████████████████| 500/500 [1:32:14<00:00, 11.07s/it]\n"
     ]
    },
    {
     "name": "stdout",
     "output_type": "stream",
     "text": [
      "\n",
      "                     mean       std    median      5.0%     95.0%     n_eff     r_hat\n",
      "          AV[0]      2.08      0.10      2.06      1.97      2.29      2.81      2.47\n",
      "          Ds[0]     27.34      0.07     27.33     27.26     27.45      2.86      2.23\n",
      "          RV[0]      1.82      0.24      1.75      1.48      2.09      2.73      3.37\n",
      " eps_tform[0,0]      0.62      0.81      0.50     -0.37      1.77      3.10      2.56\n",
      " eps_tform[0,1]      0.37      1.94     -0.26     -1.48      3.69      2.05     10.65\n",
      " eps_tform[0,2]      0.54      0.70      0.82     -0.39      1.37      2.17      4.17\n",
      " eps_tform[0,3]     -0.08      0.26     -0.08     -0.52      0.29      6.86      1.70\n",
      " eps_tform[0,4]      1.30      1.22      1.14     -0.32      2.71      2.05      6.51\n",
      " eps_tform[0,5]     -0.60      0.44     -0.55     -1.15     -0.06      2.17      5.18\n",
      " eps_tform[0,6]     -1.43      1.64     -0.14     -3.67      0.45      2.21      3.22\n",
      " eps_tform[0,7]      0.69      0.93      0.29     -0.45      1.84      2.12      4.30\n",
      " eps_tform[0,8]     -0.13      0.27      0.03     -0.58      0.14      3.05      1.78\n",
      " eps_tform[0,9]      1.66      1.90      1.75     -0.79      4.59      2.30      4.01\n",
      "eps_tform[0,10]     -0.79      0.93     -0.62     -2.34      0.44      2.09      6.01\n",
      "eps_tform[0,11]     -0.74      0.43     -0.72     -1.65     -0.20      9.62      1.47\n",
      "eps_tform[0,12]      1.08      1.21      1.37     -0.54      2.87      3.50      2.42\n",
      "eps_tform[0,13]      4.57      3.04      5.33      0.30      7.70      2.06      9.54\n",
      "eps_tform[0,14]     -1.26      1.71     -1.08     -3.22      0.57      2.02     11.43\n",
      "eps_tform[0,15]      1.20      1.55      0.03     -0.39      3.39      2.39      2.44\n",
      "eps_tform[0,16]     -0.70      0.95     -0.35     -1.88      0.58      2.15      3.94\n",
      "eps_tform[0,17]      0.39      1.25      0.11     -1.93      1.92      2.38      3.14\n",
      "eps_tform[0,18]      0.94      2.57      0.28     -1.42      5.72      2.06      6.11\n",
      "eps_tform[0,19]     -1.97      1.05     -2.24     -3.00     -0.24      2.04      8.47\n",
      "eps_tform[0,20]     -1.43      0.91     -1.31     -2.52     -0.09      2.16      3.90\n",
      "eps_tform[0,21]      3.20      2.11      3.45     -0.01      6.25      2.34      4.17\n",
      "eps_tform[0,22]      2.37      2.08      2.46      0.10      5.17      2.15      6.01\n",
      "eps_tform[0,23]     -2.62      2.64     -2.82     -5.43      0.57      2.02     14.85\n",
      "eps_tform[0,24]      3.28      3.65      1.98     -0.50      7.57      2.04      6.80\n",
      "eps_tform[0,25]      1.23      1.10      0.99     -0.11      3.15      2.12      5.63\n",
      "eps_tform[0,26]     -1.04      0.89     -1.33     -1.98      0.34      2.21      4.24\n",
      "eps_tform[0,27]      4.89      3.62      5.47     -0.43      8.60      2.02     10.97\n",
      "eps_tform[0,28]     -3.78      2.95     -4.78     -6.82      0.40      2.02     12.71\n",
      "eps_tform[0,29]     -2.57      1.17     -3.11     -3.80     -0.65      2.13      4.76\n",
      "eps_tform[0,30]      3.02      3.64      1.43     -0.13      9.53      2.04     10.27\n",
      "eps_tform[0,31]      1.18      2.71      1.38     -3.53      4.06      2.10      6.06\n",
      "eps_tform[0,32]     -3.18      3.15     -2.77     -6.60      0.06      2.01     13.78\n",
      "eps_tform[0,33]     -1.52      1.40     -0.87     -3.24      0.03      2.10      4.54\n",
      "eps_tform[0,34]      0.54      0.67      0.79     -0.58      1.21      2.25      4.00\n",
      "eps_tform[0,35]      0.71      0.27      0.64      0.26      1.14     49.42      1.11\n",
      "eps_tform[0,36]      1.37      1.55      0.74     -0.24      3.38      2.12      4.21\n",
      "eps_tform[0,37]     -0.01      0.51      0.15     -1.06      0.53      2.57      2.54\n",
      "eps_tform[0,38]     -5.36      4.29     -6.55     -9.73      0.65      2.06     10.56\n",
      "eps_tform[0,39]      0.37      1.25      0.40     -1.31      2.26      2.26      3.88\n",
      "eps_tform[0,40]     -0.05      0.57      0.17     -1.08      0.60      2.52      2.27\n",
      "eps_tform[0,41]     -5.50      4.72     -5.94    -10.44     -0.03      2.02     17.25\n",
      "eps_tform[0,42]     -0.71      1.13     -0.15     -2.43      0.49      2.82      1.84\n",
      "eps_tform[0,43]     -0.51      0.72      0.03     -1.55      0.22      2.52      2.23\n",
      "eps_tform[0,44]      0.05      0.35     -0.05     -0.33      0.78     18.68      1.14\n",
      "eps_tform[0,45]     -4.17      4.30     -2.95     -9.12      0.25      2.04      7.56\n",
      "eps_tform[0,46]     -1.37      0.97     -1.22     -2.57     -0.15      2.11      4.70\n",
      "eps_tform[0,47]     -1.96      2.22     -1.02     -4.59      0.53      2.06      6.26\n",
      "eps_tform[0,48]     -2.67      3.03     -2.38     -5.99      1.21      2.02     11.14\n",
      "eps_tform[0,49]      4.82      4.46      4.27     -0.26      9.80      2.02      9.73\n",
      "eps_tform[0,50]     -0.17      0.87     -0.08     -1.88      0.80      2.37      3.01\n",
      "eps_tform[0,51]      1.03      1.25      0.13     -0.17      2.90      2.65      2.02\n",
      "eps_tform[0,52]     -1.13      1.24     -0.67     -2.96      0.35      2.71      1.97\n",
      "eps_tform[0,53]     -0.07      0.74      0.18     -1.45      0.98     17.46      1.13\n",
      "       theta[0]      0.13      1.09      0.71     -1.56      1.25      2.05      9.10\n",
      "        tmax[0]      0.08      0.48     -0.29     -0.39      0.79      2.22      4.65\n",
      "\n",
      "Number of divergences: 0\n",
      "Loading built-in reddening law F99\n"
     ]
    },
    {
     "name": "stderr",
     "output_type": "stream",
     "text": [
      "/root/miniforge3/envs/bayesn/lib/python3.11/site-packages/bayesn/bayesn_model.py:2994: UserWarning: Missing a plate statement for batch dimension -2 at site 'obs'. You can use `numpyro.util.format_shapes` utility to check shapes at all sites of your model.\n",
      "  mcmc.run(\n",
      "sample: 100%|█████████████████████████████████████████████████████████████████████████| 500/500 [19:22<00:00,  2.33s/it]\n"
     ]
    },
    {
     "name": "stdout",
     "output_type": "stream",
     "text": [
      "\n",
      "                     mean       std    median      5.0%     95.0%     n_eff     r_hat\n",
      "          AV[0]      0.16      0.07      0.16      0.05      0.26    284.94      1.01\n",
      "          Ds[0]     35.67      0.05     35.67     35.58     35.75    337.42      1.02\n",
      "          RV[0]      3.51      1.35      3.51      1.50      5.78    606.13      1.00\n",
      " eps_tform[0,0]     -1.61      0.40     -1.59     -2.33     -1.02    579.81      1.00\n",
      " eps_tform[0,1]     -2.07      0.26     -2.07     -2.50     -1.64    886.25      1.00\n",
      " eps_tform[0,2]      0.91      0.49      0.89      0.08      1.71    407.62      1.00\n",
      " eps_tform[0,3]     -0.67      0.15     -0.68     -0.91     -0.44    416.45      1.00\n",
      " eps_tform[0,4]     -0.32      0.25     -0.32     -0.72      0.10    421.27      1.00\n",
      " eps_tform[0,5]      0.01      0.65      0.03     -0.97      1.17    427.11      1.00\n",
      " eps_tform[0,6]     -0.77      0.28     -0.78     -1.26     -0.36    410.19      1.01\n",
      " eps_tform[0,7]     -0.06      0.58     -0.04     -1.09      0.79    585.13      1.00\n",
      " eps_tform[0,8]     -0.91      0.55     -0.93     -1.86     -0.06    755.61      1.01\n",
      " eps_tform[0,9]     -1.33      0.46     -1.30     -2.05     -0.57    398.64      1.00\n",
      "eps_tform[0,10]     -0.28      0.50     -0.30     -1.05      0.53    346.29      1.00\n",
      "eps_tform[0,11]     -1.24      0.48     -1.25     -1.93     -0.36    649.50      1.00\n",
      "eps_tform[0,12]     -1.39      0.50     -1.40     -2.22     -0.60    552.02      1.00\n",
      "eps_tform[0,13]      0.16      0.38      0.15     -0.48      0.76    643.47      1.01\n",
      "eps_tform[0,14]      0.43      0.74      0.43     -0.75      1.69    689.61      1.01\n",
      "eps_tform[0,15]     -0.87      0.51     -0.87     -1.72     -0.06    454.55      1.02\n",
      "eps_tform[0,16]      0.28      0.60      0.29     -0.68      1.28    702.78      1.00\n",
      "eps_tform[0,17]     -0.63      0.88     -0.65     -2.02      0.83   1086.35      1.00\n",
      "eps_tform[0,18]      0.25      0.54      0.24     -0.67      1.09    526.18      1.00\n",
      "eps_tform[0,19]     -0.29      0.43     -0.29     -0.98      0.38    347.57      1.00\n",
      "eps_tform[0,20]      2.26      0.49      2.26      1.41      2.98    657.41      1.00\n",
      "eps_tform[0,21]      0.42      0.48      0.41     -0.41      1.15    513.04      1.01\n",
      "eps_tform[0,22]     -0.35      0.38     -0.35     -0.95      0.26    734.96      1.01\n",
      "eps_tform[0,23]     -0.77      0.79     -0.78     -2.06      0.51    623.20      1.00\n",
      "eps_tform[0,24]      0.69      0.38      0.69      0.08      1.32    887.72      1.00\n",
      "eps_tform[0,25]     -0.64      0.72     -0.65     -1.76      0.54   1136.28      1.00\n",
      "eps_tform[0,26]      0.82      0.58      0.83     -0.07      1.80    697.39      1.00\n",
      "eps_tform[0,27]      0.07      0.43      0.06     -0.71      0.74    715.50      1.00\n",
      "eps_tform[0,28]      1.04      0.47      1.05      0.27      1.78    690.30      1.00\n",
      "eps_tform[0,29]     -0.89      0.41     -0.90     -1.57     -0.20    717.36      1.00\n",
      "eps_tform[0,30]     -0.07      0.47     -0.07     -0.85      0.66    530.50      1.01\n",
      "eps_tform[0,31]      0.45      0.41      0.44     -0.19      1.12    743.53      1.00\n",
      "eps_tform[0,32]     -0.56      0.83     -0.58     -1.89      0.85   1077.08      1.00\n",
      "eps_tform[0,33]      0.14      0.31      0.14     -0.37      0.64    780.34      1.00\n",
      "eps_tform[0,34]      0.09      0.65      0.10     -1.05      1.06    954.44      1.00\n",
      "eps_tform[0,35]      0.53      0.77      0.52     -0.68      1.81   1069.42      1.00\n",
      "eps_tform[0,36]      0.85      0.53      0.87     -0.06      1.64    726.08      1.00\n",
      "eps_tform[0,37]     -0.14      0.47     -0.12     -0.87      0.62    339.09      1.00\n",
      "eps_tform[0,38]      1.44      0.61      1.43      0.40      2.40    619.77      1.00\n",
      "eps_tform[0,39]      0.50      0.49      0.50     -0.26      1.29    394.11      1.01\n",
      "eps_tform[0,40]      0.10      0.50      0.09     -0.68      0.91    732.93      1.00\n",
      "eps_tform[0,41]      0.35      0.88      0.35     -1.11      1.71   1328.28      1.00\n",
      "eps_tform[0,42]     -1.31      0.46     -1.33     -2.06     -0.56    685.91      1.00\n",
      "eps_tform[0,43]      0.02      0.99     -0.01     -1.64      1.57   1364.46      1.00\n",
      "eps_tform[0,44]     -0.20      0.92     -0.20     -1.52      1.53   2182.13      1.00\n",
      "eps_tform[0,45]      0.60      0.96      0.62     -0.94      2.26   1889.18      1.00\n",
      "eps_tform[0,46]     -0.34      0.70     -0.37     -1.55      0.74    568.73      1.00\n",
      "eps_tform[0,47]     -0.03      0.96     -0.05     -1.50      1.66   1657.48      1.00\n",
      "eps_tform[0,48]     -0.37      0.73     -0.39     -1.58      0.74   1075.24      1.00\n",
      "eps_tform[0,49]     -0.70      0.77     -0.68     -2.05      0.50   1392.41      1.00\n",
      "eps_tform[0,50]     -0.76      0.92     -0.78     -2.19      0.72   1073.27      1.00\n",
      "eps_tform[0,51]      0.29      0.69      0.29     -0.93      1.34    760.17      1.00\n",
      "eps_tform[0,52]      0.03      0.93      0.04     -1.38      1.56   2254.89      1.00\n",
      "eps_tform[0,53]     -0.00      0.99     -0.02     -1.76      1.51   1964.00      1.00\n",
      "       theta[0]      0.01      0.29     -0.02     -0.43      0.50    275.40      1.00\n",
      "        tmax[0]      0.40      0.14      0.40      0.15      0.62    672.50      1.00\n",
      "\n",
      "Number of divergences: 15\n",
      "Loading built-in reddening law F99\n"
     ]
    },
    {
     "name": "stderr",
     "output_type": "stream",
     "text": [
      "/root/miniforge3/envs/bayesn/lib/python3.11/site-packages/bayesn/bayesn_model.py:2994: UserWarning: Missing a plate statement for batch dimension -2 at site 'obs'. You can use `numpyro.util.format_shapes` utility to check shapes at all sites of your model.\n",
      "  mcmc.run(\n",
      "sample: 100%|█████████████████████████████████████████████████████████████████████████| 500/500 [40:16<00:00,  4.83s/it]\n"
     ]
    },
    {
     "name": "stdout",
     "output_type": "stream",
     "text": [
      "\n",
      "                     mean       std    median      5.0%     95.0%     n_eff     r_hat\n",
      "          AV[0]      0.06      0.04      0.05      0.00      0.11    301.91      1.03\n",
      "          Ds[0]     34.96      0.03     34.96     34.90     35.00    374.34      1.00\n",
      "          RV[0]      3.43      1.42      3.39      1.15      5.57    728.73      1.00\n",
      " eps_tform[0,0]      1.18      0.28      1.19      0.67      1.60    486.71      1.01\n",
      " eps_tform[0,1]     -0.93      0.20     -0.93     -1.22     -0.59    692.54      1.00\n",
      " eps_tform[0,2]      1.50      0.27      1.49      1.08      1.94    506.73      1.00\n",
      " eps_tform[0,3]     -0.24      0.11     -0.24     -0.43     -0.09    412.94      1.01\n",
      " eps_tform[0,4]     -0.23      0.19     -0.23     -0.57      0.05    507.55      1.00\n",
      " eps_tform[0,5]      0.00      0.62      0.00     -1.06      0.91    533.30      1.00\n",
      " eps_tform[0,6]     -0.29      0.35     -0.30     -0.85      0.27    850.30      1.01\n",
      " eps_tform[0,7]     -1.18      0.58     -1.17     -2.20     -0.29    921.09      1.00\n",
      " eps_tform[0,8]      0.20      0.66      0.19     -1.01      1.17   1155.58      1.00\n",
      " eps_tform[0,9]      0.50      0.36      0.54     -0.02      1.15    314.18      1.02\n",
      "eps_tform[0,10]     -1.64      0.37     -1.66     -2.24     -1.06    359.73      1.01\n",
      "eps_tform[0,11]      3.26      0.34      3.27      2.65      3.76    459.87      1.00\n",
      "eps_tform[0,12]      0.06      0.36      0.05     -0.55      0.58    316.05      1.00\n",
      "eps_tform[0,13]      0.27      0.25      0.26     -0.10      0.72    317.96      1.00\n",
      "eps_tform[0,14]      1.04      0.77      1.02     -0.29      2.23    662.08      1.00\n",
      "eps_tform[0,15]      0.13      0.33      0.13     -0.46      0.64    415.35      1.00\n",
      "eps_tform[0,16]     -0.27      0.36     -0.28     -0.89      0.25    424.87      1.00\n",
      "eps_tform[0,17]      0.19      0.36      0.17     -0.36      0.84    464.87      1.01\n",
      "eps_tform[0,18]     -1.54      0.37     -1.53     -2.08     -0.86    439.90      1.01\n",
      "eps_tform[0,19]     -3.18      0.32     -3.19     -3.67     -2.64    435.43      1.00\n",
      "eps_tform[0,20]      0.92      0.40      0.93      0.30      1.60    446.53      1.00\n",
      "eps_tform[0,21]     -2.50      0.39     -2.51     -3.13     -1.83    392.69      1.00\n",
      "eps_tform[0,22]     -0.16      0.31     -0.17     -0.64      0.40    445.52      1.00\n",
      "eps_tform[0,23]     -1.66      0.80     -1.63     -2.97     -0.36    530.19      1.00\n",
      "eps_tform[0,24]      0.26      0.28      0.25     -0.23      0.69    461.30      1.00\n",
      "eps_tform[0,25]     -1.23      0.26     -1.23     -1.68     -0.83    383.23      1.00\n",
      "eps_tform[0,26]     -0.18      0.29     -0.18     -0.68      0.27    558.86      1.00\n",
      "eps_tform[0,27]     -0.52      0.34     -0.53     -1.13     -0.01    422.40      1.01\n",
      "eps_tform[0,28]     -2.64      0.32     -2.64     -3.19     -2.13    659.33      1.00\n",
      "eps_tform[0,29]      1.57      0.32      1.57      1.08      2.11    550.05      1.00\n",
      "eps_tform[0,30]     -0.76      0.32     -0.78     -1.26     -0.23    549.70      1.01\n",
      "eps_tform[0,31]     -0.12      0.32     -0.11     -0.67      0.37    534.66      1.01\n",
      "eps_tform[0,32]      2.17      0.79      2.15      0.94      3.54    761.25      1.00\n",
      "eps_tform[0,33]     -1.35      0.31     -1.34     -1.87     -0.88    639.00      1.00\n",
      "eps_tform[0,34]     -0.84      0.46     -0.84     -1.64     -0.16    795.27      1.00\n",
      "eps_tform[0,35]      0.95      0.65      0.98     -0.06      1.99   1227.40      1.00\n",
      "eps_tform[0,36]      0.22      0.40      0.22     -0.50      0.79    491.17      1.01\n",
      "eps_tform[0,37]     -0.76      0.33     -0.75     -1.32     -0.23    373.67      1.01\n",
      "eps_tform[0,38]      1.74      0.38      1.75      1.21      2.44    552.40      1.00\n",
      "eps_tform[0,39]      0.51      0.31      0.51      0.00      1.01    419.32      1.01\n",
      "eps_tform[0,40]      1.42      0.30      1.43      0.95      1.92    607.23      1.00\n",
      "eps_tform[0,41]     -1.56      0.82     -1.57     -2.85     -0.20    734.70      1.00\n",
      "eps_tform[0,42]      2.00      0.39      2.00      1.42      2.64    681.48      1.00\n",
      "eps_tform[0,43]      0.76      0.42      0.75      0.08      1.47    709.85      1.00\n",
      "eps_tform[0,44]     -0.08      0.47     -0.07     -0.85      0.68    832.86      1.00\n",
      "eps_tform[0,45]      1.41      0.73      1.39      0.27      2.63    939.67      1.00\n",
      "eps_tform[0,46]     -0.22      0.52     -0.22     -1.10      0.59    612.86      1.00\n",
      "eps_tform[0,47]      0.01      0.70      0.02     -1.13      1.12    805.03      1.00\n",
      "eps_tform[0,48]     -2.21      0.50     -2.22     -2.96     -1.27    769.06      1.00\n",
      "eps_tform[0,49]     -1.99      0.54     -1.99     -2.86     -1.10    741.79      1.00\n",
      "eps_tform[0,50]      0.02      0.92      0.02     -1.37      1.57   1020.25      1.00\n",
      "eps_tform[0,51]     -0.83      0.59     -0.83     -1.77      0.15    839.48      1.00\n",
      "eps_tform[0,52]     -0.26      0.84     -0.26     -1.79      1.02   1156.45      1.00\n",
      "eps_tform[0,53]     -0.61      0.93     -0.58     -2.31      0.72   2261.51      1.00\n",
      "       theta[0]     -0.68      0.16     -0.69     -0.93     -0.43    329.78      1.01\n",
      "        tmax[0]     -0.96      0.09     -0.96     -1.10     -0.82    547.87      1.00\n",
      "\n",
      "Number of divergences: 35\n",
      "Loading built-in reddening law F99\n"
     ]
    },
    {
     "name": "stderr",
     "output_type": "stream",
     "text": [
      "/root/miniforge3/envs/bayesn/lib/python3.11/site-packages/bayesn/bayesn_model.py:2994: UserWarning: Missing a plate statement for batch dimension -2 at site 'obs'. You can use `numpyro.util.format_shapes` utility to check shapes at all sites of your model.\n",
      "  mcmc.run(\n",
      "  0%|                                                                                           | 0/500 [00:00<?, ?it/s]2025-03-25 05:38:07.405217: E external/xla/xla/service/slow_operation_alarm.cc:65] \n",
      "********************************\n",
      "[Compiling module jit__body_fn] Very slow compile? If you want to file a bug, run with envvar XLA_FLAGS=--xla_dump_to=/tmp/foo and attach the results.\n",
      "********************************\n"
     ]
    }
   ],
   "source": [
    "for dust_law in [\"F99\", \"G23\", \"F19\"]:\n",
    "    for supernova_name in supernovae_names:\n",
    "        supernova_file = \"/root/partiiiproject/Archive/\"+supernova_name+\".dat\"\n",
    "        prior_distribution = \"uniform\"\n",
    "        drop_bands=['u_CSP', 'U']\n",
    "        #samples, sn_props = model.fit_from_file(supernova_file, RV='uniform', drop_bands=drop_bands, redlaw=dust_law, file_prefix = \"DustLawsFitOfAllSamples/\"+supernova_name + dust_law, error_floor_fraction = 0.01)\n",
    "        samples, sn_props = model.fit_from_file(supernova_file, RV='uniform', drop_bands=drop_bands, redlaw=dust_law, file_prefix = \"DustLawsFitOfAllSamples\"+model_name+\"/\"+supernova_name + dust_law)"
   ]
  },
  {
   "cell_type": "markdown",
   "id": "49b586eb-3c1f-48fb-a539-2249332ca3bb",
   "metadata": {},
   "source": [
    "## Load Observational Data"
   ]
  },
  {
   "cell_type": "markdown",
   "id": "e7406301-b3d3-410e-bab6-f218b0bf9ca7",
   "metadata": {},
   "source": [
    "We read the observational data andits assosciated uncertainty "
   ]
  },
  {
   "cell_type": "code",
   "execution_count": null,
   "id": "46f6c3c5-6d08-4b12-abd1-d829460b53fb",
   "metadata": {},
   "outputs": [],
   "source": [
    "meta, lcdata = sncosmo.read_snana_ascii(supernova_file, default_tablename='OBS')\n",
    "lcdata = lcdata['OBS'].to_pandas()"
   ]
  },
  {
   "cell_type": "markdown",
   "id": "413db1ff-671d-456b-bfae-b3299e860e8e",
   "metadata": {},
   "source": [
    "## Use chains to get Fits to plot"
   ]
  },
  {
   "cell_type": "markdown",
   "id": "2167c8c7-a8d5-4bcf-afdf-3ecbacfd771a",
   "metadata": {},
   "source": [
    "Choose the bands we want to plot and the number of days on either side of the peak."
   ]
  },
  {
   "cell_type": "code",
   "execution_count": null,
   "id": "fe50aa59-3d4e-41fd-a494-d25666259e90",
   "metadata": {},
   "outputs": [],
   "source": [
    "t = np.arange(-15, 40, 1) #Days on either side of the peak  normally (-15,40)\n",
    "bands = ['g_CSP', 'r_CSP', 'i_CSP', 'B_CSP', 'V_CSP', 'Y_RC', 'J_RC1', 'H_RC'] #Bands being used for plot\n",
    "\n",
    "z = meta['REDSHIFT_FINAL']\n",
    "ebv_mw = meta['MWEBV']\n",
    "sampleChainsDir = \"DustLawsFitOfAllSamples/\"+supernova_name + dust_law + \"/chains.pkl\"\n",
    "flux_grid = model.get_flux_from_chains(t, bands, samples, z, ebv_mw, mag=False, num_samples=10)\n",
    "fit, fit_err = flux_grid.mean(axis=(0, 1)), flux_grid.std(axis=(0, 1))"
   ]
  },
  {
   "cell_type": "markdown",
   "id": "3bc6f4a6-0f40-4bbc-b6e9-89664013a513",
   "metadata": {},
   "source": [
    "Turn the flux into an actual fit we can plot"
   ]
  },
  {
   "cell_type": "code",
   "execution_count": null,
   "id": "4618e248-97d9-45ac-b828-c8b01e681c8a",
   "metadata": {},
   "outputs": [],
   "source": []
  }
 ],
 "metadata": {
  "kernelspec": {
   "display_name": "Python 3 (ipykernel)",
   "language": "python",
   "name": "python3"
  },
  "language_info": {
   "codemirror_mode": {
    "name": "ipython",
    "version": 3
   },
   "file_extension": ".py",
   "mimetype": "text/x-python",
   "name": "python",
   "nbconvert_exporter": "python",
   "pygments_lexer": "ipython3",
   "version": "3.11.0"
  }
 },
 "nbformat": 4,
 "nbformat_minor": 5
}
