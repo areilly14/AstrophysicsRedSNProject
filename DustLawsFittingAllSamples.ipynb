{
 "cells": [
  {
   "cell_type": "markdown",
   "id": "3a0484e9-842f-4854-a7ae-02df291501ee",
   "metadata": {},
   "source": [
    "# Light curves with the W22 Model looking at a selection of Supernovae and Investigating different Dust laws"
   ]
  },
  {
   "cell_type": "code",
   "execution_count": 1,
   "id": "c59c4015-d5dc-4590-b7e2-b7fa6ebc255a",
   "metadata": {},
   "outputs": [],
   "source": [
    "import numpy as np\n",
    "import matplotlib.pyplot as plt\n",
    "import sncosmo\n",
    "from bayesn import SEDmodel\n",
    "import os\n"
   ]
  },
  {
   "cell_type": "code",
   "execution_count": 2,
   "id": "a11079aa-f18b-4425-88cf-425ab1cf51f8",
   "metadata": {},
   "outputs": [],
   "source": [
    "dust_law = \"F99\""
   ]
  },
  {
   "cell_type": "markdown",
   "id": "cb357d74-a055-4e8c-8740-26ff7907e895",
   "metadata": {},
   "source": [
    "## Make a list of SN in Archive"
   ]
  },
  {
   "cell_type": "code",
   "execution_count": 3,
   "id": "ec1bd5b2-b871-4d6f-b80b-d83f9e4083f3",
   "metadata": {},
   "outputs": [],
   "source": [
    "directory = os.fsencode(\"/root/partiiiproject/Archive\")\n",
    "supernovae_names = [\"sn2006hb\"]\n",
    "for file in os.listdir(directory):\n",
    "    filename = os.fsdecode(file)\n",
    "    if filename.endswith(\".dat\"): \n",
    "        supernovae_names.append(filename[:-4])\n",
    "        continue\n",
    "    else:\n",
    "        continue"
   ]
  },
  {
   "cell_type": "code",
   "execution_count": 4,
   "id": "b876b93f-cb2d-4b7a-b7fc-6d8f6d2de1db",
   "metadata": {},
   "outputs": [
    {
     "name": "stdout",
     "output_type": "stream",
     "text": [
      "['sn2006hb', 'sn2006hb', 'sn2008fl', 'sn2007jg', 'sn2008R', 'sn2009ad', 'sn2006ob', 'sn2009ds', 'sn2007hx', 'sn2007bd', 'sn2004ey', 'sn2007so', 'sn2009ab', 'sn2007A', 'sn2008gl', 'sn2007nq', 'sn2007on', 'sn2008hj', 'sn2007st', 'sn2009le', 'sn2005hc', 'sn2005bo', 'sn2008fu', 'sn2004gs', 'sn2008ff', 'sn2006D', 'sn2005M', 'sn2007S', 'sn2006bh', 'sn2009al', 'sn2008O', 'sn2006lu', 'sn2007bm', 'sn2007sr', 'sn2008bz', 'sn2014J', 'sn2005A', 'sn2004ef', 'sn2006ax', 'sn2005ku', 'sn2008gg', 'sn2007ca', 'sn2005lu', 'sn2006gj', 'sn2008ar', 'sn2006et', 'sn2007ai', 'sn2009I', 'sn2006kf', 'sn2008hu', 'sn2008cc', 'sn2009aa', 'sn2006os', 'sn2008hv', 'sn2008go', 'sn2006br', 'sn2005eq', 'sn2008fp', 'sn2008C', 'sn2006X', 'sn2007jd', 'sn2005kc', 'sn2006ej', 'sn2005al', 'sn2005am', 'sn2006hx', 'sn2008cf', 'sn2009ag', 'sn2008fw', 'sn2007af', 'sn2006is', 'sn2004eo', 'sn2008bf', 'sn2008fr', 'sn2008gp', 'sn2009cz', 'sn2002cv', 'sn2007le', 'sn2009P', 'sn2009D', 'sn2008ia', 'sn2008bc', 'sn2005na', 'sn2009Y', 'sn2007ux', 'sn2007as', 'sn2007hj', 'sn2005ki', 'sn2007bc', 'sn2005iq', 'sn2008bq']\n"
     ]
    }
   ],
   "source": [
    "print(supernovae_names)"
   ]
  },
  {
   "cell_type": "markdown",
   "id": "c1847a82-b9b1-40ae-9bf4-71d6c52ec645",
   "metadata": {},
   "source": [
    "## Make a list of SN with specified dust law"
   ]
  },
  {
   "cell_type": "code",
   "execution_count": 5,
   "id": "f89401cc-e777-4c21-9e87-64d867adc6a3",
   "metadata": {},
   "outputs": [],
   "source": [
    "directory = os.fsencode(\"/root/partiiiproject/DustLawsFitOfAllSamples\")\n",
    "\n",
    "supernovae_done = [\"sn2006hb\"]\n",
    "for file in os.listdir(directory):\n",
    "    filename = os.fsdecode(file)\n",
    "    if filename.endswith(dust_law+\"_fit_summary.csv\"):\n",
    "        len_remove = len(dust_law+\"_fit_summary.csv\")\n",
    "        supernovae_done.append(filename[:-len_remove])\n",
    "        continue\n",
    "    else:\n",
    "        continue"
   ]
  },
  {
   "cell_type": "code",
   "execution_count": 6,
   "id": "7ccfb9a5-a9b8-4d5e-97e0-3e1ee28836c9",
   "metadata": {},
   "outputs": [
    {
     "name": "stdout",
     "output_type": "stream",
     "text": [
      "['sn2006hb', 'sn2008C', 'sn2007ca', 'sn2007as', 'sn2004ey', 'sn2005na', 'sn2005kc', 'sn2004gs', 'sn2008ia', 'sn2006br', 'sn2005al', 'sn2008fu', 'sn2008cc', 'sn2008gg', 'sn2006et', 'sn2008ar', 'sn2005bo', 'sn2008hj', 'sn2008fp', 'sn2009ab', 'sn2008fl', 'sn2009I', 'sn2007hx', 'sn2008cf', 'sn2006ax', 'sn2007ai', 'sn2007on', 'sn2006ob', 'sn2007le', 'sn2005lu', 'sn2007bc', 'sn2009le', 'sn2007bd', 'sn2007bm', 'sn2008fr', 'sn2008gl', 'sn2008bz', 'sn2006os', 'sn2007sr', 'sn2006hb', 'sn2008hu', 'sn2009cz', 'sn2009ds', 'sn2009Y', 'sn2014J', 'sn2007hj', 'sn2002cv', 'sn2009ad', 'sn2007nq', 'sn2006lu', 'sn2008bf', 'sn2009P', 'sn2006ej', 'sn2008bq', 'sn2005ki', 'sn2009aa', 'sn2008R', 'sn2006D', 'sn2009ag', 'sn2008fw', 'sn2009al', 'sn2007jg', 'sn2006gj', 'sn2006X', 'sn2007jd', 'sn2005hc', 'sn2005A', 'sn2007st', 'sn2008ff', 'sn2009D', 'sn2006hx', 'sn2008gp', 'sn2007so', 'sn2005eq', 'sn2008go', 'sn2008bc', 'sn2006bh', 'sn2007A', 'sn2007S', 'sn2008hv', 'sn2006is', 'sn2004eo', 'sn2007af', 'sn2005am', 'sn2005M', 'sn2008O', 'sn2005iq', 'sn2006kf', 'sn2007ux', 'sn2005ku', 'sn2004ef']\n"
     ]
    }
   ],
   "source": [
    "print(supernovae_done)"
   ]
  },
  {
   "cell_type": "markdown",
   "id": "a4b71bc7-aa1a-4edd-a5e5-61e2af64c93f",
   "metadata": {},
   "source": [
    "## Make a list of all the supernovas to still fit"
   ]
  },
  {
   "cell_type": "code",
   "execution_count": 7,
   "id": "e1d39c9d-c015-4f87-90b8-2c0b259e289d",
   "metadata": {},
   "outputs": [
    {
     "name": "stdout",
     "output_type": "stream",
     "text": [
      "['sn2002cv']\n"
     ]
    }
   ],
   "source": [
    "supernovae_names = list(set(supernovae_names) - set(supernovae_done))\n",
    "supernovae_names = [\"sn2002cv\"]\n",
    "print(supernovae_names)"
   ]
  },
  {
   "cell_type": "markdown",
   "id": "44920a4b-4e89-4836-9057-e4ee43e9734b",
   "metadata": {},
   "source": [
    "## Load the W22 Model"
   ]
  },
  {
   "cell_type": "markdown",
   "id": "9f22774a-5d1c-4e61-a795-d71101a09787",
   "metadata": {},
   "source": [
    "W22 model works with optical and NIR bands"
   ]
  },
  {
   "cell_type": "code",
   "execution_count": 8,
   "id": "1dc482f9-27f4-493b-935c-5fb0cb488099",
   "metadata": {},
   "outputs": [
    {
     "name": "stderr",
     "output_type": "stream",
     "text": [
      "An NVIDIA GPU may be present on this machine, but a CUDA-enabled jaxlib is not installed. Falling back to cpu.\n"
     ]
    },
    {
     "name": "stdout",
     "output_type": "stream",
     "text": [
      "Current devices: [CpuDevice(id=0), CpuDevice(id=1), CpuDevice(id=2), CpuDevice(id=3)]\n",
      "Currently working in /root/partiiiproject\n",
      "Loading built-in model W22_model\n",
      "Loading built-in reddening law F99\n"
     ]
    }
   ],
   "source": [
    "#model = SEDmodel(load_model='W22_model')\n",
    "filter_yaml = \"/root/partiiiproject/bayesn-filters/bayesn-filters/filters.yaml\"\n",
    "model = SEDmodel(load_model='W22_model', filter_yaml = filter_yaml)"
   ]
  },
  {
   "cell_type": "markdown",
   "id": "57b6f403-3c2a-4671-86c5-70d53c6ccec3",
   "metadata": {},
   "source": [
    "## Generate Fits"
   ]
  },
  {
   "cell_type": "markdown",
   "id": "c6daddfc-9688-4ab1-8e27-9752254d4338",
   "metadata": {},
   "source": [
    "We generate the fits for our supernova data."
   ]
  },
  {
   "cell_type": "code",
   "execution_count": 9,
   "id": "e251e73d-10e5-4b82-8884-bfcd3c3cbbe4",
   "metadata": {},
   "outputs": [
    {
     "name": "stdout",
     "output_type": "stream",
     "text": [
      "Loading built-in reddening law F99\n"
     ]
    },
    {
     "name": "stderr",
     "output_type": "stream",
     "text": [
      "/root/miniforge3/envs/bayesn/lib/python3.11/site-packages/jax/_src/linear_util.py:193: UserWarning: Missing a plate statement for batch dimension -2 at site 'obs'. You can use `numpyro.util.format_shapes` utility to check shapes at all sites of your model.\n",
      "  ans = self.f(*args, **dict(self.params, **kwargs))\n"
     ]
    },
    {
     "data": {
      "application/vnd.jupyter.widget-view+json": {
       "model_id": "3760a67376b94bb1a5a54133b0066e5b",
       "version_major": 2,
       "version_minor": 0
      },
      "text/plain": [
       "  0%|          | 0/500 [00:00<?, ?it/s]"
      ]
     },
     "metadata": {},
     "output_type": "display_data"
    },
    {
     "data": {
      "application/vnd.jupyter.widget-view+json": {
       "model_id": "32d5b189c37d425294d93885e48164e3",
       "version_major": 2,
       "version_minor": 0
      },
      "text/plain": [
       "  0%|          | 0/500 [00:00<?, ?it/s]"
      ]
     },
     "metadata": {},
     "output_type": "display_data"
    },
    {
     "data": {
      "application/vnd.jupyter.widget-view+json": {
       "model_id": "31af4ba0d6fd4b0f88c7ce8c3de8d087",
       "version_major": 2,
       "version_minor": 0
      },
      "text/plain": [
       "  0%|          | 0/500 [00:00<?, ?it/s]"
      ]
     },
     "metadata": {},
     "output_type": "display_data"
    },
    {
     "data": {
      "application/vnd.jupyter.widget-view+json": {
       "model_id": "b9d550bfa0d04dc19cc16c71177883e2",
       "version_major": 2,
       "version_minor": 0
      },
      "text/plain": [
       "  0%|          | 0/500 [00:00<?, ?it/s]"
      ]
     },
     "metadata": {},
     "output_type": "display_data"
    },
    {
     "name": "stdout",
     "output_type": "stream",
     "text": [
      "\n",
      "                     mean       std    median      5.0%     95.0%     n_eff     r_hat\n",
      "          AV[0]      8.54      0.44      8.46      7.88      9.16    517.82      1.01\n",
      "          Ds[0]     31.18      0.12     31.20     30.99     31.36    528.96      1.01\n",
      "          RV[0]      4.23      0.85      4.15      2.86      5.60    505.19      1.01\n",
      " eps_tform[0,0]     -0.59      1.02     -0.57     -2.40      0.95   1561.57      1.00\n",
      " eps_tform[0,1]     -0.69      0.96     -0.70     -2.39      0.79   1825.60      1.00\n",
      " eps_tform[0,2]      0.09      1.03      0.06     -1.59      1.86   1187.33      1.00\n",
      " eps_tform[0,3]      0.18      0.91      0.18     -1.41      1.57   1201.75      1.00\n",
      " eps_tform[0,4]     -0.35      0.96     -0.36     -2.13      1.02   1490.41      1.00\n",
      " eps_tform[0,5]      0.27      0.96      0.28     -1.44      1.78   1519.60      1.00\n",
      " eps_tform[0,6]     -0.75      1.03     -0.71     -2.44      0.94    975.16      1.00\n",
      " eps_tform[0,7]     -0.67      0.56     -0.68     -1.59      0.20    674.66      1.01\n",
      " eps_tform[0,8]      0.42      0.59      0.40     -0.46      1.45    643.64      1.02\n",
      " eps_tform[0,9]      0.55      1.00      0.53     -1.20      2.00   1139.95      1.00\n",
      "eps_tform[0,10]      0.34      0.99      0.34     -1.36      1.86   2019.65      1.00\n",
      "eps_tform[0,11]      0.54      1.00      0.55     -1.10      2.14   1106.22      1.00\n",
      "eps_tform[0,12]     -0.73      0.96     -0.73     -2.26      0.83   1432.12      1.00\n",
      "eps_tform[0,13]     -1.28      0.94     -1.24     -2.72      0.26   1616.40      1.00\n",
      "eps_tform[0,14]     -1.65      0.96     -1.68     -3.12     -0.02   1611.95      1.00\n",
      "eps_tform[0,15]      0.88      0.94      0.88     -0.60      2.41   1180.85      1.00\n",
      "eps_tform[0,16]     -0.57      0.67     -0.60     -1.59      0.60    836.69      1.00\n",
      "eps_tform[0,17]      1.94      0.71      1.92      0.70      2.99    688.47      1.00\n",
      "eps_tform[0,18]     -0.13      1.04     -0.12     -1.62      1.82   1056.59      1.00\n",
      "eps_tform[0,19]      0.44      0.99      0.48     -1.27      1.96   1410.94      1.00\n",
      "eps_tform[0,20]      0.77      0.95      0.76     -0.65      2.38   1591.45      1.00\n",
      "eps_tform[0,21]      2.24      0.93      2.23      0.75      3.75   1299.60      1.00\n",
      "eps_tform[0,22]      0.15      0.94      0.15     -1.29      1.67   1231.59      1.00\n",
      "eps_tform[0,23]     -1.17      0.93     -1.25     -2.77      0.29   1055.41      1.00\n",
      "eps_tform[0,24]      0.04      0.91      0.07     -1.44      1.49   1359.36      1.00\n",
      "eps_tform[0,25]     -1.21      0.65     -1.21     -2.22     -0.11    616.25      1.00\n",
      "eps_tform[0,26]      0.35      0.54      0.36     -0.53      1.19   1027.32      1.00\n",
      "eps_tform[0,27]      0.11      1.01      0.12     -1.63      1.62   1686.16      1.00\n",
      "eps_tform[0,28]      0.69      0.97      0.74     -0.78      2.33   1420.21      1.00\n",
      "eps_tform[0,29]     -0.40      1.02     -0.38     -2.10      1.16   1971.19      1.00\n",
      "eps_tform[0,30]     -1.62      1.03     -1.59     -3.21      0.27   1433.31      1.00\n",
      "eps_tform[0,31]     -2.52      0.97     -2.52     -4.04     -0.90   1402.83      1.00\n",
      "eps_tform[0,32]      0.26      1.04      0.23     -1.42      2.01   1215.53      1.01\n",
      "eps_tform[0,33]     -0.75      1.00     -0.76     -2.38      0.75   1577.30      1.00\n",
      "eps_tform[0,34]      0.75      0.86      0.74     -0.55      2.29    715.32      1.00\n",
      "eps_tform[0,35]     -0.24      0.67     -0.27     -1.29      0.88    988.09      1.00\n",
      "eps_tform[0,36]      0.23      0.96      0.25     -1.35      1.86   1804.95      1.00\n",
      "eps_tform[0,37]      0.08      0.98      0.06     -1.49      1.64   1453.96      1.00\n",
      "eps_tform[0,38]     -0.30      1.04     -0.32     -1.77      1.63   1590.75      1.00\n",
      "eps_tform[0,39]     -0.31      0.99     -0.32     -1.70      1.48   2079.83      1.00\n",
      "eps_tform[0,40]     -0.28      1.03     -0.27     -2.06      1.30   2023.18      1.00\n",
      "eps_tform[0,41]     -0.19      1.02     -0.21     -1.95      1.48   1568.57      1.00\n",
      "eps_tform[0,42]     -0.32      1.01     -0.33     -1.80      1.34   1343.20      1.00\n",
      "eps_tform[0,43]     -1.40      0.85     -1.41     -2.92     -0.23   1117.36      1.00\n",
      "eps_tform[0,44]      0.16      0.99      0.18     -1.38      1.86   1556.57      1.00\n",
      "eps_tform[0,45]      0.02      1.04      0.01     -1.70      1.69   1692.47      1.00\n",
      "eps_tform[0,46]      0.02      0.97      0.03     -1.50      1.53   1821.42      1.00\n",
      "eps_tform[0,47]      0.02      1.02      0.07     -1.67      1.65   1403.39      1.00\n",
      "eps_tform[0,48]      0.04      0.99      0.04     -1.61      1.59   1609.32      1.00\n",
      "eps_tform[0,49]      0.03      1.02      0.02     -1.87      1.47   1303.55      1.00\n",
      "eps_tform[0,50]     -0.06      1.04     -0.02     -1.81      1.57   1731.39      1.00\n",
      "eps_tform[0,51]      0.08      1.01      0.05     -1.61      1.67   1227.63      1.00\n",
      "eps_tform[0,52]      0.11      1.03      0.07     -1.53      1.78   2140.67      1.00\n",
      "eps_tform[0,53]      0.01      1.01      0.01     -1.83      1.57   1439.45      1.00\n",
      "       theta[0]      0.25      0.27      0.26     -0.17      0.70    764.04      1.01\n",
      "        tmax[0]     -1.32      0.50     -1.30     -2.18     -0.56    455.00      1.01\n",
      "\n",
      "Number of divergences: 0\n",
      "Loading built-in reddening law G23\n"
     ]
    },
    {
     "name": "stderr",
     "output_type": "stream",
     "text": [
      "/root/miniforge3/envs/bayesn/lib/python3.11/site-packages/jax/_src/linear_util.py:193: UserWarning: Missing a plate statement for batch dimension -2 at site 'obs'. You can use `numpyro.util.format_shapes` utility to check shapes at all sites of your model.\n",
      "  ans = self.f(*args, **dict(self.params, **kwargs))\n"
     ]
    },
    {
     "data": {
      "application/vnd.jupyter.widget-view+json": {
       "model_id": "6ccebf6f99f24c60b2995d500da7ed38",
       "version_major": 2,
       "version_minor": 0
      },
      "text/plain": [
       "  0%|          | 0/500 [00:00<?, ?it/s]"
      ]
     },
     "metadata": {},
     "output_type": "display_data"
    },
    {
     "data": {
      "application/vnd.jupyter.widget-view+json": {
       "model_id": "b7922060f7914eebb7a5d492162ece84",
       "version_major": 2,
       "version_minor": 0
      },
      "text/plain": [
       "  0%|          | 0/500 [00:00<?, ?it/s]"
      ]
     },
     "metadata": {},
     "output_type": "display_data"
    },
    {
     "data": {
      "application/vnd.jupyter.widget-view+json": {
       "model_id": "deb942f24f0947ddb81c73a844a844ab",
       "version_major": 2,
       "version_minor": 0
      },
      "text/plain": [
       "  0%|          | 0/500 [00:00<?, ?it/s]"
      ]
     },
     "metadata": {},
     "output_type": "display_data"
    },
    {
     "data": {
      "application/vnd.jupyter.widget-view+json": {
       "model_id": "0e174668001b49f29a1bfa04c18f64fc",
       "version_major": 2,
       "version_minor": 0
      },
      "text/plain": [
       "  0%|          | 0/500 [00:00<?, ?it/s]"
      ]
     },
     "metadata": {},
     "output_type": "display_data"
    },
    {
     "name": "stdout",
     "output_type": "stream",
     "text": [
      "\n",
      "                     mean       std    median      5.0%     95.0%     n_eff     r_hat\n",
      "          AV[0]      8.13      0.16      8.13      7.87      8.42    468.76      1.00\n",
      "          Ds[0]     32.16      0.19     32.17     31.88     32.48    414.85      1.01\n",
      "          RV[0]      2.04      0.12      2.03      1.82      2.22    427.07      1.01\n",
      " eps_tform[0,0]     -0.74      1.00     -0.75     -2.40      0.86   2109.08      1.00\n",
      " eps_tform[0,1]     -0.70      0.96     -0.69     -2.24      0.89   1433.31      1.00\n",
      " eps_tform[0,2]     -0.06      0.97     -0.03     -1.69      1.49   1868.16      1.00\n",
      " eps_tform[0,3]      0.08      0.90      0.08     -1.28      1.65   1327.97      1.00\n",
      " eps_tform[0,4]     -0.04      1.03     -0.02     -1.55      1.82   1868.60      1.00\n",
      " eps_tform[0,5]      0.60      0.97      0.62     -0.96      2.24   1836.29      1.00\n",
      " eps_tform[0,6]     -0.54      1.01     -0.55     -2.15      1.08   1126.24      1.00\n",
      " eps_tform[0,7]      0.57      0.61      0.57     -0.33      1.63    733.89      1.00\n",
      " eps_tform[0,8]     -1.06      0.64     -1.12     -1.99     -0.02    512.87      1.00\n",
      " eps_tform[0,9]      0.64      1.02      0.62     -0.99      2.40   1094.97      1.00\n",
      "eps_tform[0,10]      0.29      0.94      0.32     -1.22      1.88   2253.94      1.00\n",
      "eps_tform[0,11]      0.18      1.05      0.21     -1.50      1.83   2316.60      1.00\n",
      "eps_tform[0,12]     -0.98      0.99     -0.99     -2.44      0.77   1671.56      1.00\n",
      "eps_tform[0,13]     -0.43      0.94     -0.39     -1.92      1.08   1694.90      1.00\n",
      "eps_tform[0,14]     -0.76      0.89     -0.76     -2.34      0.58   2232.00      1.00\n",
      "eps_tform[0,15]      0.62      1.00      0.62     -1.08      2.13   2168.76      1.00\n",
      "eps_tform[0,16]      1.00      0.76      0.99     -0.22      2.24    881.85      1.00\n",
      "eps_tform[0,17]     -0.23      0.80     -0.25     -1.51      1.14    634.97      1.00\n",
      "eps_tform[0,18]     -0.05      1.04     -0.05     -1.87      1.57   2420.14      1.00\n",
      "eps_tform[0,19]      0.14      1.01      0.14     -1.56      1.77   1883.41      1.00\n",
      "eps_tform[0,20]      0.48      0.94      0.48     -1.15      1.89   1629.33      1.00\n",
      "eps_tform[0,21]      1.73      0.97      1.73      0.19      3.36   1801.38      1.00\n",
      "eps_tform[0,22]      0.43      0.94      0.39     -1.05      2.02   2413.38      1.00\n",
      "eps_tform[0,23]     -0.40      0.91     -0.40     -1.86      1.08   1241.21      1.00\n",
      "eps_tform[0,24]      0.25      0.88      0.26     -1.22      1.60   1436.52      1.00\n",
      "eps_tform[0,25]      0.16      0.72      0.17     -1.04      1.33    574.56      1.00\n",
      "eps_tform[0,26]     -0.95      0.59     -0.93     -1.89      0.01    575.11      1.00\n",
      "eps_tform[0,27]     -0.16      1.01     -0.18     -1.75      1.50   1572.71      1.00\n",
      "eps_tform[0,28]      0.40      0.98      0.39     -1.16      1.96   1568.82      1.00\n",
      "eps_tform[0,29]     -0.17      0.97     -0.19     -1.57      1.67   2731.12      1.00\n",
      "eps_tform[0,30]     -1.44      1.01     -1.45     -3.20      0.14   2427.58      1.00\n",
      "eps_tform[0,31]     -2.03      0.97     -2.04     -3.50     -0.42   1947.54      1.00\n",
      "eps_tform[0,32]      0.27      0.97      0.25     -1.27      1.93   2149.40      1.00\n",
      "eps_tform[0,33]     -0.07      0.96     -0.07     -1.51      1.60   2197.24      1.00\n",
      "eps_tform[0,34]      1.69      0.89      1.74      0.25      3.13    835.27      1.00\n",
      "eps_tform[0,35]     -1.16      0.71     -1.17     -2.19      0.07    615.80      1.00\n",
      "eps_tform[0,36]      0.13      0.98      0.15     -1.42      1.93   1987.06      1.00\n",
      "eps_tform[0,37]      0.02      0.97     -0.01     -1.66      1.55   1822.36      1.00\n",
      "eps_tform[0,38]     -0.16      0.94     -0.15     -1.67      1.32   2146.65      1.00\n",
      "eps_tform[0,39]     -0.24      0.94     -0.24     -1.99      1.14   2797.24      1.00\n",
      "eps_tform[0,40]     -0.17      1.03     -0.14     -1.76      1.54   2770.38      1.00\n",
      "eps_tform[0,41]     -0.11      1.03     -0.12     -1.76      1.55   1923.84      1.00\n",
      "eps_tform[0,42]     -0.22      1.04     -0.23     -1.87      1.53   2506.81      1.00\n",
      "eps_tform[0,43]     -0.80      0.87     -0.78     -2.22      0.62   1442.44      1.00\n",
      "eps_tform[0,44]      0.21      1.01      0.23     -1.44      1.79   2063.01      1.00\n",
      "eps_tform[0,45]     -0.00      1.05      0.00     -1.78      1.62   2064.20      1.00\n",
      "eps_tform[0,46]     -0.01      0.96     -0.04     -1.66      1.54   3233.52      1.00\n",
      "eps_tform[0,47]      0.00      1.02      0.02     -1.56      1.67   2036.92      1.00\n",
      "eps_tform[0,48]     -0.01      1.03      0.02     -1.77      1.65   2496.57      1.00\n",
      "eps_tform[0,49]     -0.02      1.02     -0.01     -1.71      1.49   1854.39      1.00\n",
      "eps_tform[0,50]     -0.02      1.05     -0.00     -1.71      1.68   1685.96      1.00\n",
      "eps_tform[0,51]      0.03      1.02      0.00     -1.86      1.55   2440.48      1.00\n",
      "eps_tform[0,52]      0.04      0.97      0.04     -1.67      1.44   2300.36      1.00\n",
      "eps_tform[0,53]     -0.00      0.98      0.01     -1.71      1.52   1971.23      1.00\n",
      "       theta[0]      0.39      0.33      0.40     -0.11      0.94    763.14      1.00\n",
      "        tmax[0]     -1.34      0.45     -1.33     -2.08     -0.63    484.05      1.00\n",
      "\n",
      "Number of divergences: 0\n",
      "Loading built-in reddening law F19\n"
     ]
    },
    {
     "name": "stderr",
     "output_type": "stream",
     "text": [
      "/root/miniforge3/envs/bayesn/lib/python3.11/site-packages/jax/_src/linear_util.py:193: UserWarning: Missing a plate statement for batch dimension -2 at site 'obs'. You can use `numpyro.util.format_shapes` utility to check shapes at all sites of your model.\n",
      "  ans = self.f(*args, **dict(self.params, **kwargs))\n"
     ]
    },
    {
     "data": {
      "application/vnd.jupyter.widget-view+json": {
       "model_id": "7e42b8b657d9419d834f44ebd8545586",
       "version_major": 2,
       "version_minor": 0
      },
      "text/plain": [
       "  0%|          | 0/500 [00:00<?, ?it/s]"
      ]
     },
     "metadata": {},
     "output_type": "display_data"
    },
    {
     "data": {
      "application/vnd.jupyter.widget-view+json": {
       "model_id": "49372f8ac2694eb881fa12f0261d168a",
       "version_major": 2,
       "version_minor": 0
      },
      "text/plain": [
       "  0%|          | 0/500 [00:00<?, ?it/s]"
      ]
     },
     "metadata": {},
     "output_type": "display_data"
    },
    {
     "data": {
      "application/vnd.jupyter.widget-view+json": {
       "model_id": "957b7390e7c94addb6e0aaadb4f4430d",
       "version_major": 2,
       "version_minor": 0
      },
      "text/plain": [
       "  0%|          | 0/500 [00:00<?, ?it/s]"
      ]
     },
     "metadata": {},
     "output_type": "display_data"
    },
    {
     "data": {
      "application/vnd.jupyter.widget-view+json": {
       "model_id": "f9e7cb3014fd4c94ba696cf75166dea7",
       "version_major": 2,
       "version_minor": 0
      },
      "text/plain": [
       "  0%|          | 0/500 [00:00<?, ?it/s]"
      ]
     },
     "metadata": {},
     "output_type": "display_data"
    },
    {
     "name": "stdout",
     "output_type": "stream",
     "text": [
      "\n",
      "                     mean       std    median      5.0%     95.0%     n_eff     r_hat\n",
      "          AV[0]      8.53      0.13      8.53      8.29      8.73    529.89      1.00\n",
      "          Ds[0]     31.49      0.12     31.49     31.29     31.68    302.30      1.00\n",
      "          RV[0]      2.13      0.12      2.12      1.93      2.30    349.04      1.00\n",
      " eps_tform[0,0]     -0.83      1.00     -0.78     -2.34      0.87   1226.96      1.00\n",
      " eps_tform[0,1]     -0.73      0.91     -0.71     -2.11      0.80   1483.30      1.00\n",
      " eps_tform[0,2]      0.03      0.95      0.00     -1.27      1.83    842.96      1.00\n",
      " eps_tform[0,3]      0.20      0.91      0.21     -1.27      1.77   1248.72      1.00\n",
      " eps_tform[0,4]      0.05      0.96      0.06     -1.50      1.65   1574.02      1.00\n",
      " eps_tform[0,5]      0.62      0.97      0.60     -0.85      2.34   1216.98      1.00\n",
      " eps_tform[0,6]     -0.54      1.03     -0.52     -2.04      1.25   1479.53      1.00\n",
      " eps_tform[0,7]      0.68      0.61      0.68     -0.31      1.66    885.89      1.00\n",
      " eps_tform[0,8]     -0.98      0.66     -0.98     -1.98      0.13    533.61      1.00\n",
      " eps_tform[0,9]      0.59      0.98      0.58     -0.99      2.19   1231.92      1.00\n",
      "eps_tform[0,10]      0.23      0.97      0.22     -1.43      1.69   1691.47      1.00\n",
      "eps_tform[0,11]      0.13      0.99      0.15     -1.66      1.58   1388.46      1.00\n",
      "eps_tform[0,12]     -0.95      0.94     -0.93     -2.55      0.49   1363.18      1.00\n",
      "eps_tform[0,13]     -0.65      0.97     -0.63     -2.30      0.81   1062.83      1.00\n",
      "eps_tform[0,14]     -1.20      0.90     -1.21     -2.85      0.05   1692.11      1.00\n",
      "eps_tform[0,15]      0.59      0.96      0.62     -0.95      2.17   1503.39      1.00\n",
      "eps_tform[0,16]      1.24      0.77      1.24     -0.08      2.45    810.27      1.00\n",
      "eps_tform[0,17]     -0.16      0.83     -0.19     -1.45      1.20    413.88      1.00\n",
      "eps_tform[0,18]     -0.07      1.04     -0.10     -1.65      1.68   1403.69      1.00\n",
      "eps_tform[0,19]      0.26      1.01      0.28     -1.36      1.93   1786.55      1.00\n",
      "eps_tform[0,20]      0.53      0.96      0.52     -0.90      2.19   1006.57      1.00\n",
      "eps_tform[0,21]      1.87      0.93      1.91      0.38      3.43   1435.52      1.00\n",
      "eps_tform[0,22]      0.38      0.95      0.35     -1.18      1.88   1391.66      1.00\n",
      "eps_tform[0,23]     -0.65      0.97     -0.65     -2.35      0.87   1052.01      1.00\n",
      "eps_tform[0,24]      0.23      0.93      0.21     -1.22      1.74   1815.60      1.00\n",
      "eps_tform[0,25]      0.14      0.72      0.14     -1.00      1.35    605.22      1.00\n",
      "eps_tform[0,26]     -0.89      0.59     -0.92     -1.81      0.13    549.94      1.00\n",
      "eps_tform[0,27]     -0.13      0.96     -0.13     -1.60      1.59   1726.92      1.00\n",
      "eps_tform[0,28]      0.43      0.98      0.41     -1.07      2.18   1170.51      1.00\n",
      "eps_tform[0,29]     -0.18      0.98     -0.20     -1.70      1.47   1525.72      1.00\n",
      "eps_tform[0,30]     -1.46      1.04     -1.45     -2.98      0.33   1581.26      1.00\n",
      "eps_tform[0,31]     -2.18      0.96     -2.17     -3.93     -0.79   1155.02      1.00\n",
      "eps_tform[0,32]      0.35      0.99      0.38     -1.21      1.98   1785.30      1.00\n",
      "eps_tform[0,33]     -0.35      0.98     -0.36     -1.97      1.20   1129.13      1.00\n",
      "eps_tform[0,34]      1.73      0.84      1.70      0.43      3.15    943.51      1.00\n",
      "eps_tform[0,35]     -1.12      0.72     -1.15     -2.32     -0.02    632.43      1.00\n",
      "eps_tform[0,36]      0.11      0.95      0.14     -1.39      1.69   1276.59      1.00\n",
      "eps_tform[0,37]      0.01      0.95     -0.02     -1.53      1.47   1757.05      1.00\n",
      "eps_tform[0,38]     -0.23      1.01     -0.25     -2.06      1.27   1751.87      1.00\n",
      "eps_tform[0,39]     -0.29      0.98     -0.31     -1.74      1.42   1651.73      1.00\n",
      "eps_tform[0,40]     -0.24      0.98     -0.23     -1.88      1.29   1621.51      1.00\n",
      "eps_tform[0,41]     -0.13      1.04     -0.14     -1.80      1.53   1560.61      1.00\n",
      "eps_tform[0,42]     -0.22      1.00     -0.22     -1.74      1.52    997.67      1.00\n",
      "eps_tform[0,43]     -0.94      0.93     -0.86     -2.56      0.50   1056.07      1.00\n",
      "eps_tform[0,44]      0.23      0.99      0.26     -1.37      1.81   1167.74      1.00\n",
      "eps_tform[0,45]      0.00      1.01      0.02     -1.59      1.81   1344.68      1.00\n",
      "eps_tform[0,46]      0.04      0.98      0.03     -1.53      1.66   1411.64      1.00\n",
      "eps_tform[0,47]     -0.02      0.98     -0.02     -1.52      1.74   1659.11      1.00\n",
      "eps_tform[0,48]      0.02      0.97     -0.00     -1.67      1.50   1282.63      1.00\n",
      "eps_tform[0,49]      0.05      1.01      0.01     -1.71      1.61   1823.86      1.00\n",
      "eps_tform[0,50]     -0.03      1.06     -0.03     -1.80      1.66   1389.99      1.00\n",
      "eps_tform[0,51]      0.02      1.01      0.01     -1.56      1.75   1571.66      1.00\n",
      "eps_tform[0,52]      0.06      0.97      0.03     -1.56      1.54   1661.72      1.00\n",
      "eps_tform[0,53]     -0.03      0.95     -0.05     -1.49      1.60   1595.92      1.00\n",
      "       theta[0]      0.41      0.32      0.42     -0.12      0.92    609.81      1.00\n",
      "        tmax[0]     -1.43      0.47     -1.40     -2.23     -0.69    661.08      1.00\n",
      "\n",
      "Number of divergences: 0\n"
     ]
    }
   ],
   "source": [
    "for dust_law in [\"F99\", \"G23\", \"F19\"]:\n",
    "    for supernova_name in supernovae_names:\n",
    "        supernova_file = \"/root/partiiiproject/Archive/\"+supernova_name+\".dat\"\n",
    "        prior_distribution = \"uniform\"\n",
    "        drop_bands=['u_CSP', 'U']\n",
    "        samples, sn_props = model.fit_from_file(supernova_file, RV='uniform', drop_bands=drop_bands, redlaw=dust_law, file_prefix = \"DustLawsFitOfAllSamples/\"+supernova_name + dust_law)"
   ]
  },
  {
   "cell_type": "markdown",
   "id": "49b586eb-3c1f-48fb-a539-2249332ca3bb",
   "metadata": {},
   "source": [
    "## Load Observational Data"
   ]
  },
  {
   "cell_type": "markdown",
   "id": "e7406301-b3d3-410e-bab6-f218b0bf9ca7",
   "metadata": {},
   "source": [
    "We read the observational data andits assosciated uncertainty "
   ]
  },
  {
   "cell_type": "code",
   "execution_count": 10,
   "id": "46f6c3c5-6d08-4b12-abd1-d829460b53fb",
   "metadata": {},
   "outputs": [],
   "source": [
    "meta, lcdata = sncosmo.read_snana_ascii(supernova_file, default_tablename='OBS')\n",
    "lcdata = lcdata['OBS'].to_pandas()"
   ]
  },
  {
   "cell_type": "markdown",
   "id": "413db1ff-671d-456b-bfae-b3299e860e8e",
   "metadata": {},
   "source": [
    "## Use chains to get Fits to plot"
   ]
  },
  {
   "cell_type": "markdown",
   "id": "2167c8c7-a8d5-4bcf-afdf-3ecbacfd771a",
   "metadata": {},
   "source": [
    "Choose the bands we want to plot and the number of days on either side of the peak."
   ]
  },
  {
   "cell_type": "code",
   "execution_count": 11,
   "id": "fe50aa59-3d4e-41fd-a494-d25666259e90",
   "metadata": {},
   "outputs": [
    {
     "name": "stdout",
     "output_type": "stream",
     "text": [
      "Getting best fit light curves from chains...\n"
     ]
    },
    {
     "name": "stderr",
     "output_type": "stream",
     "text": [
      "100%|█████████████████████████████████████████████████████████████████████████████████████| 1/1 [00:04<00:00,  4.67s/it]\n"
     ]
    }
   ],
   "source": [
    "t = np.arange(-15, 40, 1) #Days on either side of the peak  normally (-15,40)\n",
    "bands = ['g_CSP', 'r_CSP', 'i_CSP', 'B_CSP', 'V_CSP', 'Y_RC', 'J_RC1', 'H_RC'] #Bands being used for plot\n",
    "\n",
    "z = meta['REDSHIFT_FINAL']\n",
    "ebv_mw = meta['MWEBV']\n",
    "sampleChainsDir = \"DustLawsFitOfAllSamples/\"+supernova_name + dust_law + \"/chains.pkl\"\n",
    "flux_grid = model.get_flux_from_chains(t, bands, samples, z, ebv_mw, mag=False, num_samples=10)\n",
    "fit, fit_err = flux_grid.mean(axis=(0, 1)), flux_grid.std(axis=(0, 1))"
   ]
  },
  {
   "cell_type": "markdown",
   "id": "3bc6f4a6-0f40-4bbc-b6e9-89664013a513",
   "metadata": {},
   "source": [
    "Turn the flux into an actual fit we can plot"
   ]
  },
  {
   "cell_type": "code",
   "execution_count": null,
   "id": "4618e248-97d9-45ac-b828-c8b01e681c8a",
   "metadata": {},
   "outputs": [],
   "source": []
  }
 ],
 "metadata": {
  "kernelspec": {
   "display_name": "Python 3 (ipykernel)",
   "language": "python",
   "name": "python3"
  },
  "language_info": {
   "codemirror_mode": {
    "name": "ipython",
    "version": 3
   },
   "file_extension": ".py",
   "mimetype": "text/x-python",
   "name": "python",
   "nbconvert_exporter": "python",
   "pygments_lexer": "ipython3",
   "version": "3.11.0"
  }
 },
 "nbformat": 4,
 "nbformat_minor": 5
}
