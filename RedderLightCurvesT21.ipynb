{
 "cells": [
  {
   "cell_type": "markdown",
   "id": "3a0484e9-842f-4854-a7ae-02df291501ee",
   "metadata": {},
   "source": [
    "# Light curves with the T21 Model looking at Four Redder Supernovae"
   ]
  },
  {
   "cell_type": "code",
   "execution_count": 2,
   "id": "c59c4015-d5dc-4590-b7e2-b7fa6ebc255a",
   "metadata": {},
   "outputs": [
    {
     "data": {
      "text/plain": [
       "1"
      ]
     },
     "execution_count": 2,
     "metadata": {},
     "output_type": "execute_result"
    }
   ],
   "source": [
    "import numpy as np\n",
    "import matplotlib.pyplot as plt\n",
    "import sncosmo\n",
    "from bayesn import SEDmodel"
   ]
  },
  {
   "cell_type": "markdown",
   "id": "1e28dc10-8358-4ea8-ac37-d45112905f90",
   "metadata": {},
   "source": [
    "## Load the T21 Model"
   ]
  },
  {
   "cell_type": "markdown",
   "id": "9f22774a-5d1c-4e61-a795-d71101a09787",
   "metadata": {},
   "source": [
    "Note that the T21 model only works with griz bands"
   ]
  },
  {
   "cell_type": "code",
   "execution_count": 2,
   "id": "1dc482f9-27f4-493b-935c-5fb0cb488099",
   "metadata": {},
   "outputs": [
    {
     "name": "stdout",
     "output_type": "stream",
     "text": [
      "Current devices: [CudaDevice(id=0)]\n",
      "Currently working in /root/partiiiproject\n",
      "Loading built-in model T21_model\n"
     ]
    }
   ],
   "source": [
    "model = SEDmodel(load_model='T21_model')"
   ]
  },
  {
   "cell_type": "markdown",
   "id": "57b6f403-3c2a-4671-86c5-70d53c6ccec3",
   "metadata": {},
   "source": [
    "## Generate Fits"
   ]
  },
  {
   "cell_type": "markdown",
   "id": "c6daddfc-9688-4ab1-8e27-9752254d4338",
   "metadata": {},
   "source": [
    "We generate the fits for our supernova data.\n",
    "We are looking at four different supernova:\\\n",
    "CSPDR3_2005A.PKMJD.DAT\\\n",
    "CSPDR3_2006br.PKMJD.DAT\\\n",
    "sn2009I.Wstd_snana.dat\\\n",
    "sn2006X.Wstd_snana.dat"
   ]
  },
  {
   "cell_type": "code",
   "execution_count": null,
   "id": "e251e73d-10e5-4b82-8884-bfcd3c3cbbe4",
   "metadata": {},
   "outputs": [
    {
     "name": "stderr",
     "output_type": "stream",
     "text": [
      "/root/miniforge3/envs/bayesnGPU/lib/python3.13/site-packages/bayesn/bayesn_model.py:2035: UserWarning: There are not enough devices to run parallel chains: expected 4 but got 1. Chains will be drawn sequentially. If you are running MCMC in CPU, consider using `numpyro.set_host_device_count(4)` at the beginning of your program. You can double-check how many devices are available in your system using `jax.local_device_count()`.\n",
      "  mcmc = MCMC(nuts_kernel, num_samples=250, num_warmup=250, num_chains=4, chain_method='parallel')\n",
      "/root/miniforge3/envs/bayesnGPU/lib/python3.13/site-packages/bayesn/bayesn_model.py:2047: UserWarning: Missing a plate statement for batch dimension -2 at site 'obs'. You can use `numpyro.util.format_shapes` utility to check shapes at all sites of your model.\n",
      "  mcmc.run(rng, data, band_weights, fix_tmax, fix_theta, theta_val, fix_AV, AV_val,\n",
      "sample: 100%|████████████████████████████████████████████████████████████████| 500/500 [07:09<00:00,  1.16it/s, 1023 steps of size 3.27e-04. acc. prob=0.93]\n",
      "/root/miniforge3/envs/bayesnGPU/lib/python3.13/site-packages/bayesn/bayesn_model.py:2047: UserWarning: Missing a plate statement for batch dimension -2 at site 'obs'. You can use `numpyro.util.format_shapes` utility to check shapes at all sites of your model.\n",
      "  mcmc.run(rng, data, band_weights, fix_tmax, fix_theta, theta_val, fix_AV, AV_val,\n",
      "warmup:  39%|████████████████████████▉                                       | 195/500 [03:28<04:52,  1.04it/s, 1023 steps of size 1.23e-02. acc. prob=0.77]"
     ]
    }
   ],
   "source": [
    "supernova_file = \"/root/partiiiproject/sn2006X.Wstd_snana.dat\"\n",
    "supernova_name = \"sn2006X\"\n",
    "#bands_to_drop = ['Y_RC', 'J_RC1', 'H_RC', 'Y_WIRC', 'J_WIRC', 'H_WIRC']\n",
    "bands_to_drop = ['u_CSP', 'V_CSP', 'Y_RC', 'J_RC2', 'J_RC1', 'H_RC']\n",
    "mu_Rv_used = 2.61\n",
    "#filt_map = {'g': 'g_PS1', 'r': 'r_PS1', 'i': 'i_PS1', 'B' : 'B_PS1', 'u':'u_CSP', 'n':'V_CSP', 'Y':'Y_RC', 'j':'J_RC1', 'H':'H_RC'}\n",
    "#filt_map = {'g' : 'g_PS1', 'r' : 'r_PS1', 'i': 'i_PS1'}\n",
    "samples, sn_props = model.fit_from_file(supernova_file, drop_bands=bands_to_drop, mu_R = mu_Rv_used, sigma_R=0.001)\n",
    "#samples, sn_props = model.fit_from_file(supernova_file, drop_bands=bands_to_drop)"
   ]
  },
  {
   "cell_type": "markdown",
   "id": "49b586eb-3c1f-48fb-a539-2249332ca3bb",
   "metadata": {},
   "source": [
    "## Load Observational Data"
   ]
  },
  {
   "cell_type": "markdown",
   "id": "e7406301-b3d3-410e-bab6-f218b0bf9ca7",
   "metadata": {},
   "source": [
    "We read the observational data andits assosciated uncertainty "
   ]
  },
  {
   "cell_type": "code",
   "execution_count": null,
   "id": "46f6c3c5-6d08-4b12-abd1-d829460b53fb",
   "metadata": {},
   "outputs": [],
   "source": [
    "meta, lcdata = sncosmo.read_snana_ascii(supernova_file, default_tablename='OBS')\n",
    "lcdata = lcdata['OBS'].to_pandas()"
   ]
  },
  {
   "cell_type": "markdown",
   "id": "413db1ff-671d-456b-bfae-b3299e860e8e",
   "metadata": {},
   "source": [
    "## Use chains to get Fits to plot"
   ]
  },
  {
   "cell_type": "markdown",
   "id": "2167c8c7-a8d5-4bcf-afdf-3ecbacfd771a",
   "metadata": {},
   "source": [
    "Choose the bands we want to plot and the number of days on either side of the peak."
   ]
  },
  {
   "cell_type": "code",
   "execution_count": null,
   "id": "fe50aa59-3d4e-41fd-a494-d25666259e90",
   "metadata": {},
   "outputs": [],
   "source": [
    "t = np.arange(-20, 40, 1) #Days on either side of the peak\n",
    "bands = ['g_CSP', 'r_CSP', 'i_CSP', 'B_CSP'] #Bands being used for plot\n",
    "z, ebv_mw = sn_props\n",
    "\n",
    "flux_grid = model.get_flux_from_chains(t, bands, samples, z, ebv_mw, mag=False, num_samples=10)"
   ]
  },
  {
   "cell_type": "markdown",
   "id": "3bc6f4a6-0f40-4bbc-b6e9-89664013a513",
   "metadata": {},
   "source": [
    "Turn the flux into an actual fit we can plot"
   ]
  },
  {
   "cell_type": "code",
   "execution_count": null,
   "id": "c0a78f75-5bce-4655-b22c-8389e0db0c32",
   "metadata": {},
   "outputs": [],
   "source": [
    "fit, fit_err = flux_grid.mean(axis=(0, 1)), flux_grid.std(axis=(0, 1))"
   ]
  },
  {
   "cell_type": "markdown",
   "id": "ca12025c-477c-40d1-8c77-2a3ad671fad5",
   "metadata": {},
   "source": [
    "## Plot a graph"
   ]
  },
  {
   "cell_type": "code",
   "execution_count": null,
   "id": "47bb0bca-8ad2-4e11-98a7-9c6f277d4ef7",
   "metadata": {},
   "outputs": [],
   "source": [
    "cs = ['g', 'r', 'b', 'c']\n",
    "plot_t = t + meta['SEARCH_PEAKMJD']\n",
    "for b_ind, b in enumerate(bands):\n",
    "    b_data = lcdata[lcdata.FLT == b]\n",
    "    plt.errorbar(b_data.MJD, b_data.FLUXCAL, b_data.FLUXCALERR, fmt=f'{cs[b_ind]}x', label=b)\n",
    "    plt.plot(plot_t, fit[b_ind, :], color=cs[b_ind])\n",
    "    plt.fill_between(plot_t, fit[b_ind, :] - fit_err[b_ind, :], fit[b_ind, :] + fit_err[b_ind, :], alpha=0.3, color=cs[b_ind])\n",
    "plt.title('Normal prior Rv '+supernova_name+' with T21 Model')\n",
    "plt.xlabel('MJD')\n",
    "plt.ylabel('FLUXCAL')\n",
    "plt.legend()\n",
    "plt.figtext(.8, .6, \"Mean Av = \" + str(np.mean(samples['AV'])))\n",
    "plt.figtext(.8, .55, \"Std Av = \" + str(np.std(samples['AV'])))\n",
    "plt.figtext(.8, .5, \"Mean mu = \" + str(np.mean(samples['theta'])))\n",
    "plt.figtext(.8, .45, \"mu_Rv = \" + str(mu_Rv_used))\n",
    "plt.figtext(.8, .4, \"sigma_Rv = 0.5\")\n",
    "plt.figtext(.8, .35, \"mean_Rv = \"+ str(np.mean(samples['Rv'])))\n",
    "plt.figtext(.8, .3, \"std_Rv = \"+ str(np.std(samples['Rv'])))\n",
    "#plt.savefig(\"/root/partiiiproject/RedderLightCurvesT21Graphs/\"+supernova_name+\"NormalRv\" + str(mu_Rv_used) +\".png\", bbox_inches='tight') #save plot\n",
    "#plt.savefig(\"/root/partiiiproject/RedderLightCurvesT21Graphs/\"+supernova_name+\"Fixed.png\", bbox_inches='tight')\n",
    "plt.show()"
   ]
  },
  {
   "cell_type": "markdown",
   "id": "e146c9ea-dc54-4b3a-b889-dd0fa6045f7f",
   "metadata": {},
   "source": [
    "Plotted as Sub-Plots"
   ]
  },
  {
   "cell_type": "code",
   "execution_count": null,
   "id": "67ea6069-e398-40b4-8a6f-047aefd35be2",
   "metadata": {},
   "outputs": [],
   "source": [
    "cs = ['g', 'r', 'b', 'c'] #colour scheme\n",
    "plot_t = t + meta['SEARCH_PEAKMJD'] #Time is based around the peak for the supernova\n",
    "figure, axis = plt.subplots(3, 2) #Sub plots 3 rows and 2 columns\n",
    "for b_ind, b in enumerate(bands): #Loop through the bands given\n",
    "    #b_data = lcdata[lcdata.FLT == b[0]]\n",
    "    b_data = lcdata[lcdata.FLT == b]#get the original data for the band (previous method took first character!)\n",
    "    axis[b_ind//2, b_ind%2].errorbar(b_data.MJD, b_data.FLUXCAL, b_data.FLUXCALERR, fmt=f'{cs[b_ind]}x', label=b)\n",
    "    axis[b_ind//2, b_ind%2].plot(plot_t, fit[b_ind, :], color=cs[b_ind])\n",
    "    axis[b_ind//2, b_ind%2].fill_between(plot_t, fit[b_ind, :] - fit_err[b_ind, :], fit[b_ind, :] + fit_err[b_ind, :], alpha=0.3, color=cs[b_ind])\n",
    "    axis[b_ind//2, b_ind%2].set_title(b)\n",
    "    axis[b_ind//2, b_ind%2].set_xlabel('MJD')\n",
    "    axis[b_ind//2, b_ind%2].set_ylabel('FLUXCAL')\n",
    "#axis.legend()\n",
    "plt.subplots_adjust(left=0, right=3, bottom=0, top=3, wspace=0.2, hspace=0.4)\n",
    "figure.show()"
   ]
  },
  {
   "cell_type": "markdown",
   "id": "36487e5f-7f48-4c1d-9328-e0c6e46e3a2a",
   "metadata": {},
   "source": [
    "## Saving the plot to a file"
   ]
  },
  {
   "cell_type": "markdown",
   "id": "718b69d0-d4c4-4a16-b495-46b0deb66d7f",
   "metadata": {},
   "source": [
    "Saving Sub Plot"
   ]
  },
  {
   "cell_type": "code",
   "execution_count": null,
   "id": "19193628-9e8f-422d-af6c-e3b311617d41",
   "metadata": {},
   "outputs": [],
   "source": [
    "#figure.savefig(\"/root/partiiiproject/RedderLightCurvesT21Graphs/\"+supernova_name+\"NormalRv\" + str(mu_Rv_used)+ \"Combined.png\", bbox_inches='tight')\n",
    "#figure.savefig(\"/root/partiiiproject/RedderLightCurvesT21Graphs/\"+supernova_name+\"FixedCombined.png\", bbox_inches='tight')"
   ]
  },
  {
   "cell_type": "markdown",
   "id": "d8f5ed91-cf0b-4d1e-b02b-8fa7f17c7d93",
   "metadata": {},
   "source": [
    "## A little look at Dust Values"
   ]
  },
  {
   "cell_type": "code",
   "execution_count": null,
   "id": "8585014e-7c1f-4c3c-a75d-6cdfebd787fe",
   "metadata": {},
   "outputs": [],
   "source": [
    "plt.hist(samples['AV'].flatten())"
   ]
  },
  {
   "cell_type": "code",
   "execution_count": null,
   "id": "6cba799a-e6ea-4002-bcf3-49760f30642d",
   "metadata": {},
   "outputs": [],
   "source": [
    "np.mean(samples['AV'])"
   ]
  },
  {
   "cell_type": "code",
   "execution_count": null,
   "id": "18f0728d-c46a-425f-b43c-130787944bb1",
   "metadata": {},
   "outputs": [],
   "source": [
    "np.std(samples['AV'])"
   ]
  },
  {
   "cell_type": "code",
   "execution_count": null,
   "id": "2b196f24-1bff-4a9a-a0fb-cee3a7b6ba1c",
   "metadata": {},
   "outputs": [],
   "source": [
    "np.mean(samples['theta'])"
   ]
  },
  {
   "cell_type": "code",
   "execution_count": null,
   "id": "fecd0264-b49a-491c-ab4d-9748e0652d71",
   "metadata": {},
   "outputs": [],
   "source": []
  },
  {
   "cell_type": "code",
   "execution_count": null,
   "id": "f1dc9dc0-12a1-482e-817a-de32a703b1d1",
   "metadata": {},
   "outputs": [],
   "source": []
  }
 ],
 "metadata": {
  "kernelspec": {
   "display_name": "Python 3 (ipykernel)",
   "language": "python",
   "name": "python3"
  },
  "language_info": {
   "codemirror_mode": {
    "name": "ipython",
    "version": 3
   },
   "file_extension": ".py",
   "mimetype": "text/x-python",
   "name": "python",
   "nbconvert_exporter": "python",
   "pygments_lexer": "ipython3",
   "version": "3.13.1"
  }
 },
 "nbformat": 4,
 "nbformat_minor": 5
}
