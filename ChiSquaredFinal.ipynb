{
 "cells": [
  {
   "cell_type": "markdown",
   "id": "b01a2091-7039-4e62-9080-0de0c1288b0f",
   "metadata": {},
   "source": [
    "# Chi Squared - Commented and smoothed out"
   ]
  },
  {
   "cell_type": "markdown",
   "id": "ba224d33-5aaa-4034-8348-2a3090699e41",
   "metadata": {},
   "source": [
    "## Import modules"
   ]
  },
  {
   "cell_type": "code",
   "execution_count": 1,
   "id": "107853e3-1b2c-4bcf-a58d-36f9fb1d930b",
   "metadata": {},
   "outputs": [],
   "source": [
    "import numpy as np\n",
    "import matplotlib.pyplot as plt\n",
    "import sncosmo\n",
    "from bayesn import SEDmodel\n",
    "import matplotlib.patches as mpatches\n",
    "import os\n",
    "import pandas as pd\n",
    "import pickle"
   ]
  },
  {
   "cell_type": "markdown",
   "id": "976555fd-2942-446c-a88a-87ae569343f0",
   "metadata": {},
   "source": [
    "## Make a list of SNe"
   ]
  },
  {
   "cell_type": "code",
   "execution_count": 2,
   "id": "bc692865-376b-4c33-af16-7b867bf69b6d",
   "metadata": {},
   "outputs": [],
   "source": [
    "directory = os.fsencode(\"/root/partiiiproject/Archive\")\n",
    "supernovae_names = [\"sn2006hb\"]\n",
    "for file in os.listdir(directory):\n",
    "    filename = os.fsdecode(file)\n",
    "    if filename.endswith(\".dat\"):\n",
    "        supernovae_names.append(filename[:-4])\n",
    "        continue\n",
    "    else:\n",
    "        continue"
   ]
  },
  {
   "cell_type": "markdown",
   "id": "d079404f-31fa-4ff5-90a7-21084b71be70",
   "metadata": {},
   "source": [
    "## Decide on Dust Laws"
   ]
  },
  {
   "cell_type": "code",
   "execution_count": 3,
   "id": "2e8023e7-f7f6-40d4-89c8-e753f849e560",
   "metadata": {},
   "outputs": [],
   "source": [
    "dust_laws = ('F99', 'F19', 'G23')"
   ]
  },
  {
   "cell_type": "markdown",
   "id": "80bc039f-3170-422e-99ea-1d421b13ed76",
   "metadata": {},
   "source": [
    "## Load SED model"
   ]
  },
  {
   "cell_type": "code",
   "execution_count": 4,
   "id": "eda03cb1-3318-4ff2-a24e-e80db0cf43d5",
   "metadata": {},
   "outputs": [
    {
     "name": "stderr",
     "output_type": "stream",
     "text": [
      "An NVIDIA GPU may be present on this machine, but a CUDA-enabled jaxlib is not installed. Falling back to cpu.\n"
     ]
    },
    {
     "name": "stdout",
     "output_type": "stream",
     "text": [
      "Current devices: [CpuDevice(id=0), CpuDevice(id=1), CpuDevice(id=2), CpuDevice(id=3)]\n",
      "Currently working in /root/partiiiproject\n",
      "Loading built-in model W22_model\n",
      "Loading built-in reddening law F99\n"
     ]
    }
   ],
   "source": [
    "filter_yaml = \"/root/partiiiproject/bayesn-filters/bayesn-filters/filters.yaml\"\n",
    "model = SEDmodel(load_model='W22_model', filter_yaml = filter_yaml)"
   ]
  },
  {
   "cell_type": "markdown",
   "id": "f16320e3-2828-4952-be8b-230b9c7bb25f",
   "metadata": {},
   "source": [
    "## Open existing data frame / or make a new one"
   ]
  },
  {
   "cell_type": "code",
   "execution_count": 5,
   "id": "9cf6c47f-6519-43c7-a262-f97618e98a29",
   "metadata": {},
   "outputs": [
    {
     "name": "stdout",
     "output_type": "stream",
     "text": [
      "                 F99         F19         G23\n",
      "sn2006hb   90.263402         NaN  329.111540\n",
      "sn2006hb   90.263402         NaN  329.111540\n",
      "sn2008fl   25.140620  444.505339   33.405831\n",
      "sn2007jg   76.807409  103.665883   87.763588\n",
      "sn2008R    26.738986  605.211319   29.863422\n",
      "...              ...         ...         ...\n",
      "sn2007hj   10.944924   14.408217  169.981562\n",
      "sn2005ki  132.027520  221.541212   20.304248\n",
      "sn2007bc   18.830460    9.771580  347.240464\n",
      "sn2005iq    3.791245   53.359055  105.925775\n",
      "sn2008bq   48.185840  245.957264  170.495173\n",
      "\n",
      "[91 rows x 3 columns]\n"
     ]
    }
   ],
   "source": [
    "#Decide on method\n",
    "method = \"sim\" #\"fit\" or \"sim\"\n",
    "\n",
    "#Decide new or existing?\n",
    "new_df = False\n",
    "\n",
    "#df directory name\n",
    "df_directory = \"ChiSquaredFinal\"+method+\".csv\"\n",
    "\n",
    "if new_df:\n",
    "    #New data frame\n",
    "    df = pd.DataFrame(columns=dust_laws)\n",
    "    df = pd.DataFrame(df, index=supernovae_names)\n",
    "    df.to_csv(df_directory)\n",
    "    print(df)\n",
    "else:\n",
    "    #Open existing data frame\n",
    "    df = pd.read_csv(df_directory)\n",
    "    df = df.drop(['Unnamed: 0'], axis=1)\n",
    "    df.index = supernovae_names\n",
    "    print(df)"
   ]
  },
  {
   "cell_type": "markdown",
   "id": "8318858a-cadc-4ab8-94a6-1ed2dc7f40f9",
   "metadata": {},
   "source": [
    "## Get Chi Squared values for a set of SNe"
   ]
  },
  {
   "cell_type": "code",
   "execution_count": 8,
   "id": "aa0959eb-d569-4a8a-b30f-2f5b4db51386",
   "metadata": {},
   "outputs": [
    {
     "name": "stderr",
     "output_type": "stream",
     "text": [
      "/tmp/ipykernel_7801/2502307303.py:85: DeprecationWarning: Conversion of an array with ndim > 0 to a scalar is deprecated, and will error in future. Ensure you extract a single element from your array before performing this operation. (Deprecated NumPy 1.25.)\n",
      "  chi_squared[i] = chi_squared_calc\n"
     ]
    },
    {
     "name": "stdout",
     "output_type": "stream",
     "text": [
      "1 out of 273\n"
     ]
    },
    {
     "name": "stderr",
     "output_type": "stream",
     "text": [
      "/tmp/ipykernel_7801/2502307303.py:85: DeprecationWarning: Conversion of an array with ndim > 0 to a scalar is deprecated, and will error in future. Ensure you extract a single element from your array before performing this operation. (Deprecated NumPy 1.25.)\n",
      "  chi_squared[i] = chi_squared_calc\n"
     ]
    },
    {
     "name": "stdout",
     "output_type": "stream",
     "text": [
      "2 out of 273\n"
     ]
    },
    {
     "name": "stderr",
     "output_type": "stream",
     "text": [
      "/tmp/ipykernel_7801/2502307303.py:85: DeprecationWarning: Conversion of an array with ndim > 0 to a scalar is deprecated, and will error in future. Ensure you extract a single element from your array before performing this operation. (Deprecated NumPy 1.25.)\n",
      "  chi_squared[i] = chi_squared_calc\n"
     ]
    },
    {
     "name": "stdout",
     "output_type": "stream",
     "text": [
      "3 out of 273\n"
     ]
    },
    {
     "name": "stderr",
     "output_type": "stream",
     "text": [
      "/tmp/ipykernel_7801/2502307303.py:85: DeprecationWarning: Conversion of an array with ndim > 0 to a scalar is deprecated, and will error in future. Ensure you extract a single element from your array before performing this operation. (Deprecated NumPy 1.25.)\n",
      "  chi_squared[i] = chi_squared_calc\n"
     ]
    },
    {
     "name": "stdout",
     "output_type": "stream",
     "text": [
      "4 out of 273\n"
     ]
    },
    {
     "name": "stderr",
     "output_type": "stream",
     "text": [
      "/tmp/ipykernel_7801/2502307303.py:85: DeprecationWarning: Conversion of an array with ndim > 0 to a scalar is deprecated, and will error in future. Ensure you extract a single element from your array before performing this operation. (Deprecated NumPy 1.25.)\n",
      "  chi_squared[i] = chi_squared_calc\n"
     ]
    },
    {
     "name": "stdout",
     "output_type": "stream",
     "text": [
      "5 out of 273\n"
     ]
    },
    {
     "name": "stderr",
     "output_type": "stream",
     "text": [
      "/tmp/ipykernel_7801/2502307303.py:85: DeprecationWarning: Conversion of an array with ndim > 0 to a scalar is deprecated, and will error in future. Ensure you extract a single element from your array before performing this operation. (Deprecated NumPy 1.25.)\n",
      "  chi_squared[i] = chi_squared_calc\n"
     ]
    },
    {
     "name": "stdout",
     "output_type": "stream",
     "text": [
      "6 out of 273\n"
     ]
    },
    {
     "name": "stderr",
     "output_type": "stream",
     "text": [
      "/tmp/ipykernel_7801/2502307303.py:85: DeprecationWarning: Conversion of an array with ndim > 0 to a scalar is deprecated, and will error in future. Ensure you extract a single element from your array before performing this operation. (Deprecated NumPy 1.25.)\n",
      "  chi_squared[i] = chi_squared_calc\n"
     ]
    },
    {
     "name": "stdout",
     "output_type": "stream",
     "text": [
      "7 out of 273\n"
     ]
    },
    {
     "name": "stderr",
     "output_type": "stream",
     "text": [
      "/tmp/ipykernel_7801/2502307303.py:85: DeprecationWarning: Conversion of an array with ndim > 0 to a scalar is deprecated, and will error in future. Ensure you extract a single element from your array before performing this operation. (Deprecated NumPy 1.25.)\n",
      "  chi_squared[i] = chi_squared_calc\n"
     ]
    },
    {
     "name": "stdout",
     "output_type": "stream",
     "text": [
      "8 out of 273\n"
     ]
    },
    {
     "name": "stderr",
     "output_type": "stream",
     "text": [
      "/tmp/ipykernel_7801/2502307303.py:85: DeprecationWarning: Conversion of an array with ndim > 0 to a scalar is deprecated, and will error in future. Ensure you extract a single element from your array before performing this operation. (Deprecated NumPy 1.25.)\n",
      "  chi_squared[i] = chi_squared_calc\n"
     ]
    },
    {
     "name": "stdout",
     "output_type": "stream",
     "text": [
      "9 out of 273\n"
     ]
    },
    {
     "name": "stderr",
     "output_type": "stream",
     "text": [
      "/tmp/ipykernel_7801/2502307303.py:85: DeprecationWarning: Conversion of an array with ndim > 0 to a scalar is deprecated, and will error in future. Ensure you extract a single element from your array before performing this operation. (Deprecated NumPy 1.25.)\n",
      "  chi_squared[i] = chi_squared_calc\n"
     ]
    },
    {
     "name": "stdout",
     "output_type": "stream",
     "text": [
      "10 out of 273\n"
     ]
    },
    {
     "name": "stderr",
     "output_type": "stream",
     "text": [
      "/tmp/ipykernel_7801/2502307303.py:85: DeprecationWarning: Conversion of an array with ndim > 0 to a scalar is deprecated, and will error in future. Ensure you extract a single element from your array before performing this operation. (Deprecated NumPy 1.25.)\n",
      "  chi_squared[i] = chi_squared_calc\n"
     ]
    },
    {
     "name": "stdout",
     "output_type": "stream",
     "text": [
      "11 out of 273\n"
     ]
    },
    {
     "name": "stderr",
     "output_type": "stream",
     "text": [
      "/tmp/ipykernel_7801/2502307303.py:85: DeprecationWarning: Conversion of an array with ndim > 0 to a scalar is deprecated, and will error in future. Ensure you extract a single element from your array before performing this operation. (Deprecated NumPy 1.25.)\n",
      "  chi_squared[i] = chi_squared_calc\n"
     ]
    },
    {
     "name": "stdout",
     "output_type": "stream",
     "text": [
      "12 out of 273\n"
     ]
    },
    {
     "name": "stderr",
     "output_type": "stream",
     "text": [
      "/tmp/ipykernel_7801/2502307303.py:85: DeprecationWarning: Conversion of an array with ndim > 0 to a scalar is deprecated, and will error in future. Ensure you extract a single element from your array before performing this operation. (Deprecated NumPy 1.25.)\n",
      "  chi_squared[i] = chi_squared_calc\n"
     ]
    },
    {
     "name": "stdout",
     "output_type": "stream",
     "text": [
      "13 out of 273\n"
     ]
    },
    {
     "name": "stderr",
     "output_type": "stream",
     "text": [
      "/tmp/ipykernel_7801/2502307303.py:85: DeprecationWarning: Conversion of an array with ndim > 0 to a scalar is deprecated, and will error in future. Ensure you extract a single element from your array before performing this operation. (Deprecated NumPy 1.25.)\n",
      "  chi_squared[i] = chi_squared_calc\n"
     ]
    },
    {
     "name": "stdout",
     "output_type": "stream",
     "text": [
      "14 out of 273\n"
     ]
    },
    {
     "name": "stderr",
     "output_type": "stream",
     "text": [
      "/tmp/ipykernel_7801/2502307303.py:85: DeprecationWarning: Conversion of an array with ndim > 0 to a scalar is deprecated, and will error in future. Ensure you extract a single element from your array before performing this operation. (Deprecated NumPy 1.25.)\n",
      "  chi_squared[i] = chi_squared_calc\n"
     ]
    },
    {
     "name": "stdout",
     "output_type": "stream",
     "text": [
      "15 out of 273\n"
     ]
    },
    {
     "name": "stderr",
     "output_type": "stream",
     "text": [
      "/tmp/ipykernel_7801/2502307303.py:85: DeprecationWarning: Conversion of an array with ndim > 0 to a scalar is deprecated, and will error in future. Ensure you extract a single element from your array before performing this operation. (Deprecated NumPy 1.25.)\n",
      "  chi_squared[i] = chi_squared_calc\n"
     ]
    },
    {
     "name": "stdout",
     "output_type": "stream",
     "text": [
      "16 out of 273\n"
     ]
    },
    {
     "name": "stderr",
     "output_type": "stream",
     "text": [
      "/tmp/ipykernel_7801/2502307303.py:85: DeprecationWarning: Conversion of an array with ndim > 0 to a scalar is deprecated, and will error in future. Ensure you extract a single element from your array before performing this operation. (Deprecated NumPy 1.25.)\n",
      "  chi_squared[i] = chi_squared_calc\n"
     ]
    },
    {
     "name": "stdout",
     "output_type": "stream",
     "text": [
      "17 out of 273\n"
     ]
    },
    {
     "name": "stderr",
     "output_type": "stream",
     "text": [
      "/tmp/ipykernel_7801/2502307303.py:85: DeprecationWarning: Conversion of an array with ndim > 0 to a scalar is deprecated, and will error in future. Ensure you extract a single element from your array before performing this operation. (Deprecated NumPy 1.25.)\n",
      "  chi_squared[i] = chi_squared_calc\n"
     ]
    },
    {
     "name": "stdout",
     "output_type": "stream",
     "text": [
      "18 out of 273\n"
     ]
    },
    {
     "name": "stderr",
     "output_type": "stream",
     "text": [
      "/tmp/ipykernel_7801/2502307303.py:85: DeprecationWarning: Conversion of an array with ndim > 0 to a scalar is deprecated, and will error in future. Ensure you extract a single element from your array before performing this operation. (Deprecated NumPy 1.25.)\n",
      "  chi_squared[i] = chi_squared_calc\n"
     ]
    },
    {
     "name": "stdout",
     "output_type": "stream",
     "text": [
      "19 out of 273\n"
     ]
    },
    {
     "name": "stderr",
     "output_type": "stream",
     "text": [
      "/tmp/ipykernel_7801/2502307303.py:85: DeprecationWarning: Conversion of an array with ndim > 0 to a scalar is deprecated, and will error in future. Ensure you extract a single element from your array before performing this operation. (Deprecated NumPy 1.25.)\n",
      "  chi_squared[i] = chi_squared_calc\n"
     ]
    },
    {
     "name": "stdout",
     "output_type": "stream",
     "text": [
      "20 out of 273\n"
     ]
    },
    {
     "name": "stderr",
     "output_type": "stream",
     "text": [
      "/tmp/ipykernel_7801/2502307303.py:85: DeprecationWarning: Conversion of an array with ndim > 0 to a scalar is deprecated, and will error in future. Ensure you extract a single element from your array before performing this operation. (Deprecated NumPy 1.25.)\n",
      "  chi_squared[i] = chi_squared_calc\n"
     ]
    },
    {
     "name": "stdout",
     "output_type": "stream",
     "text": [
      "21 out of 273\n"
     ]
    },
    {
     "name": "stderr",
     "output_type": "stream",
     "text": [
      "/tmp/ipykernel_7801/2502307303.py:85: DeprecationWarning: Conversion of an array with ndim > 0 to a scalar is deprecated, and will error in future. Ensure you extract a single element from your array before performing this operation. (Deprecated NumPy 1.25.)\n",
      "  chi_squared[i] = chi_squared_calc\n"
     ]
    },
    {
     "name": "stdout",
     "output_type": "stream",
     "text": [
      "22 out of 273\n"
     ]
    },
    {
     "name": "stderr",
     "output_type": "stream",
     "text": [
      "/tmp/ipykernel_7801/2502307303.py:85: DeprecationWarning: Conversion of an array with ndim > 0 to a scalar is deprecated, and will error in future. Ensure you extract a single element from your array before performing this operation. (Deprecated NumPy 1.25.)\n",
      "  chi_squared[i] = chi_squared_calc\n"
     ]
    },
    {
     "name": "stdout",
     "output_type": "stream",
     "text": [
      "23 out of 273\n"
     ]
    },
    {
     "name": "stderr",
     "output_type": "stream",
     "text": [
      "/tmp/ipykernel_7801/2502307303.py:85: DeprecationWarning: Conversion of an array with ndim > 0 to a scalar is deprecated, and will error in future. Ensure you extract a single element from your array before performing this operation. (Deprecated NumPy 1.25.)\n",
      "  chi_squared[i] = chi_squared_calc\n"
     ]
    },
    {
     "name": "stdout",
     "output_type": "stream",
     "text": [
      "24 out of 273\n"
     ]
    },
    {
     "name": "stderr",
     "output_type": "stream",
     "text": [
      "/tmp/ipykernel_7801/2502307303.py:85: DeprecationWarning: Conversion of an array with ndim > 0 to a scalar is deprecated, and will error in future. Ensure you extract a single element from your array before performing this operation. (Deprecated NumPy 1.25.)\n",
      "  chi_squared[i] = chi_squared_calc\n"
     ]
    },
    {
     "name": "stdout",
     "output_type": "stream",
     "text": [
      "25 out of 273\n"
     ]
    },
    {
     "name": "stderr",
     "output_type": "stream",
     "text": [
      "/tmp/ipykernel_7801/2502307303.py:85: DeprecationWarning: Conversion of an array with ndim > 0 to a scalar is deprecated, and will error in future. Ensure you extract a single element from your array before performing this operation. (Deprecated NumPy 1.25.)\n",
      "  chi_squared[i] = chi_squared_calc\n"
     ]
    },
    {
     "name": "stdout",
     "output_type": "stream",
     "text": [
      "26 out of 273\n"
     ]
    },
    {
     "name": "stderr",
     "output_type": "stream",
     "text": [
      "/tmp/ipykernel_7801/2502307303.py:85: DeprecationWarning: Conversion of an array with ndim > 0 to a scalar is deprecated, and will error in future. Ensure you extract a single element from your array before performing this operation. (Deprecated NumPy 1.25.)\n",
      "  chi_squared[i] = chi_squared_calc\n"
     ]
    },
    {
     "name": "stdout",
     "output_type": "stream",
     "text": [
      "27 out of 273\n"
     ]
    },
    {
     "name": "stderr",
     "output_type": "stream",
     "text": [
      "/tmp/ipykernel_7801/2502307303.py:85: DeprecationWarning: Conversion of an array with ndim > 0 to a scalar is deprecated, and will error in future. Ensure you extract a single element from your array before performing this operation. (Deprecated NumPy 1.25.)\n",
      "  chi_squared[i] = chi_squared_calc\n"
     ]
    },
    {
     "name": "stdout",
     "output_type": "stream",
     "text": [
      "28 out of 273\n"
     ]
    },
    {
     "name": "stderr",
     "output_type": "stream",
     "text": [
      "/tmp/ipykernel_7801/2502307303.py:85: DeprecationWarning: Conversion of an array with ndim > 0 to a scalar is deprecated, and will error in future. Ensure you extract a single element from your array before performing this operation. (Deprecated NumPy 1.25.)\n",
      "  chi_squared[i] = chi_squared_calc\n"
     ]
    },
    {
     "name": "stdout",
     "output_type": "stream",
     "text": [
      "29 out of 273\n"
     ]
    },
    {
     "name": "stderr",
     "output_type": "stream",
     "text": [
      "/tmp/ipykernel_7801/2502307303.py:85: DeprecationWarning: Conversion of an array with ndim > 0 to a scalar is deprecated, and will error in future. Ensure you extract a single element from your array before performing this operation. (Deprecated NumPy 1.25.)\n",
      "  chi_squared[i] = chi_squared_calc\n"
     ]
    },
    {
     "name": "stdout",
     "output_type": "stream",
     "text": [
      "30 out of 273\n"
     ]
    },
    {
     "name": "stderr",
     "output_type": "stream",
     "text": [
      "/tmp/ipykernel_7801/2502307303.py:85: DeprecationWarning: Conversion of an array with ndim > 0 to a scalar is deprecated, and will error in future. Ensure you extract a single element from your array before performing this operation. (Deprecated NumPy 1.25.)\n",
      "  chi_squared[i] = chi_squared_calc\n"
     ]
    },
    {
     "name": "stdout",
     "output_type": "stream",
     "text": [
      "31 out of 273\n"
     ]
    },
    {
     "name": "stderr",
     "output_type": "stream",
     "text": [
      "/tmp/ipykernel_7801/2502307303.py:85: DeprecationWarning: Conversion of an array with ndim > 0 to a scalar is deprecated, and will error in future. Ensure you extract a single element from your array before performing this operation. (Deprecated NumPy 1.25.)\n",
      "  chi_squared[i] = chi_squared_calc\n"
     ]
    },
    {
     "name": "stdout",
     "output_type": "stream",
     "text": [
      "32 out of 273\n"
     ]
    },
    {
     "name": "stderr",
     "output_type": "stream",
     "text": [
      "/tmp/ipykernel_7801/2502307303.py:85: DeprecationWarning: Conversion of an array with ndim > 0 to a scalar is deprecated, and will error in future. Ensure you extract a single element from your array before performing this operation. (Deprecated NumPy 1.25.)\n",
      "  chi_squared[i] = chi_squared_calc\n"
     ]
    },
    {
     "name": "stdout",
     "output_type": "stream",
     "text": [
      "33 out of 273\n"
     ]
    },
    {
     "name": "stderr",
     "output_type": "stream",
     "text": [
      "/tmp/ipykernel_7801/2502307303.py:85: DeprecationWarning: Conversion of an array with ndim > 0 to a scalar is deprecated, and will error in future. Ensure you extract a single element from your array before performing this operation. (Deprecated NumPy 1.25.)\n",
      "  chi_squared[i] = chi_squared_calc\n"
     ]
    },
    {
     "name": "stdout",
     "output_type": "stream",
     "text": [
      "34 out of 273\n"
     ]
    },
    {
     "name": "stderr",
     "output_type": "stream",
     "text": [
      "/tmp/ipykernel_7801/2502307303.py:85: DeprecationWarning: Conversion of an array with ndim > 0 to a scalar is deprecated, and will error in future. Ensure you extract a single element from your array before performing this operation. (Deprecated NumPy 1.25.)\n",
      "  chi_squared[i] = chi_squared_calc\n"
     ]
    },
    {
     "name": "stdout",
     "output_type": "stream",
     "text": [
      "35 out of 273\n"
     ]
    },
    {
     "name": "stderr",
     "output_type": "stream",
     "text": [
      "/tmp/ipykernel_7801/2502307303.py:85: DeprecationWarning: Conversion of an array with ndim > 0 to a scalar is deprecated, and will error in future. Ensure you extract a single element from your array before performing this operation. (Deprecated NumPy 1.25.)\n",
      "  chi_squared[i] = chi_squared_calc\n"
     ]
    },
    {
     "name": "stdout",
     "output_type": "stream",
     "text": [
      "36 out of 273\n"
     ]
    },
    {
     "name": "stderr",
     "output_type": "stream",
     "text": [
      "/tmp/ipykernel_7801/2502307303.py:85: DeprecationWarning: Conversion of an array with ndim > 0 to a scalar is deprecated, and will error in future. Ensure you extract a single element from your array before performing this operation. (Deprecated NumPy 1.25.)\n",
      "  chi_squared[i] = chi_squared_calc\n"
     ]
    },
    {
     "name": "stdout",
     "output_type": "stream",
     "text": [
      "37 out of 273\n"
     ]
    },
    {
     "name": "stderr",
     "output_type": "stream",
     "text": [
      "/tmp/ipykernel_7801/2502307303.py:85: DeprecationWarning: Conversion of an array with ndim > 0 to a scalar is deprecated, and will error in future. Ensure you extract a single element from your array before performing this operation. (Deprecated NumPy 1.25.)\n",
      "  chi_squared[i] = chi_squared_calc\n"
     ]
    },
    {
     "name": "stdout",
     "output_type": "stream",
     "text": [
      "38 out of 273\n"
     ]
    },
    {
     "name": "stderr",
     "output_type": "stream",
     "text": [
      "/tmp/ipykernel_7801/2502307303.py:85: DeprecationWarning: Conversion of an array with ndim > 0 to a scalar is deprecated, and will error in future. Ensure you extract a single element from your array before performing this operation. (Deprecated NumPy 1.25.)\n",
      "  chi_squared[i] = chi_squared_calc\n"
     ]
    },
    {
     "name": "stdout",
     "output_type": "stream",
     "text": [
      "39 out of 273\n"
     ]
    },
    {
     "name": "stderr",
     "output_type": "stream",
     "text": [
      "/tmp/ipykernel_7801/2502307303.py:85: DeprecationWarning: Conversion of an array with ndim > 0 to a scalar is deprecated, and will error in future. Ensure you extract a single element from your array before performing this operation. (Deprecated NumPy 1.25.)\n",
      "  chi_squared[i] = chi_squared_calc\n"
     ]
    },
    {
     "name": "stdout",
     "output_type": "stream",
     "text": [
      "40 out of 273\n"
     ]
    },
    {
     "name": "stderr",
     "output_type": "stream",
     "text": [
      "/tmp/ipykernel_7801/2502307303.py:85: DeprecationWarning: Conversion of an array with ndim > 0 to a scalar is deprecated, and will error in future. Ensure you extract a single element from your array before performing this operation. (Deprecated NumPy 1.25.)\n",
      "  chi_squared[i] = chi_squared_calc\n"
     ]
    },
    {
     "name": "stdout",
     "output_type": "stream",
     "text": [
      "41 out of 273\n",
      "42 out of 273\n"
     ]
    },
    {
     "name": "stderr",
     "output_type": "stream",
     "text": [
      "/tmp/ipykernel_7801/2502307303.py:85: DeprecationWarning: Conversion of an array with ndim > 0 to a scalar is deprecated, and will error in future. Ensure you extract a single element from your array before performing this operation. (Deprecated NumPy 1.25.)\n",
      "  chi_squared[i] = chi_squared_calc\n"
     ]
    }
   ],
   "source": [
    "progress = 0 # A counter for hwo many we have done\n",
    "for supernova_name in supernovae_names[77:]:\n",
    "\n",
    "    #Get SN info from the original data file\n",
    "    supernova_file = \"/root/partiiiproject/Archive/\"+supernova_name+\".dat\"\n",
    "    meta, lcdata = sncosmo.read_snana_ascii(supernova_file, default_tablename='OBS')\n",
    "    lcdata = lcdata['OBS'].to_pandas()\n",
    "\n",
    "    #Extract useful properties from data file used in fits and simulation\n",
    "    bands = np.unique(lcdata['FLT'])\n",
    "    z = meta['REDSHIFT_FINAL']\n",
    "    ebv_mw = meta['MWEBV']\n",
    "    \n",
    "    #Get the observed times covered by the model, so in range [-10,40]\n",
    "    t_obs = lcdata['MJD'] - meta['SEARCH_PEAKMJD']\n",
    "    t_obs = t_obs[(-10<=t_obs) & (t_obs<=40)]\n",
    "    t_obs = np.unique(t_obs)\n",
    "\n",
    "    #Repeat through each dust law for that SN\n",
    "    for dust_law in dust_laws:\n",
    "\n",
    "        #Define directory where we should have our fits saved\n",
    "        try:\n",
    "            sampleChainsDir = \"DustLawsFitOfAllSamples/\"+supernova_name + dust_law + \"_chains.pkl\"\n",
    "            sampleSummaryDir = \"DustLawsFitOfAllSamples/\"+supernova_name + dust_law + \"_fit_summary.csv\"\n",
    "\n",
    "        except FileNotFoundError:\n",
    "            continue\n",
    "        #Check we have generated fits for this SN, otherwise move onto next SN\n",
    "        try:\n",
    "            #Load the chains with pickle\n",
    "            with open(sampleChainsDir, 'rb') as file:\n",
    "                chains = pickle.load(file)\n",
    "        except FileNotFoundError:\n",
    "            continue\n",
    "\n",
    "        if method == \"sim\":\n",
    "            #Number of simulations to load\n",
    "            N=1\n",
    "            #Get values for simulation directly from chains, taking the mean\n",
    "            fit_mu = np.mean(chains['mu'])\n",
    "            fit_theta = np.mean(chains['theta'])\n",
    "            fit_RV = np.mean(chains['RV'])\n",
    "            fit_AV = np.mean(chains['AV'])\n",
    "            fit_tmax = np.mean(chains['tmax'])\n",
    "            fit_delM = np.mean(chains['delM'])\n",
    "            \n",
    "            #For epsilon we need some reshaping to get it in the correct form\n",
    "            fit_eps_inner = chains['eps']\n",
    "            fit_eps_inner = np.reshape(fit_eps_inner, (4, 250, 9, 6), order='F')\n",
    "            fit_eps = np.zeros((4, 250, 11, 6))\n",
    "            fit_eps[:,:,1:-1,:] = fit_eps_inner\n",
    "            fit_eps = fit_eps.mean(axis = 1)\n",
    "            fit_eps = fit_eps.mean(axis = 0)\n",
    "            fit_eps = np.reshape(fit_eps, (1 , 11, 6))\n",
    "\n",
    "            #Run simulation and get flux values\n",
    "            try:\n",
    "                sim = model.simulate_light_curve(t_obs, N, bands, mu=fit_mu, theta=fit_theta,  z=z, ebv_mw=ebv_mw, mag=False, write_to_files=False, AV=fit_AV, RV=fit_RV, redlaw=dust_law, tmax=fit_tmax, eps=fit_eps)\n",
    "            except ValueError:\n",
    "                continue\n",
    "            flux, flux_err, params = sim\n",
    "            flux = np.reshape(flux,(len(bands),len(t_obs)))\n",
    "\n",
    "        if method == \"fit\":\n",
    "            #Use get flux from chains to get the best fit\n",
    "            try:\n",
    "                flux_grid = model.get_flux_from_chains(t_obs, bands, sampleChainsDir, z, ebv_mw, mag=False, num_samples=10)\n",
    "                flux, flux_err = flux_grid.mean(axis=(0, 1)), flux_grid.std(axis=(0, 1))\n",
    "            except ValueError:\n",
    "                continue\n",
    "        \n",
    "        chi_squared = np.zeros(len(lcdata))\n",
    "        for i, entry in lcdata.iterrows():\n",
    "            #Remove the U bands\n",
    "            if entry.FLT in ['u_CSP', 'U']:\n",
    "                continue\n",
    "            index_t_obs = np.where(t_obs == (entry.MJD-meta['SEARCH_PEAKMJD']))\n",
    "            index_band = np.where(bands == entry.FLT)\n",
    "            Exp = flux[index_band, index_t_obs]\n",
    "            Obs = entry.FLUXCAL\n",
    "            ObsErr = entry.FLUXCALERR\n",
    "            chi_squared_calc = ((Obs-Exp)**2)/(ObsErr**2)\n",
    "            if chi_squared_calc.size != 0:\n",
    "                chi_squared[i] = chi_squared_calc\n",
    "                \n",
    "        #Remove all zero values before taking the mean\n",
    "        chi_squared = chi_squared[chi_squared>0]\n",
    "        df.at[supernova_name, dust_law] = np.mean(chi_squared)\n",
    "        #Record progress for my convenience\n",
    "        progress = progress + 1\n",
    "        print(str(progress)+ ' out of '+str(len(supernovae_names)*len(dust_laws)))\n",
    "        #Save after each SN is calculated\n",
    "        df.to_csv(df_directory)\n"
   ]
  },
  {
   "cell_type": "markdown",
   "id": "bbfae1a6-c319-43b5-b05c-cc1a7061cd32",
   "metadata": {},
   "source": [
    "## Print the dataframe to see what we have managed"
   ]
  },
  {
   "cell_type": "code",
   "execution_count": null,
   "id": "2e9784a8-36fe-4315-ba36-120fb9e48f78",
   "metadata": {},
   "outputs": [],
   "source": [
    "print(df)"
   ]
  }
 ],
 "metadata": {
  "kernelspec": {
   "display_name": "Python 3 (ipykernel)",
   "language": "python",
   "name": "python3"
  },
  "language_info": {
   "codemirror_mode": {
    "name": "ipython",
    "version": 3
   },
   "file_extension": ".py",
   "mimetype": "text/x-python",
   "name": "python",
   "nbconvert_exporter": "python",
   "pygments_lexer": "ipython3",
   "version": "3.11.0"
  }
 },
 "nbformat": 4,
 "nbformat_minor": 5
}
