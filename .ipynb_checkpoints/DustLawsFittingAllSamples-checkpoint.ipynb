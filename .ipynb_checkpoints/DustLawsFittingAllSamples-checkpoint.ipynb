{
 "cells": [
  {
   "cell_type": "markdown",
   "id": "3a0484e9-842f-4854-a7ae-02df291501ee",
   "metadata": {},
   "source": [
    "# Light curves with the W22 Model looking at a selection of Supernovae and Investigating different Dust laws"
   ]
  },
  {
   "cell_type": "code",
   "execution_count": 1,
   "id": "c59c4015-d5dc-4590-b7e2-b7fa6ebc255a",
   "metadata": {},
   "outputs": [],
   "source": [
    "import numpy as np\n",
    "import matplotlib.pyplot as plt\n",
    "import sncosmo\n",
    "from bayesn import SEDmodel\n",
    "import os\n"
   ]
  },
  {
   "cell_type": "code",
   "execution_count": 2,
   "id": "a11079aa-f18b-4425-88cf-425ab1cf51f8",
   "metadata": {},
   "outputs": [],
   "source": [
    "dust_law = \"F99\""
   ]
  },
  {
   "cell_type": "markdown",
   "id": "cb357d74-a055-4e8c-8740-26ff7907e895",
   "metadata": {},
   "source": [
    "## Make a list of SN in Archive"
   ]
  },
  {
   "cell_type": "code",
   "execution_count": 3,
   "id": "ec1bd5b2-b871-4d6f-b80b-d83f9e4083f3",
   "metadata": {},
   "outputs": [],
   "source": [
    "directory = os.fsencode(\"/root/partiiiproject/Archive\")\n",
    "supernovae_names = [\"sn2006hb\"]\n",
    "for file in os.listdir(directory):\n",
    "    filename = os.fsdecode(file)\n",
    "    if filename.endswith(\".dat\"): \n",
    "        supernovae_names.append(filename[:-4])\n",
    "        continue\n",
    "    else:\n",
    "        continue"
   ]
  },
  {
   "cell_type": "code",
   "execution_count": 4,
   "id": "b876b93f-cb2d-4b7a-b7fc-6d8f6d2de1db",
   "metadata": {},
   "outputs": [
    {
     "name": "stdout",
     "output_type": "stream",
     "text": [
      "['sn2006hb', 'sn2006hb', 'sn2008fl', 'sn2007jg', 'sn2008R', 'sn2009ad', 'sn2006ob', 'sn2009ds', 'sn2007hx', 'sn2007bd', 'sn2004ey', 'sn2007so', 'sn2009ab', 'sn2007A', 'sn2008gl', 'sn2007nq', 'sn2007on', 'sn2008hj', 'sn2007st', 'sn2009le', 'sn2005hc', 'sn2005bo', 'sn2008fu', 'sn2004gs', 'sn2008ff', 'sn2006D', 'sn2005M', 'sn2007S', 'sn2006bh', 'sn2009al', 'sn2008O', 'sn2006lu', 'sn2007bm', 'sn2007sr', 'sn2008bz', 'sn2014J', 'sn2005A', 'sn2004ef', 'sn2006ax', 'sn2005ku', 'sn2008gg', 'sn2007ca', 'sn2005lu', 'sn2006gj', 'sn2008ar', 'sn2006et', 'sn2007ai', 'sn2009I', 'sn2006kf', 'sn2008hu', 'sn2008cc', 'sn2009aa', 'sn2006os', 'sn2008hv', 'sn2008go', 'sn2006br', 'sn2005eq', 'sn2008fp', 'sn2008C', 'sn2006X', 'sn2007jd', 'sn2005kc', 'sn2006ej', 'sn2005al', 'sn2005am', 'sn2006hx', 'sn2008cf', 'sn2009ag', 'sn2008fw', 'sn2007af', 'sn2006is', 'sn2004eo', 'sn2008bf', 'sn2008fr', 'sn2008gp', 'sn2009cz', 'sn2002cv', 'sn2007le', 'sn2009P', 'sn2009D', 'sn2008ia', 'sn2008bc', 'sn2005na', 'sn2009Y', 'sn2007ux', 'sn2007as', 'sn2007hj', 'sn2005ki', 'sn2007bc', 'sn2005iq', 'sn2008bq']\n"
     ]
    }
   ],
   "source": [
    "print(supernovae_names)"
   ]
  },
  {
   "cell_type": "markdown",
   "id": "c1847a82-b9b1-40ae-9bf4-71d6c52ec645",
   "metadata": {},
   "source": [
    "## Make a list of SN with specified dust law"
   ]
  },
  {
   "cell_type": "code",
   "execution_count": 5,
   "id": "f89401cc-e777-4c21-9e87-64d867adc6a3",
   "metadata": {},
   "outputs": [],
   "source": [
    "directory = os.fsencode(\"/root/partiiiproject/DustLawsFitOfAllSamples\")\n",
    "\n",
    "supernovae_done = [\"sn2006hb\"]\n",
    "for file in os.listdir(directory):\n",
    "    filename = os.fsdecode(file)\n",
    "    if filename.endswith(dust_law+\"_fit_summary.csv\"):\n",
    "        len_remove = len(dust_law+\"_fit_summary.csv\")\n",
    "        supernovae_done.append(filename[:-len_remove])\n",
    "        continue\n",
    "    else:\n",
    "        continue"
   ]
  },
  {
   "cell_type": "code",
   "execution_count": 6,
   "id": "7ccfb9a5-a9b8-4d5e-97e0-3e1ee28836c9",
   "metadata": {},
   "outputs": [
    {
     "name": "stdout",
     "output_type": "stream",
     "text": [
      "['sn2006hb', 'sn2008C', 'sn2007ca', 'sn2007as', 'sn2004ey', 'sn2005na', 'sn2005kc', 'sn2004gs', 'sn2008ia', 'sn2006br', 'sn2005al', 'sn2008fu', 'sn2008cc', 'sn2008gg', 'sn2006et', 'sn2008ar', 'sn2005bo', 'sn2008hj', 'sn2008fp', 'sn2009ab', 'sn2008fl', 'sn2009I', 'sn2007hx', 'sn2008cf', 'sn2006ax', 'sn2007ai', 'sn2007on', 'sn2006ob', 'sn2007le', 'sn2005lu', 'sn2007bc', 'sn2009le', 'sn2007bd', 'sn2007bm', 'sn2008fr', 'sn2008gl', 'sn2008bz', 'sn2006os', 'sn2007sr', 'sn2006hb', 'sn2008hu', 'sn2009cz', 'sn2009ds', 'sn2009Y', 'sn2014J', 'sn2007hj', 'sn2002cv', 'sn2009ad', 'sn2007nq', 'sn2006lu', 'sn2008bf', 'sn2009P', 'sn2006ej', 'sn2008bq', 'sn2005ki', 'sn2009aa', 'sn2008R', 'sn2006D', 'sn2009ag', 'sn2008fw', 'sn2009al', 'sn2007jg', 'sn2006gj', 'sn2006X', 'sn2007jd', 'sn2005hc', 'sn2005A', 'sn2007st', 'sn2008ff', 'sn2009D', 'sn2006hx', 'sn2008gp', 'sn2007so', 'sn2005eq', 'sn2008go', 'sn2008bc', 'sn2006bh', 'sn2007A', 'sn2007S', 'sn2008hv', 'sn2006is', 'sn2004eo', 'sn2007af', 'sn2005am', 'sn2005M', 'sn2008O', 'sn2005iq', 'sn2006kf', 'sn2007ux', 'sn2005ku', 'sn2004ef']\n"
     ]
    }
   ],
   "source": [
    "print(supernovae_done)"
   ]
  },
  {
   "cell_type": "markdown",
   "id": "a4b71bc7-aa1a-4edd-a5e5-61e2af64c93f",
   "metadata": {},
   "source": [
    "## Make a list of all the supernovas to still fit"
   ]
  },
  {
   "cell_type": "code",
   "execution_count": 7,
   "id": "e1d39c9d-c015-4f87-90b8-2c0b259e289d",
   "metadata": {},
   "outputs": [
    {
     "name": "stdout",
     "output_type": "stream",
     "text": [
      "['sn2014J']\n"
     ]
    }
   ],
   "source": [
    "supernovae_names = list(set(supernovae_names) - set(supernovae_done))\n",
    "supernovae_names = [\"sn2014J\"]\n",
    "print(supernovae_names)"
   ]
  },
  {
   "cell_type": "markdown",
   "id": "44920a4b-4e89-4836-9057-e4ee43e9734b",
   "metadata": {},
   "source": [
    "## Load the W22 Model"
   ]
  },
  {
   "cell_type": "markdown",
   "id": "9f22774a-5d1c-4e61-a795-d71101a09787",
   "metadata": {},
   "source": [
    "W22 model works with optical and NIR bands"
   ]
  },
  {
   "cell_type": "code",
   "execution_count": 8,
   "id": "1dc482f9-27f4-493b-935c-5fb0cb488099",
   "metadata": {},
   "outputs": [
    {
     "name": "stderr",
     "output_type": "stream",
     "text": [
      "An NVIDIA GPU may be present on this machine, but a CUDA-enabled jaxlib is not installed. Falling back to cpu.\n"
     ]
    },
    {
     "name": "stdout",
     "output_type": "stream",
     "text": [
      "Current devices: [CpuDevice(id=0), CpuDevice(id=1), CpuDevice(id=2), CpuDevice(id=3)]\n",
      "Currently working in /root/partiiiproject\n",
      "Loading built-in model W22_model\n",
      "Loading built-in reddening law F99\n"
     ]
    }
   ],
   "source": [
    "#model = SEDmodel(load_model='W22_model')\n",
    "filter_yaml = \"/root/partiiiproject/bayesn-filters/bayesn-filters/filters.yaml\"\n",
    "model = SEDmodel(load_model='W22_model', filter_yaml = filter_yaml)"
   ]
  },
  {
   "cell_type": "markdown",
   "id": "57b6f403-3c2a-4671-86c5-70d53c6ccec3",
   "metadata": {},
   "source": [
    "## Generate Fits"
   ]
  },
  {
   "cell_type": "markdown",
   "id": "c6daddfc-9688-4ab1-8e27-9752254d4338",
   "metadata": {},
   "source": [
    "We generate the fits for our supernova data."
   ]
  },
  {
   "cell_type": "code",
   "execution_count": 10,
   "id": "e251e73d-10e5-4b82-8884-bfcd3c3cbbe4",
   "metadata": {},
   "outputs": [
    {
     "name": "stdout",
     "output_type": "stream",
     "text": [
      "Loading built-in reddening law F99\n"
     ]
    },
    {
     "name": "stderr",
     "output_type": "stream",
     "text": [
      "/root/miniforge3/envs/bayesn/lib/python3.11/site-packages/jax/_src/linear_util.py:193: UserWarning: Missing a plate statement for batch dimension -2 at site 'obs'. You can use `numpyro.util.format_shapes` utility to check shapes at all sites of your model.\n",
      "  ans = self.f(*args, **dict(self.params, **kwargs))\n"
     ]
    },
    {
     "data": {
      "application/vnd.jupyter.widget-view+json": {
       "model_id": "a68678b74066466e9bc057d76f35d190",
       "version_major": 2,
       "version_minor": 0
      },
      "text/plain": [
       "  0%|          | 0/500 [00:00<?, ?it/s]"
      ]
     },
     "metadata": {},
     "output_type": "display_data"
    },
    {
     "data": {
      "application/vnd.jupyter.widget-view+json": {
       "model_id": "c227465bc917405caf976b6dd948a57e",
       "version_major": 2,
       "version_minor": 0
      },
      "text/plain": [
       "  0%|          | 0/500 [00:00<?, ?it/s]"
      ]
     },
     "metadata": {},
     "output_type": "display_data"
    },
    {
     "data": {
      "application/vnd.jupyter.widget-view+json": {
       "model_id": "b94c0db215d449fcb9676ab02a2a0802",
       "version_major": 2,
       "version_minor": 0
      },
      "text/plain": [
       "  0%|          | 0/500 [00:00<?, ?it/s]"
      ]
     },
     "metadata": {},
     "output_type": "display_data"
    },
    {
     "data": {
      "application/vnd.jupyter.widget-view+json": {
       "model_id": "2e71af0ebe5045cc8273954e6b67a5ef",
       "version_major": 2,
       "version_minor": 0
      },
      "text/plain": [
       "  0%|          | 0/500 [00:00<?, ?it/s]"
      ]
     },
     "metadata": {},
     "output_type": "display_data"
    },
    {
     "name": "stdout",
     "output_type": "stream",
     "text": [
      "\n",
      "                     mean       std    median      5.0%     95.0%     n_eff     r_hat\n",
      "          AV[0]      2.10      0.07      2.11      1.99      2.20      3.08      1.78\n",
      "          Ds[0]     27.47      0.06     27.47     27.40     27.58      4.10      1.47\n",
      "          RV[0]      1.49      0.07      1.50      1.38      1.60      3.68      1.54\n",
      " eps_tform[0,0]      2.69      0.34      2.68      2.13      3.23     25.52      1.09\n",
      " eps_tform[0,1]     -1.22      0.12     -1.23     -1.43     -1.05     21.36      1.11\n",
      " eps_tform[0,2]      1.58      0.17      1.59      1.31      1.86     33.72      1.07\n",
      " eps_tform[0,3]      0.27      0.15      0.27      0.04      0.53     19.65      1.20\n",
      " eps_tform[0,4]      3.66      0.37      3.67      3.02      4.21     30.81      1.15\n",
      " eps_tform[0,5]     -2.38      0.26     -2.39     -2.83     -2.00     46.29      1.11\n",
      " eps_tform[0,6]     -3.00      1.04     -2.91     -4.85     -1.53      4.81      1.36\n",
      " eps_tform[0,7]      0.30      0.32      0.30     -0.19      0.87    103.54      1.02\n",
      " eps_tform[0,8]      2.18      0.42      2.19      1.43      2.77      4.05      1.44\n",
      " eps_tform[0,9]     -2.93      0.64     -2.98     -3.95     -1.90    128.68      1.03\n",
      "eps_tform[0,10]     -2.62      0.26     -2.61     -3.04     -2.19     38.02      1.08\n",
      "eps_tform[0,11]     -1.39      0.45     -1.42     -2.11     -0.66      4.66      1.45\n",
      "eps_tform[0,12]      4.35      0.53      4.37      3.56      5.26      6.96      1.22\n",
      "eps_tform[0,13]      7.62      0.41      7.61      6.95      8.30     25.65      1.12\n",
      "eps_tform[0,14]     -0.19      0.22     -0.18     -0.54      0.17     27.77      1.10\n",
      "eps_tform[0,15]      3.72      1.62      3.42      1.81      7.17      3.07      1.99\n",
      "eps_tform[0,16]     -0.78      0.43     -0.78     -1.46     -0.10      4.23      1.43\n",
      "eps_tform[0,17]      0.47      0.63      0.53     -0.69      1.32      3.40      1.63\n",
      "eps_tform[0,18]      4.22      0.43      4.20      3.50      4.88     34.71      1.08\n",
      "eps_tform[0,19]     -8.13      0.25     -8.14     -8.53     -7.72     21.24      1.15\n",
      "eps_tform[0,20]     -1.54      0.36     -1.55     -2.11     -0.93     36.53      1.12\n",
      "eps_tform[0,21]      5.53      0.40      5.53      4.88      6.17     29.05      1.10\n",
      "eps_tform[0,22]      5.16      0.42      5.15      4.43      5.77    116.86      1.04\n",
      "eps_tform[0,23]     -5.89      0.34     -5.91     -6.43     -5.31     31.13      1.08\n",
      "eps_tform[0,24]      7.71      2.20      8.45      3.75     10.60      2.52      2.95\n",
      "eps_tform[0,25]      2.77      0.24      2.76      2.35      3.15     21.20      1.14\n",
      "eps_tform[0,26]     -1.65      0.27     -1.67     -2.08     -1.24     16.25      1.21\n",
      "eps_tform[0,27]     10.78      0.55     10.75      9.87     11.63     20.50      1.10\n",
      "eps_tform[0,28]     -5.73      0.27     -5.72     -6.17     -5.30     27.92      1.07\n",
      "eps_tform[0,29]     -7.10      0.47     -7.15     -7.84     -6.41      7.63      1.35\n",
      "eps_tform[0,30]      5.06      0.76      4.86      3.92      6.36      2.75      2.05\n",
      "eps_tform[0,31]      0.64      0.62      0.68     -0.32      1.71      5.25      1.32\n",
      "eps_tform[0,32]     -5.77      0.27     -5.79     -6.20     -5.33     14.65      1.17\n",
      "eps_tform[0,33]     -2.85      1.73     -3.45     -4.99      0.18      2.38      2.75\n",
      "eps_tform[0,34]     -3.69      0.38     -3.70     -4.30     -3.07      6.26      1.35\n",
      "eps_tform[0,35]     -0.79      0.41     -0.79     -1.45     -0.12      6.53      1.26\n",
      "eps_tform[0,36]      2.83      0.43      2.83      2.07      3.50     88.43      1.06\n",
      "eps_tform[0,37]     -6.02      0.55     -6.05     -6.85     -5.09      6.54      1.46\n",
      "eps_tform[0,38]     -6.37      0.38     -6.38     -6.96     -5.76    192.32      1.02\n",
      "eps_tform[0,39]      4.65      0.48      4.65      3.95      5.48      5.42      1.28\n",
      "eps_tform[0,40]     -2.76      0.55     -2.79     -3.57     -1.80      5.12      1.33\n",
      "eps_tform[0,41]     -3.86      0.41     -3.90     -4.51     -3.16      9.07      1.28\n",
      "eps_tform[0,42]      0.17      0.88      0.14     -1.15      1.57      9.21      1.27\n",
      "eps_tform[0,43]     -1.95      0.56     -1.97     -2.94     -1.09     49.51      1.10\n",
      "eps_tform[0,44]      2.46      1.39      2.98      0.05      3.93      2.25      3.00\n",
      "eps_tform[0,45]     -1.06      0.86     -1.07     -2.24      0.21      5.25      1.32\n",
      "eps_tform[0,46]     -1.92      0.71     -1.78     -3.18     -0.88      3.42      1.61\n",
      "eps_tform[0,47]     -2.11      0.68     -2.07     -3.27     -1.16      9.46      1.32\n",
      "eps_tform[0,48]      5.70      0.78      5.49      4.50      6.99      2.77      2.06\n",
      "eps_tform[0,49]      2.21      1.10      2.41      0.32      3.86      3.31      1.68\n",
      "eps_tform[0,50]     -9.29      2.78    -10.44    -12.54     -4.20      2.39      3.54\n",
      "eps_tform[0,51]      0.35      0.83      0.44     -1.19      1.44     18.21      1.14\n",
      "eps_tform[0,52]     -0.01      0.94      0.23     -1.62      1.44     19.27      1.31\n",
      "eps_tform[0,53]     -0.05      1.01     -0.16     -1.56      1.61      4.87      1.36\n",
      "       theta[0]     -0.79      0.07     -0.79     -0.92     -0.68      7.02      1.21\n",
      "        tmax[0]      0.37      0.02      0.37      0.34      0.40    161.21      1.03\n",
      "\n",
      "Number of divergences: 0\n",
      "Loading built-in reddening law G23\n"
     ]
    },
    {
     "name": "stderr",
     "output_type": "stream",
     "text": [
      "/root/miniforge3/envs/bayesn/lib/python3.11/site-packages/jax/_src/linear_util.py:193: UserWarning: Missing a plate statement for batch dimension -2 at site 'obs'. You can use `numpyro.util.format_shapes` utility to check shapes at all sites of your model.\n",
      "  ans = self.f(*args, **dict(self.params, **kwargs))\n"
     ]
    },
    {
     "data": {
      "application/vnd.jupyter.widget-view+json": {
       "model_id": "ed17536b1c644806bbbf5c06a81d1ad9",
       "version_major": 2,
       "version_minor": 0
      },
      "text/plain": [
       "  0%|          | 0/500 [00:00<?, ?it/s]"
      ]
     },
     "metadata": {},
     "output_type": "display_data"
    },
    {
     "data": {
      "application/vnd.jupyter.widget-view+json": {
       "model_id": "0637d39021814f8a8f6179a5e563444e",
       "version_major": 2,
       "version_minor": 0
      },
      "text/plain": [
       "  0%|          | 0/500 [00:00<?, ?it/s]"
      ]
     },
     "metadata": {},
     "output_type": "display_data"
    },
    {
     "data": {
      "application/vnd.jupyter.widget-view+json": {
       "model_id": "1a982aed6ab94b09a725c8b6181a3352",
       "version_major": 2,
       "version_minor": 0
      },
      "text/plain": [
       "  0%|          | 0/500 [00:00<?, ?it/s]"
      ]
     },
     "metadata": {},
     "output_type": "display_data"
    },
    {
     "data": {
      "application/vnd.jupyter.widget-view+json": {
       "model_id": "0a0f432d692d420eaa141f01b59175a5",
       "version_major": 2,
       "version_minor": 0
      },
      "text/plain": [
       "  0%|          | 0/500 [00:00<?, ?it/s]"
      ]
     },
     "metadata": {},
     "output_type": "display_data"
    },
    {
     "name": "stdout",
     "output_type": "stream",
     "text": [
      "\n",
      "                     mean       std    median      5.0%     95.0%     n_eff     r_hat\n",
      "          AV[0]      1.48      0.47      1.29      1.16      2.44      5.34      4.43\n",
      "          Ds[0]     27.94      0.49     28.06     26.93     28.31      5.77      4.43\n",
      "          RV[0]      1.28      0.69      1.00      1.00      2.54      5.73      3.54\n",
      " eps_tform[0,0]      2.13      2.28      1.33     -0.44      5.29      2.08      7.10\n",
      " eps_tform[0,1]      0.28      0.51      0.32     -0.59      0.95      2.59      3.34\n",
      " eps_tform[0,2]      0.22      0.95     -0.19     -0.71      1.93      2.04      9.13\n",
      " eps_tform[0,3]     -0.29      0.63     -0.50     -1.20      0.50      2.20      5.28\n",
      " eps_tform[0,4]      1.23      2.17      0.06     -0.34      5.04      2.03     11.29\n",
      " eps_tform[0,5]      0.41      1.37      0.29     -1.58      2.65      2.05      8.71\n",
      " eps_tform[0,6]     -0.47      0.71     -0.30     -1.61      0.33      2.92      1.83\n",
      " eps_tform[0,7]      0.82      1.18      0.05     -0.14      3.18      2.09      6.42\n",
      " eps_tform[0,8]      0.86      1.34      0.22     -0.20      3.22      2.02     10.59\n",
      " eps_tform[0,9]      2.41      2.63      1.72     -0.73      6.33      2.17      5.50\n",
      "eps_tform[0,10]     -0.16      1.10      0.35     -2.08      0.72      2.02      9.97\n",
      "eps_tform[0,11]     -0.60      0.86     -0.69     -1.75      0.78      3.07      2.86\n",
      "eps_tform[0,12]     -1.14      0.94     -0.93     -2.66      0.15      2.31      4.19\n",
      "eps_tform[0,13]      3.84      3.86      3.26     -0.56      8.22      2.03     15.07\n",
      "eps_tform[0,14]      0.17      0.77      0.45     -1.33      0.90      2.42      3.92\n",
      "eps_tform[0,15]      0.04      0.64     -0.25     -0.34      1.34      3.92      1.52\n",
      "eps_tform[0,16]      0.85      1.05      0.73     -0.29      2.45      2.10      6.13\n",
      "eps_tform[0,17]      0.30      0.36      0.31     -0.13      1.13      3.00      1.92\n",
      "eps_tform[0,18]      1.61      1.50      0.55     -0.08      3.83      2.18      5.32\n",
      "eps_tform[0,19]     -2.70      2.96     -1.00     -7.53     -0.10      2.03     16.41\n",
      "eps_tform[0,20]     -0.31      0.56     -0.27     -1.34      0.48      2.35      3.03\n",
      "eps_tform[0,21]      1.63      1.93      0.52      0.01      5.10      2.11      7.34\n",
      "eps_tform[0,22]      2.43      2.08      2.02      0.26      5.53      2.05      8.77\n",
      "eps_tform[0,23]     -0.73      1.74      0.06     -3.79      0.58      2.02     10.56\n",
      "eps_tform[0,24]      2.82      5.03      0.13     -0.49     11.69      2.01     14.44\n",
      "eps_tform[0,25]      2.13      2.05      2.14     -0.09      4.70      2.04     10.03\n",
      "eps_tform[0,26]     -0.61      1.23     -0.03     -2.79      0.35      2.02     10.96\n",
      "eps_tform[0,27]      3.16      3.83      0.55     -0.56      9.15      2.09      9.44\n",
      "eps_tform[0,28]     -3.13      3.21     -2.50     -7.36      0.48      2.02     15.95\n",
      "eps_tform[0,29]     -2.14      2.30     -1.45     -5.90      0.24      2.02     13.41\n",
      "eps_tform[0,30]      2.58      3.25      1.29     -0.23      7.99      2.02     12.47\n",
      "eps_tform[0,31]      0.90      1.29      0.33     -0.27      3.31      2.19      4.52\n",
      "eps_tform[0,32]     -1.03      1.01     -0.80     -2.34      0.10      2.13      6.71\n",
      "eps_tform[0,33]     -0.87      1.51     -0.17     -3.67      0.24      2.11      4.32\n",
      "eps_tform[0,34]     -0.95      1.62     -0.22     -3.76      0.34      2.02     12.56\n",
      "eps_tform[0,35]     -0.01      0.47     -0.01     -0.75      0.67      2.23      3.14\n",
      "eps_tform[0,36]      0.58      1.36     -0.23     -0.66      3.15      2.13      5.87\n",
      "eps_tform[0,37]     -1.75      2.25     -0.43     -5.58      0.17      2.05      9.54\n",
      "eps_tform[0,38]     -1.62      1.88     -1.23     -3.71      0.65      2.05      8.42\n",
      "eps_tform[0,39]      1.25      1.33      1.00     -0.36      3.31      2.05      6.96\n",
      "eps_tform[0,40]     -0.33      0.54      0.10     -1.07      0.24      2.37      2.52\n",
      "eps_tform[0,41]     -1.88      1.76     -1.09     -3.94     -0.01      2.08      7.41\n",
      "eps_tform[0,42]      0.02      0.62      0.33     -0.98      0.61      5.46      1.38\n",
      "eps_tform[0,43]      0.41      0.53      0.16      0.01      1.33      2.54      2.18\n",
      "eps_tform[0,44]      0.93      1.70      0.09     -0.33      3.95      2.05      6.85\n",
      "eps_tform[0,45]      0.01      0.44      0.13     -0.93      0.25     12.13      1.12\n",
      "eps_tform[0,46]     -0.89      1.49     -0.20     -3.54      0.26      2.04      7.31\n",
      "eps_tform[0,47]     -0.66      1.13     -0.29     -2.57      0.46      2.11      4.50\n",
      "eps_tform[0,48]      1.14      1.53      0.27     -0.36      3.66      2.09      7.12\n",
      "eps_tform[0,49]      1.11      1.88      0.27     -0.28      4.39      2.11      4.80\n",
      "eps_tform[0,50]     -3.08      5.04     -0.30    -11.98      0.07      2.02     12.68\n",
      "eps_tform[0,51]      0.10      0.52      0.09     -0.26      1.27     74.52      1.12\n",
      "eps_tform[0,52]     -0.08      0.65      0.32     -0.97      0.70      5.13      1.37\n",
      "eps_tform[0,53]      0.04      0.61      0.18     -0.93      0.57     11.29      1.22\n",
      "       theta[0]     -0.20      0.51     -0.35     -0.91      0.59      3.32      5.77\n",
      "        tmax[0]      0.53      0.51      0.71     -0.29      1.14      2.18      5.26\n",
      "\n",
      "Number of divergences: 0\n",
      "Loading built-in reddening law F19\n"
     ]
    },
    {
     "name": "stderr",
     "output_type": "stream",
     "text": [
      "/root/miniforge3/envs/bayesn/lib/python3.11/site-packages/jax/_src/linear_util.py:193: UserWarning: Missing a plate statement for batch dimension -2 at site 'obs'. You can use `numpyro.util.format_shapes` utility to check shapes at all sites of your model.\n",
      "  ans = self.f(*args, **dict(self.params, **kwargs))\n"
     ]
    },
    {
     "data": {
      "application/vnd.jupyter.widget-view+json": {
       "model_id": "050bd9ead7f84b478ac94552c33e7f9f",
       "version_major": 2,
       "version_minor": 0
      },
      "text/plain": [
       "  0%|          | 0/500 [00:00<?, ?it/s]"
      ]
     },
     "metadata": {},
     "output_type": "display_data"
    },
    {
     "data": {
      "application/vnd.jupyter.widget-view+json": {
       "model_id": "e021dc09f1f544f8822ea2450a114d92",
       "version_major": 2,
       "version_minor": 0
      },
      "text/plain": [
       "  0%|          | 0/500 [00:00<?, ?it/s]"
      ]
     },
     "metadata": {},
     "output_type": "display_data"
    },
    {
     "data": {
      "application/vnd.jupyter.widget-view+json": {
       "model_id": "be11dc1d588043138156dc14ddf24971",
       "version_major": 2,
       "version_minor": 0
      },
      "text/plain": [
       "  0%|          | 0/500 [00:00<?, ?it/s]"
      ]
     },
     "metadata": {},
     "output_type": "display_data"
    },
    {
     "data": {
      "application/vnd.jupyter.widget-view+json": {
       "model_id": "d2f637de39164aba81154563baeb0cbc",
       "version_major": 2,
       "version_minor": 0
      },
      "text/plain": [
       "  0%|          | 0/500 [00:00<?, ?it/s]"
      ]
     },
     "metadata": {},
     "output_type": "display_data"
    },
    {
     "name": "stdout",
     "output_type": "stream",
     "text": [
      "\n",
      "                     mean       std    median      5.0%     95.0%     n_eff     r_hat\n",
      "          AV[0]      1.62      0.09      1.59      1.51      1.80      2.72      2.20\n",
      "          Ds[0]     27.80      0.10     27.83     27.59     27.91      2.57      2.52\n",
      "          RV[0]      1.16      0.18      1.08      1.01      1.49      2.11      4.72\n",
      " eps_tform[0,0]      2.92      1.67      3.24      0.21      4.76      2.14      5.26\n",
      " eps_tform[0,1]     -0.46      0.56     -0.50     -1.10      0.43      2.21      4.34\n",
      " eps_tform[0,2]      1.69      1.08      2.04     -0.20      2.77      2.09      6.31\n",
      " eps_tform[0,3]     -1.02      0.15     -1.03     -1.26     -0.79      9.89      1.39\n",
      " eps_tform[0,4]      3.43      1.74      4.27      0.31      4.80      2.05      6.35\n",
      " eps_tform[0,5]     -1.28      1.16     -1.84     -2.20      0.77      2.06      6.16\n",
      " eps_tform[0,6]     -1.16      0.81     -0.97     -2.69     -0.23     14.00      1.14\n",
      " eps_tform[0,7]      1.54      1.11      1.84     -0.28      2.71      2.19      3.83\n",
      " eps_tform[0,8]      1.62      0.82      1.82      0.35      2.55      2.26      3.23\n",
      " eps_tform[0,9]     -0.74      2.33     -1.85     -2.65      3.44      2.08      5.12\n",
      "eps_tform[0,10]     -1.26      1.00     -1.70     -2.14      0.59      2.09      5.21\n",
      "eps_tform[0,11]     -0.76      1.75      0.01     -4.01      0.77      2.08      5.83\n",
      "eps_tform[0,12]     -0.98      0.43     -1.00     -1.54     -0.27      3.72      1.56\n",
      "eps_tform[0,13]      5.33      2.78      6.72      0.32      7.55      2.03      9.00\n",
      "eps_tform[0,14]      0.81      0.26      0.77      0.47      1.22      3.24      1.62\n",
      "eps_tform[0,15]      0.17      0.76     -0.06     -0.87      1.49     12.42      1.19\n",
      "eps_tform[0,16]      2.20      0.76      2.44      0.87      3.20      2.59      2.87\n",
      "eps_tform[0,17]     -0.28      0.48     -0.27     -0.99      0.31      4.28      1.48\n",
      "eps_tform[0,18]      2.84      1.85      3.35     -0.17      4.75      2.14      4.64\n",
      "eps_tform[0,19]     -5.60      3.26     -7.36     -7.76      0.11      2.01     18.21\n",
      "eps_tform[0,20]     -0.39      0.31     -0.47     -0.81      0.13     19.45      1.11\n",
      "eps_tform[0,21]      1.71      0.90      2.00      0.20      2.64      2.25      3.29\n",
      "eps_tform[0,22]      3.91      1.68      4.66      0.78      5.34      2.10      4.81\n",
      "eps_tform[0,23]     -2.70      1.58     -3.46     -3.94      0.04      2.05      6.36\n",
      "eps_tform[0,24]      8.36      4.75     10.73      0.19     11.93      2.03      7.83\n",
      "eps_tform[0,25]      3.40      1.06      3.84      1.54      4.61      2.23      4.70\n",
      "eps_tform[0,26]     -2.37      1.34     -3.05     -3.39     -0.04      2.04      7.31\n",
      "eps_tform[0,27]      6.92      4.10      9.05     -0.18      9.82      2.02     10.29\n",
      "eps_tform[0,28]     -5.67      2.18     -6.55     -7.69     -1.77      2.06      7.98\n",
      "eps_tform[0,29]     -4.38      2.49     -5.67     -6.28      0.05      2.03      9.79\n",
      "eps_tform[0,30]      2.95      1.33      3.48      0.45      4.40      2.17      3.92\n",
      "eps_tform[0,31]      1.28      0.84      1.29     -0.01      2.45      2.84      1.97\n",
      "eps_tform[0,32]     -2.01      1.01     -2.44     -2.90     -0.18      2.09      5.55\n",
      "eps_tform[0,33]     -2.70      1.90     -3.46     -4.47      0.42      2.23      3.12\n",
      "eps_tform[0,34]     -2.92      1.82     -3.79     -4.35      0.22      2.04      7.61\n",
      "eps_tform[0,35]     -1.27      0.75     -1.54     -2.03     -0.06      2.33      2.90\n",
      "eps_tform[0,36]      1.52      1.47      2.17     -1.17      2.81      2.09      4.79\n",
      "eps_tform[0,37]     -4.21      2.25     -5.33     -5.93     -0.29      2.04      7.22\n",
      "eps_tform[0,38]     -2.63      1.38     -3.15     -3.95     -0.13      2.16      3.93\n",
      "eps_tform[0,39]      2.35      1.24      2.86      0.06      3.60      2.18      3.85\n",
      "eps_tform[0,40]     -1.21      0.86     -1.41     -2.26      0.13      2.57      2.13\n",
      "eps_tform[0,41]     -2.68      1.41     -3.30     -3.86     -0.24      2.08      5.05\n",
      "eps_tform[0,42]     -0.01      0.97      0.33     -1.86      1.36      4.62      1.41\n",
      "eps_tform[0,43]      0.46      0.55      0.26     -0.27      1.42      7.49      1.24\n",
      "eps_tform[0,44]      2.17      1.31      2.47      0.20      3.71      2.33      2.81\n",
      "eps_tform[0,45]     -0.88      1.05     -0.78     -2.83      0.15      3.99      1.54\n",
      "eps_tform[0,46]     -2.41      1.64     -2.96     -4.03      0.29      2.15      4.10\n",
      "eps_tform[0,47]     -1.00      0.57     -0.89     -1.91     -0.17      7.01      1.23\n",
      "eps_tform[0,48]      2.25      1.26      2.62      0.05      3.60      2.29      3.46\n",
      "eps_tform[0,49]      1.86      1.63      2.40     -0.30      3.97      3.05      2.20\n",
      "eps_tform[0,50]     -8.18      4.81    -10.28    -12.79     -0.39      2.13      6.06\n",
      "eps_tform[0,51]      0.28      0.81      0.09     -0.96      1.76     66.23      1.05\n",
      "eps_tform[0,52]     -0.05      0.89      0.35     -1.50      1.12      7.17      1.23\n",
      "eps_tform[0,53]     -0.12      0.72     -0.02     -1.60      0.86     60.07      1.05\n",
      "       theta[0]     -0.69      0.25     -0.80     -0.91     -0.23      2.10      4.75\n",
      "        tmax[0]      0.30      0.45      0.36     -0.30      0.94      2.26      4.64\n",
      "\n",
      "Number of divergences: 0\n"
     ]
    }
   ],
   "source": [
    "for dust_law in [\"F99\", \"G23\", \"F19\"]:\n",
    "    for supernova_name in supernovae_names:\n",
    "        supernova_file = \"/root/partiiiproject/Archive/\"+supernova_name+\".dat\"\n",
    "        prior_distribution = \"uniform\"\n",
    "        drop_bands=['u_CSP', 'U']\n",
    "        samples, sn_props = model.fit_from_file(supernova_file, RV='uniform', drop_bands=drop_bands, redlaw=dust_law, file_prefix = \"DustLawsFitOfAllSamples/\"+supernova_name + dust_law)"
   ]
  },
  {
   "cell_type": "markdown",
   "id": "49b586eb-3c1f-48fb-a539-2249332ca3bb",
   "metadata": {},
   "source": [
    "## Load Observational Data"
   ]
  },
  {
   "cell_type": "markdown",
   "id": "e7406301-b3d3-410e-bab6-f218b0bf9ca7",
   "metadata": {},
   "source": [
    "We read the observational data andits assosciated uncertainty "
   ]
  },
  {
   "cell_type": "code",
   "execution_count": null,
   "id": "46f6c3c5-6d08-4b12-abd1-d829460b53fb",
   "metadata": {},
   "outputs": [],
   "source": [
    "meta, lcdata = sncosmo.read_snana_ascii(supernova_file, default_tablename='OBS')\n",
    "lcdata = lcdata['OBS'].to_pandas()"
   ]
  },
  {
   "cell_type": "markdown",
   "id": "413db1ff-671d-456b-bfae-b3299e860e8e",
   "metadata": {},
   "source": [
    "## Use chains to get Fits to plot"
   ]
  },
  {
   "cell_type": "markdown",
   "id": "2167c8c7-a8d5-4bcf-afdf-3ecbacfd771a",
   "metadata": {},
   "source": [
    "Choose the bands we want to plot and the number of days on either side of the peak."
   ]
  },
  {
   "cell_type": "code",
   "execution_count": null,
   "id": "fe50aa59-3d4e-41fd-a494-d25666259e90",
   "metadata": {},
   "outputs": [],
   "source": [
    "t = np.arange(-15, 40, 1) #Days on either side of the peak  normally (-15,40)\n",
    "bands = ['g_CSP', 'r_CSP', 'i_CSP', 'B_CSP', 'V_CSP', 'Y_RC', 'J_RC1', 'H_RC'] #Bands being used for plot\n",
    "\n",
    "z = meta['REDSHIFT_FINAL']\n",
    "ebv_mw = meta['MWEBV']\n",
    "sampleChainsDir = \"DustLawsFitOfAllSamples/\"+supernova_name + dust_law + \"/chains.pkl\"\n",
    "flux_grid = model.get_flux_from_chains(t, bands, samples, z, ebv_mw, mag=False, num_samples=10)\n",
    "fit, fit_err = flux_grid.mean(axis=(0, 1)), flux_grid.std(axis=(0, 1))"
   ]
  },
  {
   "cell_type": "markdown",
   "id": "3bc6f4a6-0f40-4bbc-b6e9-89664013a513",
   "metadata": {},
   "source": [
    "Turn the flux into an actual fit we can plot"
   ]
  },
  {
   "cell_type": "code",
   "execution_count": null,
   "id": "4618e248-97d9-45ac-b828-c8b01e681c8a",
   "metadata": {},
   "outputs": [],
   "source": []
  }
 ],
 "metadata": {
  "kernelspec": {
   "display_name": "Python 3 (ipykernel)",
   "language": "python",
   "name": "python3"
  },
  "language_info": {
   "codemirror_mode": {
    "name": "ipython",
    "version": 3
   },
   "file_extension": ".py",
   "mimetype": "text/x-python",
   "name": "python",
   "nbconvert_exporter": "python",
   "pygments_lexer": "ipython3",
   "version": "3.11.0"
  }
 },
 "nbformat": 4,
 "nbformat_minor": 5
}
