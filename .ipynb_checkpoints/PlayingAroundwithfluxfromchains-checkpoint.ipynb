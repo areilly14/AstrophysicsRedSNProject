{
 "cells": [
  {
   "cell_type": "markdown",
   "id": "6de1f282-ade2-4652-be2c-7f49c07d0804",
   "metadata": {},
   "source": [
    "# Playing around with get flux from chains edited"
   ]
  },
  {
   "cell_type": "code",
   "execution_count": 1,
   "id": "de13fa58-d4c8-4637-b0b9-3ddbb58d38ae",
   "metadata": {},
   "outputs": [],
   "source": [
    "import numpy as np\n",
    "import matplotlib.pyplot as plt\n",
    "import sncosmo\n",
    "from bayesn import SEDmodel\n",
    "import os\n",
    "import pandas as pd\n",
    "import pickle"
   ]
  },
  {
   "cell_type": "code",
   "execution_count": 2,
   "id": "85d808d5-fad7-4bd8-991b-dd54adbb65df",
   "metadata": {},
   "outputs": [],
   "source": [
    "filter_yaml = \"/root/partiiiproject/bayesn-filters/bayesn-filters/filters.yaml\"\n",
    "supernova_name = \"sn2002cv\"\n",
    "dust_laws = [\"F19\", \"G23\", \"F99\"]\n",
    "supernova_file = \"/root/partiiiproject/Archive/\"+supernova_name+\".dat\""
   ]
  },
  {
   "cell_type": "code",
   "execution_count": 3,
   "id": "48689a55-bfc2-435e-a4c4-a8ae37ec9700",
   "metadata": {},
   "outputs": [],
   "source": [
    "#Get SN info from the original data file\n",
    "meta, lcdata = sncosmo.read_snana_ascii(supernova_file, default_tablename='OBS')\n",
    "lcdata = lcdata['OBS'].to_pandas()\n",
    "\n",
    "#Extract useful properties from data file used in fits and simulation\n",
    "bands = np.unique(lcdata['FLT'])\n",
    "z = meta['REDSHIFT_FINAL']\n",
    "ebv_mw = meta['MWEBV']\n",
    "    \n",
    "#Get the observed times covered by the model, so in range [-10,40]\n",
    "t_obs = lcdata['MJD'] - meta['SEARCH_PEAKMJD']\n",
    "t_obs = t_obs[(-10<=t_obs) & (t_obs<=40)]\n",
    "t_obs = np.unique(t_obs)"
   ]
  },
  {
   "cell_type": "code",
   "execution_count": 7,
   "id": "d4bc5e11-9ed0-4802-81df-0d54a7bdead1",
   "metadata": {},
   "outputs": [
    {
     "name": "stdout",
     "output_type": "stream",
     "text": [
      "Current devices: [CpuDevice(id=0)]\n",
      "Currently working in /root/partiiiproject\n",
      "Loading built-in model W22_model\n",
      "Loading built-in reddening law F19\n",
      "Getting best fit light curves from chains...\n"
     ]
    },
    {
     "name": "stderr",
     "output_type": "stream",
     "text": [
      "100%|█████████████████████████████████████████████████████████████████████████████████████| 1/1 [00:00<00:00,  1.41it/s]\n"
     ]
    },
    {
     "name": "stdout",
     "output_type": "stream",
     "text": [
      "7.931130654917472e+230\n",
      "Current devices: [CpuDevice(id=0)]\n",
      "Currently working in /root/partiiiproject\n",
      "Loading built-in model W22_model\n",
      "Loading built-in reddening law G23\n",
      "Getting best fit light curves from chains...\n"
     ]
    },
    {
     "name": "stderr",
     "output_type": "stream",
     "text": [
      "100%|█████████████████████████████████████████████████████████████████████████████████████| 1/1 [00:00<00:00,  2.02it/s]\n"
     ]
    },
    {
     "name": "stdout",
     "output_type": "stream",
     "text": [
      "1.8394824102329997e+212\n",
      "Current devices: [CpuDevice(id=0)]\n",
      "Currently working in /root/partiiiproject\n",
      "Loading built-in model W22_model\n",
      "Loading built-in reddening law F99\n",
      "Getting best fit light curves from chains...\n"
     ]
    },
    {
     "name": "stderr",
     "output_type": "stream",
     "text": [
      "100%|█████████████████████████████████████████████████████████████████████████████████████| 1/1 [00:00<00:00,  3.14it/s]"
     ]
    },
    {
     "name": "stdout",
     "output_type": "stream",
     "text": [
      "2.9770102357564195e+260\n"
     ]
    },
    {
     "name": "stderr",
     "output_type": "stream",
     "text": [
      "\n"
     ]
    }
   ],
   "source": [
    "for dust_law_index, dust_law in enumerate(dust_laws):\n",
    "    try:\n",
    "            sampleChainsDir = \"DustLawsFitOfAllSamples/\"+supernova_name + dust_law + \"_chains.pkl\"\n",
    "    except FileNotFoundError:\n",
    "        continue\n",
    "    try:\n",
    "        #Load the chains with pickle\n",
    "        with open(sampleChainsDir, 'rb') as file:\n",
    "            chains = pickle.load(file)\n",
    "    except FileNotFoundError:\n",
    "        continue\n",
    "\n",
    "    model = SEDmodel(load_model='W22_model', filter_yaml = filter_yaml, load_redlaw=dust_law)\n",
    "    try:\n",
    "        flux_grid, chi_squared = model.get_flux_from_chains(t_obs, bands, sampleChainsDir, z, ebv_mw, mag=False, num_samples=10, observations_path = supernova_file)\n",
    "        flux, flux_err = flux_grid.mean(axis=(0, 1)), flux_grid.std(axis=(0, 1))\n",
    "    except ValueError:\n",
    "        continue\n",
    "    for band_index, band in enumerate(bands):\n",
    "        print(np.mean(chi_squared[chi_squared>0 and chi_squared[]]))"
   ]
  },
  {
   "cell_type": "code",
   "execution_count": null,
   "id": "38d95424-f27a-4778-8d22-9579340c0998",
   "metadata": {},
   "outputs": [],
   "source": []
  }
 ],
 "metadata": {
  "kernelspec": {
   "display_name": "Python 3 (ipykernel)",
   "language": "python",
   "name": "python3"
  },
  "language_info": {
   "codemirror_mode": {
    "name": "ipython",
    "version": 3
   },
   "file_extension": ".py",
   "mimetype": "text/x-python",
   "name": "python",
   "nbconvert_exporter": "python",
   "pygments_lexer": "ipython3",
   "version": "3.11.0"
  }
 },
 "nbformat": 4,
 "nbformat_minor": 5
}
