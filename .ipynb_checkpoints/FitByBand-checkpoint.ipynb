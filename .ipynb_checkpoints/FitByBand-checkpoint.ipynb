{
 "cells": [
  {
   "cell_type": "markdown",
   "id": "ad59487e-e2df-47be-90aa-5a272b20b550",
   "metadata": {},
   "source": [
    "# Fits by Band - with Chi Squared plotted underneath"
   ]
  },
  {
   "cell_type": "code",
   "execution_count": 1,
   "id": "3ecb1f01-6f49-4aae-adde-33e5f9cb9516",
   "metadata": {},
   "outputs": [],
   "source": [
    "import numpy as np\n",
    "import matplotlib.pyplot as plt\n",
    "import sncosmo\n",
    "from bayesn import SEDmodel\n",
    "import os\n",
    "import pandas as pd\n",
    "import pickle"
   ]
  },
  {
   "cell_type": "markdown",
   "id": "eb650d4b-3254-4c1e-a56b-74a2da7a8ae2",
   "metadata": {},
   "source": [
    "## Load model"
   ]
  },
  {
   "cell_type": "code",
   "execution_count": null,
   "id": "3baef164-4e52-4f8e-97fd-6f9e2d4d2805",
   "metadata": {},
   "outputs": [
    {
     "name": "stderr",
     "output_type": "stream",
     "text": [
      "An NVIDIA GPU may be present on this machine, but a CUDA-enabled jaxlib is not installed. Falling back to cpu.\n"
     ]
    },
    {
     "name": "stdout",
     "output_type": "stream",
     "text": [
      "Current devices: [CpuDevice(id=0), CpuDevice(id=1), CpuDevice(id=2), CpuDevice(id=3)]\n",
      "Currently working in /root/partiiiproject\n",
      "Loading built-in model W22_F19_model\n"
     ]
    }
   ],
   "source": [
    "filter_yaml = \"/root/partiiiproject/bayesn-filters/bayesn-filters/filters.yaml\"\n",
    "model_name = \"W22_F19_model\"\n",
    "model = SEDmodel(load_model=model_name, filter_yaml = filter_yaml)"
   ]
  },
  {
   "cell_type": "markdown",
   "id": "a1050e5b-b118-4fb6-af09-18b9dd31d7a1",
   "metadata": {},
   "source": [
    "## Choose which SN to look at and which dust laws"
   ]
  },
  {
   "cell_type": "code",
   "execution_count": null,
   "id": "6a83105b-57f0-4a50-b0cc-857cb983f02e",
   "metadata": {},
   "outputs": [],
   "source": [
    "supernova_name = \"sn2007ai\"\n",
    "dust_laws = [\"F19\", \"G23\", \"F99\"]\n",
    "supernova_file = \"/root/partiiiproject/Archive/\"+supernova_name+\".dat\""
   ]
  },
  {
   "cell_type": "markdown",
   "id": "dd463593-58a8-4c60-91e9-1a848b76373d",
   "metadata": {},
   "source": [
    "## Load observational data"
   ]
  },
  {
   "cell_type": "code",
   "execution_count": null,
   "id": "c968544f-270c-472e-b978-559baf22e23e",
   "metadata": {},
   "outputs": [],
   "source": [
    "#Get SN info from the original data file\n",
    "meta, lcdata = sncosmo.read_snana_ascii(supernova_file, default_tablename='OBS')\n",
    "lcdata = lcdata['OBS'].to_pandas()\n",
    "\n",
    "#Extract useful properties from data file used in fits and simulation\n",
    "bands = np.unique(lcdata['FLT'])\n",
    "z = meta['REDSHIFT_FINAL']\n",
    "ebv_mw = meta['MWEBV']\n",
    "    \n",
    "#Get the observed times covered by the model, so in range [-10,40]\n",
    "t_obs = lcdata['MJD'] - meta['SEARCH_PEAKMJD']\n",
    "t_obs = t_obs[(-10<=t_obs) & (t_obs<=40)]\n",
    "t_obs = np.unique(t_obs)"
   ]
  },
  {
   "cell_type": "markdown",
   "id": "84b3b2ec-7e3c-4a7f-9838-462f9eceff2a",
   "metadata": {},
   "source": [
    "## Calculate the Chi squared statistic for each value"
   ]
  },
  {
   "cell_type": "code",
   "execution_count": null,
   "id": "27851286-0ecb-4e5b-a3a5-69b739f93d4e",
   "metadata": {},
   "outputs": [],
   "source": [
    "#Have Chi Squared a 3D matrix\n",
    "methods = [\"fit\"] # [\"fit\", \"sim\"]\n",
    "chi_squared = np.zeros(len(lcdata)*len(dust_laws)*len(methods))\n",
    "chi_squared =np.reshape(chi_squared, [len(lcdata),len(dust_laws),len(methods)])\n",
    "\n",
    "method_dust = [\"simF99\",\"simG23\",\"simF19\",\"fitF99\",\"fitG23\",\"fitF19\"]\n",
    "fluxesdf = pd.DataFrame(columns = bands, index = method_dust)\n",
    "\n",
    "\n",
    "for method in methods:\n",
    "    method_index = methods.index(method)\n",
    "    #Repeat through each dust law for that SN\n",
    "    for dust_law in dust_laws:\n",
    "        dust_law_index = dust_laws.index(dust_law)\n",
    "        #Define directory where we should have our fits saved\n",
    "        try:\n",
    "            sampleChainsDir = \"DustLawsFitOfAllSamples\"+model_name+\"/\"+supernova_name + dust_law + \"_chains.pkl\"\n",
    "            sampleSummaryDir = \"DustLawsFitOfAllSamples\"+model_name+\"/\"+supernova_name + dust_law + \"_fit_summary.csv\"\n",
    "\n",
    "        except FileNotFoundError:\n",
    "            continue\n",
    "        #Check we have generated fits for this SN, otherwise move onto next SN\n",
    "        try:\n",
    "            #Load the chains with pickle\n",
    "            with open(sampleChainsDir, 'rb') as file:\n",
    "                chains = pickle.load(file)\n",
    "        except FileNotFoundError:\n",
    "            continue\n",
    "\n",
    "        model = SEDmodel(load_model=model_name, filter_yaml = filter_yaml, load_redlaw=dust_law)\n",
    "        \n",
    "        if method == \"sim\":\n",
    "            #Number of simulations to load\n",
    "            N=1\n",
    "            #Get values for simulation directly from chains, taking the mean\n",
    "            fit_mu = np.mean(chains['mu'])\n",
    "            fit_theta = np.mean(chains['theta'])\n",
    "            fit_RV = np.mean(chains['RV'])\n",
    "            fit_AV = np.mean(chains['AV'])\n",
    "            fit_tmax = np.mean(chains['tmax'])\n",
    "            fit_delM = np.mean(chains['delM'])\n",
    "            \n",
    "            #For epsilon we need some reshaping to get it in the correct form\n",
    "            fit_eps_inner = chains['eps']\n",
    "            fit_eps_inner = np.reshape(fit_eps_inner, (4, 250, 9, 6), order='F')\n",
    "            fit_eps = np.zeros((4, 250, 11, 6))\n",
    "            fit_eps[:,:,1:-1,:] = fit_eps_inner\n",
    "            fit_eps = fit_eps.mean(axis = 1)\n",
    "            fit_eps = fit_eps.mean(axis = 0)\n",
    "            fit_eps = np.reshape(fit_eps, (1 , 11, 6))\n",
    "\n",
    "            #Run simulation and get flux values\n",
    "            try:\n",
    "                sim = model.simulate_light_curve(t_obs, N, bands, mu=fit_mu, theta=fit_theta,  z=z, ebv_mw=ebv_mw, mag=False, write_to_files=False, AV=fit_AV, RV=fit_RV, redlaw=dust_law, tmax=fit_tmax, eps=fit_eps)\n",
    "            except ValueError:\n",
    "                continue\n",
    "            flux, flux_err, params = sim\n",
    "            flux = np.reshape(flux,(len(bands),len(t_obs)))\n",
    "\n",
    "        if method == \"fit\":\n",
    "            #Use get flux from chains to get the best fit\n",
    "            try:\n",
    "                flux_grid = model.get_flux_from_chains(t_obs, bands, sampleChainsDir, z, ebv_mw, mag=False, num_samples=10)\n",
    "                flux, flux_err = flux_grid.mean(axis=(0, 1)), flux_grid.std(axis=(0, 1))\n",
    "            except ValueError:\n",
    "                continue\n",
    "        \n",
    "        for i, entry in lcdata.iterrows():\n",
    "            #Check the time is in the range the model covers\n",
    "            if (entry.MJD-meta['SEARCH_PEAKMJD'] in t_obs) == False:\n",
    "                continue\n",
    "            #Ignore U bands\n",
    "            if entry.FLT in ['u_CSP', 'U']:\n",
    "                continue\n",
    "            #Find the location of the flux we want\n",
    "            index_t_obs = np.where(t_obs == (entry.MJD-meta['SEARCH_PEAKMJD']))\n",
    "            index_band = np.where(bands == entry.FLT)\n",
    "            #Calculate the chisquared statistic at that observation\n",
    "            Exp = flux[index_band, index_t_obs]\n",
    "            Exp = Exp[0]\n",
    "            Exp_err = flux_err[index_band, index_t_obs]\n",
    "            Exp_err = Exp_err[0]\n",
    "            Obs = entry.FLUXCAL\n",
    "            ObsErr = entry.FLUXCALERR\n",
    "            chi_squared_calc = ((Obs-Exp)**2)/(ObsErr**2+Exp_err**2)\n",
    "            #Update entry for chi squared in the correct position\n",
    "            if chi_squared_calc.size != 0:\n",
    "                chi_squared[i, dust_law_index, method_index] = chi_squared_calc[0]\n",
    "            \n",
    "            for band in bands:\n",
    "                band_index = np.where(bands==band)\n",
    "                fluxesdf.at[method+dust_law, band] = flux[band_index,:]\n",
    "            \n",
    "              "
   ]
  },
  {
   "cell_type": "markdown",
   "id": "12e27fc5-2dea-418d-a6fb-56556e0dd230",
   "metadata": {},
   "source": [
    "## Plot graphs"
   ]
  },
  {
   "cell_type": "code",
   "execution_count": null,
   "id": "c3eb5419-3bd5-4936-9636-6ca45b52d5e8",
   "metadata": {},
   "outputs": [],
   "source": [
    "cs = ['g', 'r', 'b', 'c', 'm', 'y', 'k','g', 'y', 'b', 'c', 'm','k','g', 'r', 'b', 'c', 'm', 'y', 'k','g', 'y', 'b', 'c', 'm']\n",
    "plot_t = t_obs + meta['SEARCH_PEAKMJD']\n",
    "mean_per_band = pd.DataFrame(columns = dust_laws, index=bands)\n",
    "\n",
    "for b_ind, b in enumerate(bands):\n",
    "    \n",
    "    if b == 'u_CSP' or b == 'U':\n",
    "        continue\n",
    "    \n",
    "    #Observed\n",
    "    b_data = lcdata[lcdata.FLT == b]\n",
    "    #plt.errorbar(b_data.MJD, b_data.FLUXCAL, b_data.FLUXCALERR, fmt=f'{cs[b_ind]}x', label=b)\n",
    "\n",
    "    #From fit\n",
    "    #plt.plot(plot_t, fit[b_ind, :], color=cs[b_ind])\n",
    "    #plt.fill_between(plot_t, fit[b_ind, :] - fit_err[b_ind, :], fit[b_ind, :] + fit_err[b_ind, :], alpha=0.3, color=cs[b_ind])\n",
    "\n",
    "    #From simulation \n",
    "    #plt.plot(t_obs+meta['SEARCH_PEAKMJD'], flux[b_ind,:], color=cs[b_ind], linestyle='dotted')\n",
    "\n",
    "    figure, axis = plt.subplots(2, 1)\n",
    "\n",
    "    axis[0].errorbar(b_data.MJD, b_data.FLUXCAL, b_data.FLUXCALERR, fmt=f'{cs[6]}x', label=\"Observations\")\n",
    "    axis[0].set_xlim([meta['SEARCH_PEAKMJD']-10, meta['SEARCH_PEAKMJD']+40])\n",
    "    axis[0].set_xlabel('MJD')\n",
    "    axis[0].set_ylabel('FLUXCAL')\n",
    "    axis[0].set_title(rf'Supernova '+supernova_name+' with W22 Model '+dust_law+' Dust Law in the '+b+\" band\")\n",
    "\n",
    "    #Plot all the simulations and fitted\n",
    "    for method in methods:\n",
    "        for dust_law_index, dust_law in enumerate(dust_laws):\n",
    "            dust_law_index = dust_laws.index(dust_law)\n",
    "            flux_to_plot = np.reshape(fluxesdf.at[method+dust_law, b],len(plot_t))\n",
    "            axis[0].plot(plot_t, flux_to_plot, label = method+\" \"+dust_law, color=cs[dust_law_index])\n",
    "    axis[0].legend(loc='upper right', fontsize=\"20\")\n",
    "    \n",
    "    indexes_for_bands = lcdata.index[lcdata.FLT == b].tolist()\n",
    "    for method_index, method in enumerate(methods):\n",
    "        for dust_law_index, dust_law in enumerate(dust_laws):\n",
    "            axis[1].plot(b_data.MJD, chi_squared[indexes_for_bands, dust_law_index, method_index], label = method+\" \"+dust_law, color=cs[dust_law_index])\n",
    "            mean_per_band.at[b, dust_law] = np.mean(chi_squared[indexes_for_bands, dust_law_index, method_index])\n",
    "    axis[1].set_xlabel('MJD')\n",
    "    axis[1].set_ylabel('Chi Squared')\n",
    "    axis[1].set_xlim([meta['SEARCH_PEAKMJD']-10,meta['SEARCH_PEAKMJD']+40])\n",
    "    axis[1].legend(loc='upper right', fontsize=\"20\")\n",
    "\n",
    "    plt.subplots_adjust(left=0, right=3, bottom=0, top=3, wspace=0.2, hspace=0.4)\n",
    "    figure.savefig(\"/root/partiiiproject/ChiSquaredBandPlots/\"+supernova_name+dust_law+b+\"bandChiSquaredComparison.png\", bbox_inches='tight') \n",
    "    figure.show()\n",
    "   "
   ]
  },
  {
   "cell_type": "code",
   "execution_count": null,
   "id": "00423dcc-4eba-4551-a0d9-013610bbab76",
   "metadata": {},
   "outputs": [],
   "source": [
    "\n",
    "print(mean_per_band)\n",
    "print(\"F99 AV is \" + str(np.mean(chains['AV'])))\n",
    "print(mean_per_band.mean())"
   ]
  },
  {
   "cell_type": "code",
   "execution_count": null,
   "id": "9a4adfe9-6247-4830-aa7c-1dcb1bcd34bb",
   "metadata": {},
   "outputs": [],
   "source": []
  }
 ],
 "metadata": {
  "kernelspec": {
   "display_name": "Python 3 (ipykernel)",
   "language": "python",
   "name": "python3"
  },
  "language_info": {
   "codemirror_mode": {
    "name": "ipython",
    "version": 3
   },
   "file_extension": ".py",
   "mimetype": "text/x-python",
   "name": "python",
   "nbconvert_exporter": "python",
   "pygments_lexer": "ipython3",
   "version": "3.11.0"
  }
 },
 "nbformat": 4,
 "nbformat_minor": 5
}
