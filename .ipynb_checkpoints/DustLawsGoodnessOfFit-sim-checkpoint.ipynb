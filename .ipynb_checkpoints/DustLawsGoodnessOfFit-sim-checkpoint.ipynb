{
 "cells": [
  {
   "cell_type": "markdown",
   "id": "3a0484e9-842f-4854-a7ae-02df291501ee",
   "metadata": {},
   "source": [
    "# Looking at the goodness of fit"
   ]
  },
  {
   "cell_type": "code",
   "execution_count": 1,
   "id": "c59c4015-d5dc-4590-b7e2-b7fa6ebc255a",
   "metadata": {},
   "outputs": [],
   "source": [
    "import numpy as np\n",
    "import matplotlib.pyplot as plt\n",
    "import sncosmo\n",
    "from bayesn import SEDmodel\n",
    "import os\n",
    "import pandas as pd\n",
    "import pickle"
   ]
  },
  {
   "cell_type": "markdown",
   "id": "cb357d74-a055-4e8c-8740-26ff7907e895",
   "metadata": {},
   "source": [
    "## Make a list of SN"
   ]
  },
  {
   "cell_type": "code",
   "execution_count": 2,
   "id": "ec1bd5b2-b871-4d6f-b80b-d83f9e4083f3",
   "metadata": {},
   "outputs": [],
   "source": [
    "directory = os.fsencode(\"/root/partiiiproject/Archive\")\n",
    "supernovae_names = [\"sn2006hb\"]\n",
    "for file in os.listdir(directory):\n",
    "    filename = os.fsdecode(file)\n",
    "    if filename.endswith(\".dat\"): \n",
    "        supernovae_names.append(filename[:-4])\n",
    "        continue\n",
    "    else:\n",
    "        continue"
   ]
  },
  {
   "cell_type": "markdown",
   "id": "1e28dc10-8358-4ea8-ac37-d45112905f90",
   "metadata": {},
   "source": [
    "## Load the W22 Model"
   ]
  },
  {
   "cell_type": "markdown",
   "id": "9f22774a-5d1c-4e61-a795-d71101a09787",
   "metadata": {},
   "source": [
    "W22 model works with optical and NIR bands"
   ]
  },
  {
   "cell_type": "code",
   "execution_count": null,
   "id": "1dc482f9-27f4-493b-935c-5fb0cb488099",
   "metadata": {},
   "outputs": [
    {
     "name": "stderr",
     "output_type": "stream",
     "text": [
      "An NVIDIA GPU may be present on this machine, but a CUDA-enabled jaxlib is not installed. Falling back to cpu.\n"
     ]
    },
    {
     "name": "stdout",
     "output_type": "stream",
     "text": [
      "Current devices: [CpuDevice(id=0), CpuDevice(id=1), CpuDevice(id=2), CpuDevice(id=3)]\n",
      "Currently working in /root/partiiiproject\n",
      "Loading built-in model W22_model\n"
     ]
    }
   ],
   "source": [
    "model = SEDmodel(load_model='W22_model')"
   ]
  },
  {
   "cell_type": "markdown",
   "id": "57069a03-219d-4133-869a-18f8556c30d7",
   "metadata": {},
   "source": [
    "## Define which SN we are looking at and which bands"
   ]
  },
  {
   "cell_type": "code",
   "execution_count": null,
   "id": "3311f1c1-ee1c-4638-8588-675bc186ce42",
   "metadata": {},
   "outputs": [],
   "source": [
    "supernova_name = \"sn2009I\"\n",
    "dust_law = \"F19\"\n",
    "supernova_file = \"/root/partiiiproject/Archive/\"+supernova_name+\".dat\"\n"
   ]
  },
  {
   "cell_type": "markdown",
   "id": "49b586eb-3c1f-48fb-a539-2249332ca3bb",
   "metadata": {},
   "source": [
    "## Load Observational Data"
   ]
  },
  {
   "cell_type": "markdown",
   "id": "e7406301-b3d3-410e-bab6-f218b0bf9ca7",
   "metadata": {},
   "source": [
    "We read the observational data and its assosciated uncertainty "
   ]
  },
  {
   "cell_type": "code",
   "execution_count": null,
   "id": "46f6c3c5-6d08-4b12-abd1-d829460b53fb",
   "metadata": {},
   "outputs": [],
   "source": [
    "meta, lcdata = sncosmo.read_snana_ascii(supernova_file, default_tablename='OBS')\n",
    "lcdata = lcdata['OBS'].to_pandas()"
   ]
  },
  {
   "cell_type": "markdown",
   "id": "413db1ff-671d-456b-bfae-b3299e860e8e",
   "metadata": {},
   "source": [
    "## Use chains to get Fits to plot"
   ]
  },
  {
   "cell_type": "markdown",
   "id": "2167c8c7-a8d5-4bcf-afdf-3ecbacfd771a",
   "metadata": {},
   "source": [
    "Choose the bands we want to plot and the number of days on either side of the peak."
   ]
  },
  {
   "cell_type": "code",
   "execution_count": null,
   "id": "fe50aa59-3d4e-41fd-a494-d25666259e90",
   "metadata": {},
   "outputs": [],
   "source": [
    "\n",
    "t_obs = lcdata['MJD'] - meta['SEARCH_PEAKMJD']\n",
    "bands = np.unique(lcdata['FLT']) #['g_CSP', 'r_CSP', 'i_CSP', 'B_CSP', 'V_CSP', 'Y_RC', 'J_RC1', 'H_RC']\n",
    "z = meta['REDSHIFT_FINAL']\n",
    "ebv_mw = meta['MWEBV']\n",
    "\n",
    "sampleChainsDir = \"DustLawsFitOfAllSamples/\"+supernova_name + dust_law + \"_chains.pkl\"\n",
    "sampleSummaryDir = \"DustLawsFitOfAllSamples/\"+supernova_name + dust_law + \"_fit_summary.csv\"\n",
    "\n",
    "samplesSummary = pd.read_csv(sampleSummaryDir)\n",
    "samplesSummary = samplesSummary.rename(index=samplesSummary['Unnamed: 0'])\n",
    "\n",
    "t_obs = np.unique(t_obs)"
   ]
  },
  {
   "cell_type": "code",
   "execution_count": null,
   "id": "55ef5901-f8a9-42db-8a24-1c1df23f88f9",
   "metadata": {},
   "outputs": [],
   "source": [
    "with open(sampleChainsDir, 'rb') as file:\n",
    "    chains = pickle.load(file)"
   ]
  },
  {
   "cell_type": "markdown",
   "id": "37175a1f-a660-4f04-a83b-bfa3914c72db",
   "metadata": {},
   "source": [
    "## Simulate Light Curves using parameters from fit"
   ]
  },
  {
   "cell_type": "code",
   "execution_count": null,
   "id": "038db239-aeac-4bb6-8ddb-084a4464be41",
   "metadata": {},
   "outputs": [],
   "source": [
    "N=1\n",
    "fit_mu = np.mean(chains['mu'])\n",
    "fit_theta = np.mean(chains['theta'])\n",
    "fit_RV = np.mean(chains['RV'])\n",
    "fit_AV = np.mean(chains['AV'])\n",
    "fit_tmax = np.mean(chains['tmax'])\n",
    "fit_delM = np.mean(chains['delM'])\n",
    "\n",
    "fit_eps_inner = chains['eps']\n",
    "fit_eps_inner = np.reshape(fit_eps_inner, (4, 250, 9, 6), order='F')\n",
    "fit_eps = np.zeros((4, 250, 11, 6))\n",
    "fit_eps[:,:,1:-1,:] = fit_eps_inner\n",
    "\n",
    "fit_eps = fit_eps.mean(axis = 1)\n",
    "fit_eps = fit_eps.mean(axis = 0)\n",
    "fit_eps = np.reshape(fit_eps, (1 , 11, 6))\n",
    "print(fit_eps.shape)\n",
    "\n",
    "print(model.l_knots.shape[0])\n",
    "print(model.tau_knots.shape[0])\n",
    "\n",
    "sim = model.simulate_light_curve(t_obs, N, bands, mu=fit_mu, theta=fit_theta,  z=z, ebv_mw=ebv_mw, mag=False, write_to_files=False, AV=fit_AV, RV=fit_RV, redlaw=dust_law, tmax=fit_tmax, eps=fit_eps)\n",
    "flux, flux_err, params = sim\n",
    "\n",
    "flux = np.reshape(flux,(len(bands),len(t_obs)))"
   ]
  },
  {
   "cell_type": "markdown",
   "id": "6cf4cd4b-dcf8-4070-9e7b-903763733cb1",
   "metadata": {},
   "source": [
    "## Compare Simulation and fitted light curve"
   ]
  },
  {
   "cell_type": "code",
   "execution_count": null,
   "id": "5adcafba-d5ab-4f3f-ab84-b1e1a9c28418",
   "metadata": {},
   "outputs": [],
   "source": [
    "\n",
    "\n",
    "flux_grid = model.get_flux_from_chains(t_obs, bands, sampleChainsDir, z, ebv_mw, mag=False, num_samples=10)\n",
    "fit, fit_err = flux_grid.mean(axis=(0, 1)), flux_grid.std(axis=(0, 1))\n"
   ]
  },
  {
   "cell_type": "markdown",
   "id": "aeb30d6d-2ceb-40e2-ae6a-1b62cf4786f7",
   "metadata": {},
   "source": [
    "## Plot Graphs"
   ]
  },
  {
   "cell_type": "code",
   "execution_count": null,
   "id": "8112fa83-ad1b-4535-9aaf-55a84cf5c286",
   "metadata": {},
   "outputs": [],
   "source": [
    "cs = ['k','g', 'r', 'b', 'c', 'm', 'y', 'k','g', 'y', 'b', 'c', 'm']\n",
    "plot_t = t_obs + meta['SEARCH_PEAKMJD']\n",
    "\n",
    "for b_ind, b in enumerate(bands):\n",
    "    \n",
    "    if b == 'u_CSP':\n",
    "        continue\n",
    "    #Observed\n",
    "    b_data = lcdata[lcdata.FLT == b]\n",
    "    plt.errorbar(b_data.MJD, b_data.FLUXCAL, b_data.FLUXCALERR, fmt=f'{cs[b_ind]}x', label=b)\n",
    "\n",
    "    #From fit\n",
    "    plt.plot(plot_t, fit[b_ind, :], color=cs[b_ind])\n",
    "    plt.fill_between(plot_t, fit[b_ind, :] - fit_err[b_ind, :], fit[b_ind, :] + fit_err[b_ind, :], alpha=0.3, color=cs[b_ind])\n",
    "\n",
    "    #From simulation \n",
    "    plt.plot(t_obs+meta['SEARCH_PEAKMJD'], flux[b_ind,:], color=cs[b_ind], linestyle='dotted')\n",
    "   \n",
    "plt.title(rf'Supernova '+supernova_name+' with W22 Model ' + dust_law +' Dust Law')\n",
    "plt.xlabel('MJD')\n",
    "plt.ylabel('FLUXCAL')\n",
    "plt.legend()\n",
    "#plt.figtext(0.5, .8, rf\"Mean $A_v$ =  {np.mean(samples['AV']):.2f}\")\n",
    "#plt.figtext(0.5, .75, rf\"Std $A_v$ =  {np.std(samples['AV']):.2f}\")\n",
    "#plt.figtext(0.5, .7, rf\"Mean $R_v$ =  {np.mean(samples['RV']):.2f}\")\n",
    "#plt.figtext(0.5, .65, rf\"Std $A_v$ =  {np.std(samples['RV']):.2f}\")\n",
    "#plt.savefig(\"/root/partiiiproject/DustLawsGeneralGraphs/simulation\"+supernova_name+dust_law+\".png\", bbox_inches='tight') \n",
    "plt.show()"
   ]
  },
  {
   "cell_type": "markdown",
   "id": "af9056b5-9a77-4f51-b7ca-cb20b80f09d9",
   "metadata": {},
   "source": [
    "## Chi squared error"
   ]
  },
  {
   "cell_type": "code",
   "execution_count": null,
   "id": "09f777dd-8ccd-4902-8ba1-1829a08b9a24",
   "metadata": {},
   "outputs": [],
   "source": [
    "\"\"\"chi_squared = np.zeros(len(lcdata))\n",
    "for i, entry in lcdata.iterrows():\n",
    "    if entry.FLT == 'u_csp':\n",
    "        continue\n",
    "    index_t_obs = np.where(t_obs == (entry.MJD-meta['SEARCH_PEAKMJD']))\n",
    "    index_band = np.where(bands == entry.FLT)\n",
    "    Exp = flux[index_band, index_t_obs]\n",
    "    Obs = entry.FLUXCAL\n",
    "    chi_squared[i] = ((Obs-Exp)**2)/Exp\"\"\"\n",
    "\n",
    "chi_squared = np.zeros(len(lcdata))\n",
    "for i, entry in lcdata.iterrows():\n",
    "    if entry.FLT == 'u_CSP':\n",
    "        continue\n",
    "    index_t_obs = np.where(t_obs == (entry.MJD-meta['SEARCH_PEAKMJD']))\n",
    "    index_band = np.where(bands == entry.FLT)\n",
    "    Exp = flux[index_band, index_t_obs]\n",
    "    Exp = Exp[0]\n",
    "    Obs = entry.FLUXCAL\n",
    "    ObsErr = entry.FLUXCALERR\n",
    "    chi_squared_calc = ((Obs-Exp)**2)/(ObsErr**2)\n",
    "    chi_squared[i] = chi_squared_calc\n"
   ]
  },
  {
   "cell_type": "code",
   "execution_count": null,
   "id": "685939d0-cf4e-466d-9269-9297b28eed56",
   "metadata": {},
   "outputs": [],
   "source": [
    "print(np.mean(chi_squared))"
   ]
  },
  {
   "cell_type": "markdown",
   "id": "3f4d9111-7a51-40dd-9dc6-797cb2b56c64",
   "metadata": {},
   "source": [
    "## Plotting Chi Squared for each wavelength"
   ]
  },
  {
   "cell_type": "code",
   "execution_count": null,
   "id": "3735a083-36f4-42d7-af6d-dc52d974450e",
   "metadata": {},
   "outputs": [],
   "source": [
    "figure, axis = plt.subplots(4, 2) #Sub plots 3 rows and 2 columns\n",
    "for b_ind, b in enumerate(bands): #Loop through the bands given\n",
    "    b_data = lcdata[lcdata.FLT == b] #get the original data for the band (previous method took first character!)\n",
    "    axis[b_ind//2, b_ind%2].errorbar(b_data.MJD, b_data.FLUXCAL, b_data.FLUXCALERR, fmt=f'{cs[b_ind]}x', label=b)\n",
    "    axis[b_ind//2, b_ind%2].plot(plot_t, fit[b_ind, :], color=cs[b_ind])\n",
    "    axis[b_ind//2, b_ind%2].fill_between(plot_t, fit[b_ind, :] - fit_err[b_ind, :], fit[b_ind, :] + fit_err[b_ind, :], alpha=0.3, color=cs[b_ind])\n",
    "    axis[b_ind//2, b_ind%2].set_title(b)\n",
    "    axis[b_ind//2, b_ind%2].set_xlabel('MJD')\n",
    "    axis[b_ind//2, b_ind%2].set_ylabel('FLUXCAL')\n",
    "#axis.legend()\n",
    "plt.subplots_adjust(left=0, right=3, bottom=0, top=3, wspace=0.2, hspace=0.4)\n",
    "figure.show()"
   ]
  }
 ],
 "metadata": {
  "kernelspec": {
   "display_name": "Python 3 (ipykernel)",
   "language": "python",
   "name": "python3"
  },
  "language_info": {
   "codemirror_mode": {
    "name": "ipython",
    "version": 3
   },
   "file_extension": ".py",
   "mimetype": "text/x-python",
   "name": "python",
   "nbconvert_exporter": "python",
   "pygments_lexer": "ipython3",
   "version": "3.11.0"
  }
 },
 "nbformat": 4,
 "nbformat_minor": 5
}
