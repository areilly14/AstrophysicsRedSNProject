{
 "cells": [
  {
   "cell_type": "markdown",
   "id": "3a0484e9-842f-4854-a7ae-02df291501ee",
   "metadata": {},
   "source": [
    "# Light curves with the W22 Model looking at Four Redder Supernovae and Uniform Rv Prior"
   ]
  },
  {
   "cell_type": "code",
   "execution_count": 1,
   "id": "c59c4015-d5dc-4590-b7e2-b7fa6ebc255a",
   "metadata": {},
   "outputs": [],
   "source": [
    "import numpy as np\n",
    "import matplotlib.pyplot as plt\n",
    "import sncosmo\n",
    "from bayesn import SEDmodel"
   ]
  },
  {
   "cell_type": "markdown",
   "id": "1e28dc10-8358-4ea8-ac37-d45112905f90",
   "metadata": {},
   "source": [
    "## Load the W22 Model"
   ]
  },
  {
   "cell_type": "markdown",
   "id": "9f22774a-5d1c-4e61-a795-d71101a09787",
   "metadata": {},
   "source": [
    "W22 model works with optical and NIR bands"
   ]
  },
  {
   "cell_type": "code",
   "execution_count": 2,
   "id": "1dc482f9-27f4-493b-935c-5fb0cb488099",
   "metadata": {},
   "outputs": [
    {
     "name": "stderr",
     "output_type": "stream",
     "text": [
      "An NVIDIA GPU may be present on this machine, but a CUDA-enabled jaxlib is not installed. Falling back to cpu.\n"
     ]
    },
    {
     "name": "stdout",
     "output_type": "stream",
     "text": [
      "Current devices: [CpuDevice(id=0), CpuDevice(id=1), CpuDevice(id=2), CpuDevice(id=3)]\n",
      "Currently working in /root/partiiiproject\n",
      "Loading built-in model W22_model\n"
     ]
    }
   ],
   "source": [
    "model = SEDmodel(load_model='W22_model')"
   ]
  },
  {
   "cell_type": "markdown",
   "id": "57b6f403-3c2a-4671-86c5-70d53c6ccec3",
   "metadata": {},
   "source": [
    "## Generate Fits"
   ]
  },
  {
   "cell_type": "markdown",
   "id": "c6daddfc-9688-4ab1-8e27-9752254d4338",
   "metadata": {},
   "source": [
    "We generate the fits for our supernova data.\n",
    "We are looking at four different supernova:\\\n",
    "CSPDR3_2005A.PKMJD.DAT\\\n",
    "CSPDR3_2006br.PKMJD.DAT\\\n",
    "sn2009I.Wstd_snana.dat\\\n",
    "sn2006X.Wstd_snana.dat"
   ]
  },
  {
   "cell_type": "code",
   "execution_count": 3,
   "id": "e251e73d-10e5-4b82-8884-bfcd3c3cbbe4",
   "metadata": {},
   "outputs": [
    {
     "name": "stderr",
     "output_type": "stream",
     "text": [
      "/root/miniforge3/envs/bayesn/lib/python3.11/site-packages/jax/_src/linear_util.py:193: UserWarning: Missing a plate statement for batch dimension -2 at site 'obs'. You can use `numpyro.util.format_shapes` utility to check shapes at all sites of your model.\n",
      "  ans = self.f(*args, **dict(self.params, **kwargs))\n"
     ]
    },
    {
     "data": {
      "application/vnd.jupyter.widget-view+json": {
       "model_id": "bb72e493f24c4a76b0002343e3e17a9a",
       "version_major": 2,
       "version_minor": 0
      },
      "text/plain": [
       "  0%|          | 0/500 [00:00<?, ?it/s]"
      ]
     },
     "metadata": {},
     "output_type": "display_data"
    },
    {
     "data": {
      "application/vnd.jupyter.widget-view+json": {
       "model_id": "7f63ab4e64934dff977e7bce1cbd8495",
       "version_major": 2,
       "version_minor": 0
      },
      "text/plain": [
       "  0%|          | 0/500 [00:00<?, ?it/s]"
      ]
     },
     "metadata": {},
     "output_type": "display_data"
    },
    {
     "data": {
      "application/vnd.jupyter.widget-view+json": {
       "model_id": "10c8a8874c674b05b465656cc92f15e4",
       "version_major": 2,
       "version_minor": 0
      },
      "text/plain": [
       "  0%|          | 0/500 [00:00<?, ?it/s]"
      ]
     },
     "metadata": {},
     "output_type": "display_data"
    },
    {
     "data": {
      "application/vnd.jupyter.widget-view+json": {
       "model_id": "3b998defccf240568e0ce345cc7b5b79",
       "version_major": 2,
       "version_minor": 0
      },
      "text/plain": [
       "  0%|          | 0/500 [00:00<?, ?it/s]"
      ]
     },
     "metadata": {},
     "output_type": "display_data"
    },
    {
     "name": "stdout",
     "output_type": "stream",
     "text": [
      "\n",
      "                     mean       std    median      5.0%     95.0%     n_eff     r_hat\n",
      "          AV[0]      2.26      0.04      2.26      2.20      2.32    457.53      1.01\n",
      "          Ds[0]     34.09      0.04     34.09     34.03     34.15    342.86      1.02\n",
      " eps_tform[0,0]      0.54      0.54      0.52     -0.28      1.45   1248.71      1.00\n",
      " eps_tform[0,1]      1.50      0.54      1.49      0.63      2.37   1269.74      1.00\n",
      " eps_tform[0,2]     -1.10      0.50     -1.10     -1.94     -0.34   1631.53      1.00\n",
      " eps_tform[0,3]     -1.06      0.26     -1.07     -1.47     -0.64   1626.45      1.00\n",
      " eps_tform[0,4]      2.78      0.29      2.79      2.29      3.24   1309.25      1.00\n",
      " eps_tform[0,5]     -0.62      0.96     -0.62     -2.12      1.02   1657.93      1.00\n",
      " eps_tform[0,6]      0.32      0.91      0.31     -1.05      1.95   1632.34      1.00\n",
      " eps_tform[0,7]     -0.42      0.80     -0.42     -1.79      0.90   1310.10      1.00\n",
      " eps_tform[0,8]      0.53      0.90      0.50     -1.11      1.85   1709.69      1.00\n",
      " eps_tform[0,9]      3.95      0.59      3.93      3.00      4.89    519.19      1.00\n",
      "eps_tform[0,10]      4.28      0.45      4.28      3.58      5.07    887.41      1.00\n",
      "eps_tform[0,11]     -3.85      0.39     -3.85     -4.44     -3.16    449.38      1.00\n",
      "eps_tform[0,12]     -1.60      0.39     -1.60     -2.27     -1.00    604.00      1.01\n",
      "eps_tform[0,13]      3.63      0.36      3.63      3.02      4.17    448.39      1.01\n",
      "eps_tform[0,14]     -0.08      0.83     -0.09     -1.55      1.18   1664.74      1.00\n",
      "eps_tform[0,15]     -0.79      0.57     -0.81     -1.74      0.15   1023.70      1.01\n",
      "eps_tform[0,16]     -0.64      0.66     -0.67     -1.72      0.43   1385.78      1.00\n",
      "eps_tform[0,17]      0.69      0.69      0.68     -0.45      1.85   1676.83      1.00\n",
      "eps_tform[0,18]      1.55      0.50      1.56      0.78      2.40    884.36      1.00\n",
      "eps_tform[0,19]      1.95      0.47      1.96      1.21      2.71    990.07      1.00\n",
      "eps_tform[0,20]     -0.86      0.42     -0.84     -1.53     -0.18    742.13      1.00\n",
      "eps_tform[0,21]      1.36      0.40      1.37      0.68      1.97    564.27      1.00\n",
      "eps_tform[0,22]     -0.09      0.30     -0.08     -0.61      0.33    596.99      1.01\n",
      "eps_tform[0,23]     -0.80      0.92     -0.80     -2.25      0.71   1824.85      1.00\n",
      "eps_tform[0,24]     -1.46      0.41     -1.44     -2.15     -0.82    931.28      1.00\n",
      "eps_tform[0,25]      1.88      0.37      1.87      1.31      2.48   1115.89      1.00\n",
      "eps_tform[0,26]      0.99      0.49      0.98      0.19      1.78    651.30      1.01\n",
      "eps_tform[0,27]     -0.81      0.59     -0.80     -1.80      0.16   1283.86      1.00\n",
      "eps_tform[0,28]      4.45      0.50      4.47      3.72      5.37   1228.62      1.00\n",
      "eps_tform[0,29]      1.56      0.44      1.56      0.87      2.31   1364.03      1.00\n",
      "eps_tform[0,30]     -4.54      0.44     -4.55     -5.26     -3.84    821.63      1.00\n",
      "eps_tform[0,31]     -1.22      0.36     -1.21     -1.79     -0.61    641.64      1.00\n",
      "eps_tform[0,32]      0.07      0.94      0.07     -1.35      1.70   2338.37      1.00\n",
      "eps_tform[0,33]     -1.45      0.47     -1.45     -2.13     -0.61    688.17      1.00\n",
      "eps_tform[0,34]     -0.13      0.37     -0.12     -0.70      0.51    439.74      1.01\n",
      "eps_tform[0,35]      1.62      0.52      1.62      0.72      2.44   1049.38      1.00\n",
      "eps_tform[0,36]     -1.44      0.71     -1.46     -2.52     -0.23   1342.91      1.00\n",
      "eps_tform[0,37]      0.01      0.62     -0.01     -0.97      1.03   1166.14      1.00\n",
      "eps_tform[0,38]      0.24      0.56      0.26     -0.57      1.21   1003.22      1.00\n",
      "eps_tform[0,39]      1.51      0.52      1.48      0.67      2.35    885.92      1.00\n",
      "eps_tform[0,40]     -1.40      0.42     -1.39     -2.09     -0.72   1259.11      1.00\n",
      "eps_tform[0,41]      0.54      0.98      0.57     -1.16      2.00   2230.21      1.00\n",
      "eps_tform[0,42]     -0.26      0.71     -0.22     -1.34      0.93   1774.22      1.00\n",
      "eps_tform[0,43]      1.44      0.79      1.47      0.17      2.79   1325.97      1.00\n",
      "eps_tform[0,44]     -0.10      0.88     -0.09     -1.61      1.21   1818.71      1.00\n",
      "eps_tform[0,45]     -0.22      1.05     -0.28     -1.87      1.53   2125.30      1.00\n",
      "eps_tform[0,46]     -0.63      0.89     -0.65     -2.20      0.70   1555.67      1.00\n",
      "eps_tform[0,47]     -1.51      0.82     -1.52     -2.73     -0.01   1356.89      1.00\n",
      "eps_tform[0,48]     -0.68      0.63     -0.67     -1.85      0.19   1443.25      1.00\n",
      "eps_tform[0,49]     -0.86      0.68     -0.84     -1.94      0.29   1735.83      1.00\n",
      "eps_tform[0,50]     -0.20      0.96     -0.21     -1.90      1.23   1948.85      1.00\n",
      "eps_tform[0,51]      0.32      1.01      0.35     -1.24      1.91   1380.78      1.00\n",
      "eps_tform[0,52]      0.16      0.94      0.16     -1.42      1.67   1931.75      1.00\n",
      "eps_tform[0,53]     -0.52      0.93     -0.52     -1.96      1.15   2900.44      1.00\n",
      "       theta[0]      0.42      0.12      0.42      0.22      0.59    457.29      1.01\n",
      "        tmax[0]      1.03      0.12      1.04      0.83      1.22   1290.15      1.00\n",
      "\n",
      "Number of divergences: 0\n"
     ]
    }
   ],
   "source": [
    "supernova_file = \"/root/partiiiproject/sn2009I.Wstd_snana.dat\"\n",
    "supernova_name = \"sn2009I\"\n",
    "mu_Rv_used = \"uniform\"\n",
    "#sigma_R=0.5\n",
    "#samples, sn_props = model.fit_from_file(supernova_file, mu_R=mu_Rv_used, sigma_R=sigma_R)\n",
    "#samples, sn_props = model.fit_from_file(supernova_file, RV='uniform')\n",
    "samples, sn_props = model.fit_from_file(supernova_file)"
   ]
  },
  {
   "cell_type": "markdown",
   "id": "49b586eb-3c1f-48fb-a539-2249332ca3bb",
   "metadata": {},
   "source": [
    "## Load Observational Data"
   ]
  },
  {
   "cell_type": "markdown",
   "id": "e7406301-b3d3-410e-bab6-f218b0bf9ca7",
   "metadata": {},
   "source": [
    "We read the observational data andits assosciated uncertainty "
   ]
  },
  {
   "cell_type": "code",
   "execution_count": 4,
   "id": "46f6c3c5-6d08-4b12-abd1-d829460b53fb",
   "metadata": {},
   "outputs": [],
   "source": [
    "meta, lcdata = sncosmo.read_snana_ascii(supernova_file, default_tablename='OBS')\n",
    "lcdata = lcdata['OBS'].to_pandas()"
   ]
  },
  {
   "cell_type": "markdown",
   "id": "413db1ff-671d-456b-bfae-b3299e860e8e",
   "metadata": {},
   "source": [
    "## Use chains to get Fits to plot"
   ]
  },
  {
   "cell_type": "markdown",
   "id": "2167c8c7-a8d5-4bcf-afdf-3ecbacfd771a",
   "metadata": {},
   "source": [
    "Choose the bands we want to plot and the number of days on either side of the peak."
   ]
  },
  {
   "cell_type": "code",
   "execution_count": 5,
   "id": "fe50aa59-3d4e-41fd-a494-d25666259e90",
   "metadata": {},
   "outputs": [
    {
     "name": "stdout",
     "output_type": "stream",
     "text": [
      "Getting best fit light curves from chains...\n"
     ]
    },
    {
     "name": "stderr",
     "output_type": "stream",
     "text": [
      "  0%|                                                                                                                                 | 0/1 [00:00<?, ?it/s]\n"
     ]
    },
    {
     "ename": "TypeError",
     "evalue": "'NoneType' object is not subscriptable",
     "output_type": "error",
     "traceback": [
      "\u001b[0;31m---------------------------------------------------------------------------\u001b[0m",
      "\u001b[0;31mTypeError\u001b[0m                                 Traceback (most recent call last)",
      "Cell \u001b[0;32mIn[5], line 4\u001b[0m\n\u001b[1;32m      2\u001b[0m bands \u001b[38;5;241m=\u001b[39m [\u001b[38;5;124m'\u001b[39m\u001b[38;5;124mg_CSP\u001b[39m\u001b[38;5;124m'\u001b[39m, \u001b[38;5;124m'\u001b[39m\u001b[38;5;124mr_CSP\u001b[39m\u001b[38;5;124m'\u001b[39m, \u001b[38;5;124m'\u001b[39m\u001b[38;5;124mi_CSP\u001b[39m\u001b[38;5;124m'\u001b[39m, \u001b[38;5;124m'\u001b[39m\u001b[38;5;124mB_CSP\u001b[39m\u001b[38;5;124m'\u001b[39m, \u001b[38;5;124m'\u001b[39m\u001b[38;5;124mV_CSP\u001b[39m\u001b[38;5;124m'\u001b[39m, \u001b[38;5;124m'\u001b[39m\u001b[38;5;124mY_RC\u001b[39m\u001b[38;5;124m'\u001b[39m, \u001b[38;5;124m'\u001b[39m\u001b[38;5;124mJ_RC1\u001b[39m\u001b[38;5;124m'\u001b[39m, \u001b[38;5;124m'\u001b[39m\u001b[38;5;124mH_RC\u001b[39m\u001b[38;5;124m'\u001b[39m] \u001b[38;5;66;03m#Bands being used for plot\u001b[39;00m\n\u001b[1;32m      3\u001b[0m z, ebv_mw \u001b[38;5;241m=\u001b[39m sn_props\n\u001b[0;32m----> 4\u001b[0m flux_grid \u001b[38;5;241m=\u001b[39m \u001b[43mmodel\u001b[49m\u001b[38;5;241;43m.\u001b[39;49m\u001b[43mget_flux_from_chains\u001b[49m\u001b[43m(\u001b[49m\u001b[43mt\u001b[49m\u001b[43m,\u001b[49m\u001b[43m \u001b[49m\u001b[43mbands\u001b[49m\u001b[43m,\u001b[49m\u001b[43m \u001b[49m\u001b[43msamples\u001b[49m\u001b[43m,\u001b[49m\u001b[43m \u001b[49m\u001b[43mz\u001b[49m\u001b[43m,\u001b[49m\u001b[43m \u001b[49m\u001b[43mebv_mw\u001b[49m\u001b[43m,\u001b[49m\u001b[43m \u001b[49m\u001b[43mmag\u001b[49m\u001b[38;5;241;43m=\u001b[39;49m\u001b[38;5;28;43;01mFalse\u001b[39;49;00m\u001b[43m,\u001b[49m\u001b[43m \u001b[49m\u001b[43mnum_samples\u001b[49m\u001b[38;5;241;43m=\u001b[39;49m\u001b[38;5;241;43m10\u001b[39;49m\u001b[43m)\u001b[49m\n",
      "File \u001b[0;32m~/miniforge3/envs/bayesn/lib/python3.11/site-packages/bayesn/bayesn_model.py:3507\u001b[0m, in \u001b[0;36mSEDmodel.get_flux_from_chains\u001b[0;34m(self, t, bands, chains, zs, ebv_mws, mag, num_samples, mean)\u001b[0m\n\u001b[1;32m   3503\u001b[0m eps \u001b[38;5;241m=\u001b[39m eps_full\u001b[38;5;241m.\u001b[39mat[:, \u001b[38;5;241m1\u001b[39m:\u001b[38;5;241m-\u001b[39m\u001b[38;5;241m1\u001b[39m, :]\u001b[38;5;241m.\u001b[39mset(eps)\n\u001b[1;32m   3504\u001b[0m del_M \u001b[38;5;241m=\u001b[39m chains[\u001b[38;5;124m'\u001b[39m\u001b[38;5;124mdelM\u001b[39m\u001b[38;5;124m'\u001b[39m][\u001b[38;5;241m.\u001b[39m\u001b[38;5;241m.\u001b[39m\u001b[38;5;241m.\u001b[39m, i]\u001b[38;5;241m.\u001b[39mflatten(order\u001b[38;5;241m=\u001b[39m\u001b[38;5;124m'\u001b[39m\u001b[38;5;124mF\u001b[39m\u001b[38;5;124m'\u001b[39m)\n\u001b[1;32m   3506\u001b[0m theta, AV, mu, eps, del_M, tmax, RV \u001b[38;5;241m=\u001b[39m theta[:num_samples], AV[:num_samples], mu[:num_samples], \\\n\u001b[0;32m-> 3507\u001b[0m                             eps[:num_samples, \u001b[38;5;241m.\u001b[39m\u001b[38;5;241m.\u001b[39m\u001b[38;5;241m.\u001b[39m], del_M[:num_samples, \u001b[38;5;241m.\u001b[39m\u001b[38;5;241m.\u001b[39m\u001b[38;5;241m.\u001b[39m], tmax[:num_samples, \u001b[38;5;241m.\u001b[39m\u001b[38;5;241m.\u001b[39m\u001b[38;5;241m.\u001b[39m], \u001b[43mRV\u001b[49m\u001b[43m[\u001b[49m\u001b[43m:\u001b[49m\u001b[43mnum_samples\u001b[49m\u001b[43m,\u001b[49m\u001b[43m \u001b[49m\u001b[38;5;241;43m.\u001b[39;49m\u001b[38;5;241;43m.\u001b[39;49m\u001b[38;5;241;43m.\u001b[39;49m\u001b[43m]\u001b[49m\n\u001b[1;32m   3509\u001b[0m \u001b[38;5;28;01mif\u001b[39;00m mean:\n\u001b[1;32m   3510\u001b[0m     theta, AV, mu, eps, del_M, tmax \u001b[38;5;241m=\u001b[39m theta\u001b[38;5;241m.\u001b[39mmean()[\u001b[38;5;28;01mNone\u001b[39;00m], AV\u001b[38;5;241m.\u001b[39mmean()[\u001b[38;5;28;01mNone\u001b[39;00m], mu\u001b[38;5;241m.\u001b[39mmean()[\u001b[38;5;28;01mNone\u001b[39;00m], eps\u001b[38;5;241m.\u001b[39mmean(axis\u001b[38;5;241m=\u001b[39m\u001b[38;5;241m0\u001b[39m)[\u001b[38;5;28;01mNone\u001b[39;00m], del_M\u001b[38;5;241m.\u001b[39mmean()[\u001b[38;5;28;01mNone\u001b[39;00m], tmax\u001b[38;5;241m.\u001b[39mmean()[\u001b[38;5;28;01mNone\u001b[39;00m]\n",
      "\u001b[0;31mTypeError\u001b[0m: 'NoneType' object is not subscriptable"
     ]
    }
   ],
   "source": [
    "t = np.arange(-15, 40, 1) #Days on either side of the peak\n",
    "bands = ['g_CSP', 'r_CSP', 'i_CSP', 'B_CSP', 'V_CSP', 'Y_RC', 'J_RC1', 'H_RC'] #Bands being used for plot\n",
    "z, ebv_mw = sn_props\n",
    "flux_grid = model.get_flux_from_chains(t, bands, samples, z, ebv_mw, mag=False, num_samples=10)"
   ]
  },
  {
   "cell_type": "markdown",
   "id": "3bc6f4a6-0f40-4bbc-b6e9-89664013a513",
   "metadata": {},
   "source": [
    "Turn the flux into an actual fit we can plot"
   ]
  },
  {
   "cell_type": "code",
   "execution_count": null,
   "id": "c0a78f75-5bce-4655-b22c-8389e0db0c32",
   "metadata": {},
   "outputs": [],
   "source": [
    "fit, fit_err = flux_grid.mean(axis=(0, 1)), flux_grid.std(axis=(0, 1))"
   ]
  },
  {
   "cell_type": "markdown",
   "id": "ca12025c-477c-40d1-8c77-2a3ad671fad5",
   "metadata": {},
   "source": [
    "## Plot a graph"
   ]
  },
  {
   "cell_type": "code",
   "execution_count": null,
   "id": "47bb0bca-8ad2-4e11-98a7-9c6f277d4ef7",
   "metadata": {},
   "outputs": [],
   "source": [
    "cs = ['g', 'r', 'b', 'c', 'm', 'y', 'k','g']\n",
    "plot_t = t + meta['SEARCH_PEAKMJD']\n",
    "for b_ind, b in enumerate(bands):\n",
    "    b_data = lcdata[lcdata.FLT == b]\n",
    "    plt.errorbar(b_data.MJD, b_data.FLUXCAL, b_data.FLUXCALERR, fmt=f'{cs[b_ind]}x', label=b)\n",
    "    plt.plot(plot_t, fit[b_ind, :], color=cs[b_ind])\n",
    "    plt.fill_between(plot_t, fit[b_ind, :] - fit_err[b_ind, :], fit[b_ind, :] + fit_err[b_ind, :], alpha=0.3, color=cs[b_ind])\n",
    "plt.title('Normal prior Rv '+supernova_name+' with W22 Model')\n",
    "plt.xlabel('MJD')\n",
    "plt.ylabel('FLUXCAL')\n",
    "plt.legend()\n",
    "plt.figtext(1, .6, \"Mean Av = \" + str(np.mean(samples['AV'])))\n",
    "plt.figtext(1, .55, \"Std Av = \" + str(np.std(samples['AV'])))\n",
    "plt.figtext(1, .5, \"Mean mu = \" + str(np.mean(samples['theta'])))\n",
    "plt.figtext(1, .45, \"Prior mean_Rv = \" + str(mu_Rv_used))\n",
    "#plt.figtext(1, .4, \"Prior std_Rv = \" + str(sigma_R))\n",
    "plt.figtext(1, .35, \"Fitted mean_Rv = \"+ str(np.mean(samples['RV'])))\n",
    "plt.figtext(1, .3, \"Fitted std_Rv = \"+ str(np.std(samples['RV'])))\n",
    "plt.savefig(\"/root/partiiiproject/RedderLightCurvesUniformW22Graphs/\"+supernova_name+\"NormalRv\" + str(mu_Rv_used) +\".png\", bbox_inches='tight') #save plot\n",
    "#plt.savefig(\"/root/partiiiproject/RedderLightCurvesUniformW22Graphs/\"+supernova_name+\"Fixed.png\", bbox_inches='tight')\n",
    "plt.show()"
   ]
  },
  {
   "cell_type": "markdown",
   "id": "e146c9ea-dc54-4b3a-b889-dd0fa6045f7f",
   "metadata": {},
   "source": [
    "Plotted as Sub-Plots"
   ]
  },
  {
   "cell_type": "code",
   "execution_count": null,
   "id": "67ea6069-e398-40b4-8a6f-047aefd35be2",
   "metadata": {},
   "outputs": [],
   "source": [
    "cs = ['g', 'r', 'b', 'c', 'm', 'y', 'k','g'] #colour scheme\n",
    "plot_t = t + meta['SEARCH_PEAKMJD'] #Time is based around the peak for the supernova\n",
    "figure, axis = plt.subplots(4, 2) #Sub plots 3 rows and 2 columns\n",
    "for b_ind, b in enumerate(bands): #Loop through the bands given\n",
    "    b_data = lcdata[lcdata.FLT == b] #get the original data for the band (previous method took first character!)\n",
    "    axis[b_ind//2, b_ind%2].errorbar(b_data.MJD, b_data.FLUXCAL, b_data.FLUXCALERR, fmt=f'{cs[b_ind]}x', label=b)\n",
    "    axis[b_ind//2, b_ind%2].plot(plot_t, fit[b_ind, :], color=cs[b_ind])\n",
    "    axis[b_ind//2, b_ind%2].fill_between(plot_t, fit[b_ind, :] - fit_err[b_ind, :], fit[b_ind, :] + fit_err[b_ind, :], alpha=0.3, color=cs[b_ind])\n",
    "    axis[b_ind//2, b_ind%2].set_title(b)\n",
    "    axis[b_ind//2, b_ind%2].set_xlabel('MJD')\n",
    "    axis[b_ind//2, b_ind%2].set_ylabel('FLUXCAL')\n",
    "#axis.legend()\n",
    "plt.subplots_adjust(left=0, right=3, bottom=0, top=3, wspace=0.2, hspace=0.4)\n",
    "figure.show()"
   ]
  },
  {
   "cell_type": "markdown",
   "id": "36487e5f-7f48-4c1d-9328-e0c6e46e3a2a",
   "metadata": {},
   "source": [
    "## Saving the plot to a file"
   ]
  },
  {
   "cell_type": "markdown",
   "id": "718b69d0-d4c4-4a16-b495-46b0deb66d7f",
   "metadata": {},
   "source": [
    "Saving Sub Plot"
   ]
  },
  {
   "cell_type": "code",
   "execution_count": null,
   "id": "19193628-9e8f-422d-af6c-e3b311617d41",
   "metadata": {},
   "outputs": [],
   "source": [
    "figure.savefig(\"/root/partiiiproject/RedderLightCurvesUniformW22Graphs/\"+supernova_name+\"NormalRv\" + str(mu_Rv_used)+ \"Combined.png\", bbox_inches='tight')"
   ]
  },
  {
   "cell_type": "markdown",
   "id": "d8f5ed91-cf0b-4d1e-b02b-8fa7f17c7d93",
   "metadata": {},
   "source": [
    "## A little look at Dust Values"
   ]
  },
  {
   "cell_type": "code",
   "execution_count": null,
   "id": "8585014e-7c1f-4c3c-a75d-6cdfebd787fe",
   "metadata": {},
   "outputs": [],
   "source": [
    "plt.hist(samples['AV'].flatten())"
   ]
  },
  {
   "cell_type": "code",
   "execution_count": null,
   "id": "6cba799a-e6ea-4002-bcf3-49760f30642d",
   "metadata": {},
   "outputs": [],
   "source": [
    "np.mean(samples['AV'])"
   ]
  },
  {
   "cell_type": "code",
   "execution_count": null,
   "id": "18f0728d-c46a-425f-b43c-130787944bb1",
   "metadata": {},
   "outputs": [],
   "source": [
    "np.std(samples['AV'])"
   ]
  },
  {
   "cell_type": "code",
   "execution_count": null,
   "id": "2b196f24-1bff-4a9a-a0fb-cee3a7b6ba1c",
   "metadata": {},
   "outputs": [],
   "source": [
    "np.mean(samples['theta'])"
   ]
  },
  {
   "cell_type": "code",
   "execution_count": null,
   "id": "fecd0264-b49a-491c-ab4d-9748e0652d71",
   "metadata": {},
   "outputs": [],
   "source": []
  },
  {
   "cell_type": "code",
   "execution_count": null,
   "id": "f1dc9dc0-12a1-482e-817a-de32a703b1d1",
   "metadata": {},
   "outputs": [],
   "source": []
  }
 ],
 "metadata": {
  "kernelspec": {
   "display_name": "Python 3 (ipykernel)",
   "language": "python",
   "name": "python3"
  },
  "language_info": {
   "codemirror_mode": {
    "name": "ipython",
    "version": 3
   },
   "file_extension": ".py",
   "mimetype": "text/x-python",
   "name": "python",
   "nbconvert_exporter": "python",
   "pygments_lexer": "ipython3",
   "version": "3.11.0"
  }
 },
 "nbformat": 4,
 "nbformat_minor": 5
}
